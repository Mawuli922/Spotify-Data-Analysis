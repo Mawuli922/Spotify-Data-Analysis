{
 "cells": [
  {
   "cell_type": "code",
   "execution_count": 5,
   "metadata": {},
   "outputs": [
    {
     "name": "stdout",
     "output_type": "stream",
     "text": [
      "Requirement already satisfied: chardet in c:\\users\\mawul\\anaconda3\\lib\\site-packages (3.0.4)\n",
      "Note: you may need to restart the kernel to use updated packages.\n"
     ]
    }
   ],
   "source": [
    "pip install chardet\n"
   ]
  },
  {
   "cell_type": "code",
   "execution_count": 37,
   "metadata": {},
   "outputs": [],
   "source": [
    "#import necessary modules\n",
    "import numpy as np\n",
    "import pandas as pd \n",
    "import chardet\n",
    "import plotly.express as px\n",
    "from datetime import datetime \n",
    "import re\n",
    "import seaborn as sns"
   ]
  },
  {
   "cell_type": "code",
   "execution_count": 8,
   "metadata": {},
   "outputs": [
    {
     "data": {
      "text/html": [
       "<div>\n",
       "<style scoped>\n",
       "    .dataframe tbody tr th:only-of-type {\n",
       "        vertical-align: middle;\n",
       "    }\n",
       "\n",
       "    .dataframe tbody tr th {\n",
       "        vertical-align: top;\n",
       "    }\n",
       "\n",
       "    .dataframe thead th {\n",
       "        text-align: right;\n",
       "    }\n",
       "</style>\n",
       "<table border=\"1\" class=\"dataframe\">\n",
       "  <thead>\n",
       "    <tr style=\"text-align: right;\">\n",
       "      <th></th>\n",
       "      <th>track_name</th>\n",
       "      <th>artist(s)_name</th>\n",
       "      <th>artist_count</th>\n",
       "      <th>released_year</th>\n",
       "      <th>released_month</th>\n",
       "      <th>released_day</th>\n",
       "      <th>in_spotify_playlists</th>\n",
       "      <th>in_spotify_charts</th>\n",
       "      <th>streams</th>\n",
       "      <th>in_apple_playlists</th>\n",
       "      <th>...</th>\n",
       "      <th>bpm</th>\n",
       "      <th>key</th>\n",
       "      <th>mode</th>\n",
       "      <th>danceability_%</th>\n",
       "      <th>valence_%</th>\n",
       "      <th>energy_%</th>\n",
       "      <th>acousticness_%</th>\n",
       "      <th>instrumentalness_%</th>\n",
       "      <th>liveness_%</th>\n",
       "      <th>speechiness_%</th>\n",
       "    </tr>\n",
       "  </thead>\n",
       "  <tbody>\n",
       "    <tr>\n",
       "      <th>0</th>\n",
       "      <td>Seven (feat. Latto) (Explicit Ver.)</td>\n",
       "      <td>Latto, Jung Kook</td>\n",
       "      <td>2</td>\n",
       "      <td>2023</td>\n",
       "      <td>7</td>\n",
       "      <td>14</td>\n",
       "      <td>553</td>\n",
       "      <td>147</td>\n",
       "      <td>141381703</td>\n",
       "      <td>43</td>\n",
       "      <td>...</td>\n",
       "      <td>125</td>\n",
       "      <td>B</td>\n",
       "      <td>Major</td>\n",
       "      <td>80</td>\n",
       "      <td>89</td>\n",
       "      <td>83</td>\n",
       "      <td>31</td>\n",
       "      <td>0</td>\n",
       "      <td>8</td>\n",
       "      <td>4</td>\n",
       "    </tr>\n",
       "    <tr>\n",
       "      <th>1</th>\n",
       "      <td>LALA</td>\n",
       "      <td>Myke Towers</td>\n",
       "      <td>1</td>\n",
       "      <td>2023</td>\n",
       "      <td>3</td>\n",
       "      <td>23</td>\n",
       "      <td>1474</td>\n",
       "      <td>48</td>\n",
       "      <td>133716286</td>\n",
       "      <td>48</td>\n",
       "      <td>...</td>\n",
       "      <td>92</td>\n",
       "      <td>C#</td>\n",
       "      <td>Major</td>\n",
       "      <td>71</td>\n",
       "      <td>61</td>\n",
       "      <td>74</td>\n",
       "      <td>7</td>\n",
       "      <td>0</td>\n",
       "      <td>10</td>\n",
       "      <td>4</td>\n",
       "    </tr>\n",
       "    <tr>\n",
       "      <th>2</th>\n",
       "      <td>vampire</td>\n",
       "      <td>Olivia Rodrigo</td>\n",
       "      <td>1</td>\n",
       "      <td>2023</td>\n",
       "      <td>6</td>\n",
       "      <td>30</td>\n",
       "      <td>1397</td>\n",
       "      <td>113</td>\n",
       "      <td>140003974</td>\n",
       "      <td>94</td>\n",
       "      <td>...</td>\n",
       "      <td>138</td>\n",
       "      <td>F</td>\n",
       "      <td>Major</td>\n",
       "      <td>51</td>\n",
       "      <td>32</td>\n",
       "      <td>53</td>\n",
       "      <td>17</td>\n",
       "      <td>0</td>\n",
       "      <td>31</td>\n",
       "      <td>6</td>\n",
       "    </tr>\n",
       "    <tr>\n",
       "      <th>3</th>\n",
       "      <td>Cruel Summer</td>\n",
       "      <td>Taylor Swift</td>\n",
       "      <td>1</td>\n",
       "      <td>2019</td>\n",
       "      <td>8</td>\n",
       "      <td>23</td>\n",
       "      <td>7858</td>\n",
       "      <td>100</td>\n",
       "      <td>800840817</td>\n",
       "      <td>116</td>\n",
       "      <td>...</td>\n",
       "      <td>170</td>\n",
       "      <td>A</td>\n",
       "      <td>Major</td>\n",
       "      <td>55</td>\n",
       "      <td>58</td>\n",
       "      <td>72</td>\n",
       "      <td>11</td>\n",
       "      <td>0</td>\n",
       "      <td>11</td>\n",
       "      <td>15</td>\n",
       "    </tr>\n",
       "    <tr>\n",
       "      <th>4</th>\n",
       "      <td>WHERE SHE GOES</td>\n",
       "      <td>Bad Bunny</td>\n",
       "      <td>1</td>\n",
       "      <td>2023</td>\n",
       "      <td>5</td>\n",
       "      <td>18</td>\n",
       "      <td>3133</td>\n",
       "      <td>50</td>\n",
       "      <td>303236322</td>\n",
       "      <td>84</td>\n",
       "      <td>...</td>\n",
       "      <td>144</td>\n",
       "      <td>A</td>\n",
       "      <td>Minor</td>\n",
       "      <td>65</td>\n",
       "      <td>23</td>\n",
       "      <td>80</td>\n",
       "      <td>14</td>\n",
       "      <td>63</td>\n",
       "      <td>11</td>\n",
       "      <td>6</td>\n",
       "    </tr>\n",
       "  </tbody>\n",
       "</table>\n",
       "<p>5 rows × 24 columns</p>\n",
       "</div>"
      ],
      "text/plain": [
       "                            track_name    artist(s)_name  artist_count  \\\n",
       "0  Seven (feat. Latto) (Explicit Ver.)  Latto, Jung Kook             2   \n",
       "1                                 LALA       Myke Towers             1   \n",
       "2                              vampire    Olivia Rodrigo             1   \n",
       "3                         Cruel Summer      Taylor Swift             1   \n",
       "4                       WHERE SHE GOES         Bad Bunny             1   \n",
       "\n",
       "   released_year  released_month  released_day  in_spotify_playlists  \\\n",
       "0           2023               7            14                   553   \n",
       "1           2023               3            23                  1474   \n",
       "2           2023               6            30                  1397   \n",
       "3           2019               8            23                  7858   \n",
       "4           2023               5            18                  3133   \n",
       "\n",
       "   in_spotify_charts    streams  in_apple_playlists  ...  bpm key   mode  \\\n",
       "0                147  141381703                  43  ...  125   B  Major   \n",
       "1                 48  133716286                  48  ...   92  C#  Major   \n",
       "2                113  140003974                  94  ...  138   F  Major   \n",
       "3                100  800840817                 116  ...  170   A  Major   \n",
       "4                 50  303236322                  84  ...  144   A  Minor   \n",
       "\n",
       "  danceability_%  valence_% energy_% acousticness_%  instrumentalness_%  \\\n",
       "0             80         89       83             31                   0   \n",
       "1             71         61       74              7                   0   \n",
       "2             51         32       53             17                   0   \n",
       "3             55         58       72             11                   0   \n",
       "4             65         23       80             14                  63   \n",
       "\n",
       "   liveness_%  speechiness_%  \n",
       "0           8              4  \n",
       "1          10              4  \n",
       "2          31              6  \n",
       "3          11             15  \n",
       "4          11              6  \n",
       "\n",
       "[5 rows x 24 columns]"
      ]
     },
     "execution_count": 8,
     "metadata": {},
     "output_type": "execute_result"
    }
   ],
   "source": [
    "#Read csv into dataframe and display first 5 rows \n",
    "with open('spotify-2023.csv','rb') as f:\n",
    "    result = chardet.detect(f.read())\n",
    "encoding = result['encoding']\n",
    "spotify_df = pd.read_csv('spotify-2023.csv', encoding = encoding)\n",
    "spotify_df.head()"
   ]
  },
  {
   "cell_type": "code",
   "execution_count": 9,
   "metadata": {},
   "outputs": [
    {
     "name": "stdout",
     "output_type": "stream",
     "text": [
      "<class 'pandas.core.frame.DataFrame'>\n",
      "RangeIndex: 953 entries, 0 to 952\n",
      "Data columns (total 24 columns):\n",
      " #   Column                Non-Null Count  Dtype \n",
      "---  ------                --------------  ----- \n",
      " 0   track_name            953 non-null    object\n",
      " 1   artist(s)_name        953 non-null    object\n",
      " 2   artist_count          953 non-null    int64 \n",
      " 3   released_year         953 non-null    int64 \n",
      " 4   released_month        953 non-null    int64 \n",
      " 5   released_day          953 non-null    int64 \n",
      " 6   in_spotify_playlists  953 non-null    int64 \n",
      " 7   in_spotify_charts     953 non-null    int64 \n",
      " 8   streams               953 non-null    object\n",
      " 9   in_apple_playlists    953 non-null    int64 \n",
      " 10  in_apple_charts       953 non-null    int64 \n",
      " 11  in_deezer_playlists   953 non-null    object\n",
      " 12  in_deezer_charts      953 non-null    int64 \n",
      " 13  in_shazam_charts      903 non-null    object\n",
      " 14  bpm                   953 non-null    int64 \n",
      " 15  key                   858 non-null    object\n",
      " 16  mode                  953 non-null    object\n",
      " 17  danceability_%        953 non-null    int64 \n",
      " 18  valence_%             953 non-null    int64 \n",
      " 19  energy_%              953 non-null    int64 \n",
      " 20  acousticness_%        953 non-null    int64 \n",
      " 21  instrumentalness_%    953 non-null    int64 \n",
      " 22  liveness_%            953 non-null    int64 \n",
      " 23  speechiness_%         953 non-null    int64 \n",
      "dtypes: int64(17), object(7)\n",
      "memory usage: 178.8+ KB\n"
     ]
    }
   ],
   "source": [
    "spotify_df.info()"
   ]
  },
  {
   "cell_type": "code",
   "execution_count": 11,
   "metadata": {},
   "outputs": [
    {
     "data": {
      "text/html": [
       "<div>\n",
       "<style scoped>\n",
       "    .dataframe tbody tr th:only-of-type {\n",
       "        vertical-align: middle;\n",
       "    }\n",
       "\n",
       "    .dataframe tbody tr th {\n",
       "        vertical-align: top;\n",
       "    }\n",
       "\n",
       "    .dataframe thead th {\n",
       "        text-align: right;\n",
       "    }\n",
       "</style>\n",
       "<table border=\"1\" class=\"dataframe\">\n",
       "  <thead>\n",
       "    <tr style=\"text-align: right;\">\n",
       "      <th></th>\n",
       "      <th>track_name</th>\n",
       "      <th>artist(s)_name</th>\n",
       "      <th>artist_count</th>\n",
       "      <th>released_year</th>\n",
       "      <th>released_month</th>\n",
       "      <th>released_day</th>\n",
       "      <th>in_spotify_playlists</th>\n",
       "      <th>in_spotify_charts</th>\n",
       "      <th>streams</th>\n",
       "      <th>in_apple_playlists</th>\n",
       "      <th>...</th>\n",
       "      <th>key</th>\n",
       "      <th>mode</th>\n",
       "      <th>danceability_%</th>\n",
       "      <th>valence_%</th>\n",
       "      <th>energy_%</th>\n",
       "      <th>acousticness_%</th>\n",
       "      <th>instrumentalness_%</th>\n",
       "      <th>liveness_%</th>\n",
       "      <th>speechiness_%</th>\n",
       "      <th>release_date</th>\n",
       "    </tr>\n",
       "  </thead>\n",
       "  <tbody>\n",
       "    <tr>\n",
       "      <th>0</th>\n",
       "      <td>Seven (feat. Latto) (Explicit Ver.)</td>\n",
       "      <td>Latto, Jung Kook</td>\n",
       "      <td>2</td>\n",
       "      <td>2023</td>\n",
       "      <td>7</td>\n",
       "      <td>14</td>\n",
       "      <td>553</td>\n",
       "      <td>147</td>\n",
       "      <td>141381703</td>\n",
       "      <td>43</td>\n",
       "      <td>...</td>\n",
       "      <td>B</td>\n",
       "      <td>Major</td>\n",
       "      <td>80</td>\n",
       "      <td>89</td>\n",
       "      <td>83</td>\n",
       "      <td>31</td>\n",
       "      <td>0</td>\n",
       "      <td>8</td>\n",
       "      <td>4</td>\n",
       "      <td>14-7-2023</td>\n",
       "    </tr>\n",
       "    <tr>\n",
       "      <th>1</th>\n",
       "      <td>LALA</td>\n",
       "      <td>Myke Towers</td>\n",
       "      <td>1</td>\n",
       "      <td>2023</td>\n",
       "      <td>3</td>\n",
       "      <td>23</td>\n",
       "      <td>1474</td>\n",
       "      <td>48</td>\n",
       "      <td>133716286</td>\n",
       "      <td>48</td>\n",
       "      <td>...</td>\n",
       "      <td>C#</td>\n",
       "      <td>Major</td>\n",
       "      <td>71</td>\n",
       "      <td>61</td>\n",
       "      <td>74</td>\n",
       "      <td>7</td>\n",
       "      <td>0</td>\n",
       "      <td>10</td>\n",
       "      <td>4</td>\n",
       "      <td>23-3-2023</td>\n",
       "    </tr>\n",
       "    <tr>\n",
       "      <th>2</th>\n",
       "      <td>vampire</td>\n",
       "      <td>Olivia Rodrigo</td>\n",
       "      <td>1</td>\n",
       "      <td>2023</td>\n",
       "      <td>6</td>\n",
       "      <td>30</td>\n",
       "      <td>1397</td>\n",
       "      <td>113</td>\n",
       "      <td>140003974</td>\n",
       "      <td>94</td>\n",
       "      <td>...</td>\n",
       "      <td>F</td>\n",
       "      <td>Major</td>\n",
       "      <td>51</td>\n",
       "      <td>32</td>\n",
       "      <td>53</td>\n",
       "      <td>17</td>\n",
       "      <td>0</td>\n",
       "      <td>31</td>\n",
       "      <td>6</td>\n",
       "      <td>30-6-2023</td>\n",
       "    </tr>\n",
       "    <tr>\n",
       "      <th>3</th>\n",
       "      <td>Cruel Summer</td>\n",
       "      <td>Taylor Swift</td>\n",
       "      <td>1</td>\n",
       "      <td>2019</td>\n",
       "      <td>8</td>\n",
       "      <td>23</td>\n",
       "      <td>7858</td>\n",
       "      <td>100</td>\n",
       "      <td>800840817</td>\n",
       "      <td>116</td>\n",
       "      <td>...</td>\n",
       "      <td>A</td>\n",
       "      <td>Major</td>\n",
       "      <td>55</td>\n",
       "      <td>58</td>\n",
       "      <td>72</td>\n",
       "      <td>11</td>\n",
       "      <td>0</td>\n",
       "      <td>11</td>\n",
       "      <td>15</td>\n",
       "      <td>23-8-2019</td>\n",
       "    </tr>\n",
       "    <tr>\n",
       "      <th>4</th>\n",
       "      <td>WHERE SHE GOES</td>\n",
       "      <td>Bad Bunny</td>\n",
       "      <td>1</td>\n",
       "      <td>2023</td>\n",
       "      <td>5</td>\n",
       "      <td>18</td>\n",
       "      <td>3133</td>\n",
       "      <td>50</td>\n",
       "      <td>303236322</td>\n",
       "      <td>84</td>\n",
       "      <td>...</td>\n",
       "      <td>A</td>\n",
       "      <td>Minor</td>\n",
       "      <td>65</td>\n",
       "      <td>23</td>\n",
       "      <td>80</td>\n",
       "      <td>14</td>\n",
       "      <td>63</td>\n",
       "      <td>11</td>\n",
       "      <td>6</td>\n",
       "      <td>18-5-2023</td>\n",
       "    </tr>\n",
       "  </tbody>\n",
       "</table>\n",
       "<p>5 rows × 25 columns</p>\n",
       "</div>"
      ],
      "text/plain": [
       "                            track_name    artist(s)_name  artist_count  \\\n",
       "0  Seven (feat. Latto) (Explicit Ver.)  Latto, Jung Kook             2   \n",
       "1                                 LALA       Myke Towers             1   \n",
       "2                              vampire    Olivia Rodrigo             1   \n",
       "3                         Cruel Summer      Taylor Swift             1   \n",
       "4                       WHERE SHE GOES         Bad Bunny             1   \n",
       "\n",
       "   released_year  released_month  released_day  in_spotify_playlists  \\\n",
       "0           2023               7            14                   553   \n",
       "1           2023               3            23                  1474   \n",
       "2           2023               6            30                  1397   \n",
       "3           2019               8            23                  7858   \n",
       "4           2023               5            18                  3133   \n",
       "\n",
       "   in_spotify_charts    streams  in_apple_playlists  ...  key   mode  \\\n",
       "0                147  141381703                  43  ...    B  Major   \n",
       "1                 48  133716286                  48  ...   C#  Major   \n",
       "2                113  140003974                  94  ...    F  Major   \n",
       "3                100  800840817                 116  ...    A  Major   \n",
       "4                 50  303236322                  84  ...    A  Minor   \n",
       "\n",
       "   danceability_% valence_%  energy_% acousticness_% instrumentalness_%  \\\n",
       "0              80        89        83             31                  0   \n",
       "1              71        61        74              7                  0   \n",
       "2              51        32        53             17                  0   \n",
       "3              55        58        72             11                  0   \n",
       "4              65        23        80             14                 63   \n",
       "\n",
       "   liveness_%  speechiness_%  release_date  \n",
       "0           8              4     14-7-2023  \n",
       "1          10              4     23-3-2023  \n",
       "2          31              6     30-6-2023  \n",
       "3          11             15     23-8-2019  \n",
       "4          11              6     18-5-2023  \n",
       "\n",
       "[5 rows x 25 columns]"
      ]
     },
     "execution_count": 11,
     "metadata": {},
     "output_type": "execute_result"
    }
   ],
   "source": [
    "cols = ['released_day', 'released_month', 'released_year']\n",
    "spotify_df['release_date'] = spotify_df[cols].apply(lambda row:'-'.join(row.values.astype(str)),axis = 1)\n",
    "spotify_df.head()"
   ]
  },
  {
   "cell_type": "code",
   "execution_count": 12,
   "metadata": {},
   "outputs": [
    {
     "name": "stdout",
     "output_type": "stream",
     "text": [
      "<class 'pandas.core.frame.DataFrame'>\n",
      "RangeIndex: 953 entries, 0 to 952\n",
      "Data columns (total 25 columns):\n",
      " #   Column                Non-Null Count  Dtype         \n",
      "---  ------                --------------  -----         \n",
      " 0   track_name            953 non-null    object        \n",
      " 1   artist(s)_name        953 non-null    object        \n",
      " 2   artist_count          953 non-null    int64         \n",
      " 3   released_year         953 non-null    int64         \n",
      " 4   released_month        953 non-null    int64         \n",
      " 5   released_day          953 non-null    int64         \n",
      " 6   in_spotify_playlists  953 non-null    int64         \n",
      " 7   in_spotify_charts     953 non-null    int64         \n",
      " 8   streams               953 non-null    object        \n",
      " 9   in_apple_playlists    953 non-null    int64         \n",
      " 10  in_apple_charts       953 non-null    int64         \n",
      " 11  in_deezer_playlists   953 non-null    object        \n",
      " 12  in_deezer_charts      953 non-null    int64         \n",
      " 13  in_shazam_charts      903 non-null    object        \n",
      " 14  bpm                   953 non-null    int64         \n",
      " 15  key                   858 non-null    object        \n",
      " 16  mode                  953 non-null    object        \n",
      " 17  danceability_%        953 non-null    int64         \n",
      " 18  valence_%             953 non-null    int64         \n",
      " 19  energy_%              953 non-null    int64         \n",
      " 20  acousticness_%        953 non-null    int64         \n",
      " 21  instrumentalness_%    953 non-null    int64         \n",
      " 22  liveness_%            953 non-null    int64         \n",
      " 23  speechiness_%         953 non-null    int64         \n",
      " 24  release_date          953 non-null    datetime64[ns]\n",
      "dtypes: datetime64[ns](1), int64(17), object(7)\n",
      "memory usage: 186.3+ KB\n"
     ]
    }
   ],
   "source": [
    "spotify_df['release_date'] = pd.to_datetime(spotify_df['release_date'], \n",
    "                                           format = \"%d-%m-%Y\")\n",
    "spotify_df.info()"
   ]
  },
  {
   "cell_type": "markdown",
   "metadata": {},
   "source": [
    "Assuming the dataset is the latest as of today, A new column can be created to calculate the number of dates since release"
   ]
  },
  {
   "cell_type": "code",
   "execution_count": 22,
   "metadata": {},
   "outputs": [
    {
     "data": {
      "text/html": [
       "<div>\n",
       "<style scoped>\n",
       "    .dataframe tbody tr th:only-of-type {\n",
       "        vertical-align: middle;\n",
       "    }\n",
       "\n",
       "    .dataframe tbody tr th {\n",
       "        vertical-align: top;\n",
       "    }\n",
       "\n",
       "    .dataframe thead th {\n",
       "        text-align: right;\n",
       "    }\n",
       "</style>\n",
       "<table border=\"1\" class=\"dataframe\">\n",
       "  <thead>\n",
       "    <tr style=\"text-align: right;\">\n",
       "      <th></th>\n",
       "      <th>track_name</th>\n",
       "      <th>artist(s)_name</th>\n",
       "      <th>artist_count</th>\n",
       "      <th>released_year</th>\n",
       "      <th>released_month</th>\n",
       "      <th>released_day</th>\n",
       "      <th>in_spotify_playlists</th>\n",
       "      <th>in_spotify_charts</th>\n",
       "      <th>streams</th>\n",
       "      <th>in_apple_playlists</th>\n",
       "      <th>...</th>\n",
       "      <th>mode</th>\n",
       "      <th>danceability_%</th>\n",
       "      <th>valence_%</th>\n",
       "      <th>energy_%</th>\n",
       "      <th>acousticness_%</th>\n",
       "      <th>instrumentalness_%</th>\n",
       "      <th>liveness_%</th>\n",
       "      <th>speechiness_%</th>\n",
       "      <th>release_date</th>\n",
       "      <th>days_since_release</th>\n",
       "    </tr>\n",
       "  </thead>\n",
       "  <tbody>\n",
       "    <tr>\n",
       "      <th>0</th>\n",
       "      <td>Seven (feat. Latto) (Explicit Ver.)</td>\n",
       "      <td>Latto, Jung Kook</td>\n",
       "      <td>2</td>\n",
       "      <td>2023</td>\n",
       "      <td>7</td>\n",
       "      <td>14</td>\n",
       "      <td>553</td>\n",
       "      <td>147</td>\n",
       "      <td>141381703</td>\n",
       "      <td>43</td>\n",
       "      <td>...</td>\n",
       "      <td>Major</td>\n",
       "      <td>80</td>\n",
       "      <td>89</td>\n",
       "      <td>83</td>\n",
       "      <td>31</td>\n",
       "      <td>0</td>\n",
       "      <td>8</td>\n",
       "      <td>4</td>\n",
       "      <td>2023-07-14</td>\n",
       "      <td>140</td>\n",
       "    </tr>\n",
       "    <tr>\n",
       "      <th>1</th>\n",
       "      <td>LALA</td>\n",
       "      <td>Myke Towers</td>\n",
       "      <td>1</td>\n",
       "      <td>2023</td>\n",
       "      <td>3</td>\n",
       "      <td>23</td>\n",
       "      <td>1474</td>\n",
       "      <td>48</td>\n",
       "      <td>133716286</td>\n",
       "      <td>48</td>\n",
       "      <td>...</td>\n",
       "      <td>Major</td>\n",
       "      <td>71</td>\n",
       "      <td>61</td>\n",
       "      <td>74</td>\n",
       "      <td>7</td>\n",
       "      <td>0</td>\n",
       "      <td>10</td>\n",
       "      <td>4</td>\n",
       "      <td>2023-03-23</td>\n",
       "      <td>253</td>\n",
       "    </tr>\n",
       "    <tr>\n",
       "      <th>2</th>\n",
       "      <td>vampire</td>\n",
       "      <td>Olivia Rodrigo</td>\n",
       "      <td>1</td>\n",
       "      <td>2023</td>\n",
       "      <td>6</td>\n",
       "      <td>30</td>\n",
       "      <td>1397</td>\n",
       "      <td>113</td>\n",
       "      <td>140003974</td>\n",
       "      <td>94</td>\n",
       "      <td>...</td>\n",
       "      <td>Major</td>\n",
       "      <td>51</td>\n",
       "      <td>32</td>\n",
       "      <td>53</td>\n",
       "      <td>17</td>\n",
       "      <td>0</td>\n",
       "      <td>31</td>\n",
       "      <td>6</td>\n",
       "      <td>2023-06-30</td>\n",
       "      <td>154</td>\n",
       "    </tr>\n",
       "    <tr>\n",
       "      <th>3</th>\n",
       "      <td>Cruel Summer</td>\n",
       "      <td>Taylor Swift</td>\n",
       "      <td>1</td>\n",
       "      <td>2019</td>\n",
       "      <td>8</td>\n",
       "      <td>23</td>\n",
       "      <td>7858</td>\n",
       "      <td>100</td>\n",
       "      <td>800840817</td>\n",
       "      <td>116</td>\n",
       "      <td>...</td>\n",
       "      <td>Major</td>\n",
       "      <td>55</td>\n",
       "      <td>58</td>\n",
       "      <td>72</td>\n",
       "      <td>11</td>\n",
       "      <td>0</td>\n",
       "      <td>11</td>\n",
       "      <td>15</td>\n",
       "      <td>2019-08-23</td>\n",
       "      <td>1561</td>\n",
       "    </tr>\n",
       "    <tr>\n",
       "      <th>4</th>\n",
       "      <td>WHERE SHE GOES</td>\n",
       "      <td>Bad Bunny</td>\n",
       "      <td>1</td>\n",
       "      <td>2023</td>\n",
       "      <td>5</td>\n",
       "      <td>18</td>\n",
       "      <td>3133</td>\n",
       "      <td>50</td>\n",
       "      <td>303236322</td>\n",
       "      <td>84</td>\n",
       "      <td>...</td>\n",
       "      <td>Minor</td>\n",
       "      <td>65</td>\n",
       "      <td>23</td>\n",
       "      <td>80</td>\n",
       "      <td>14</td>\n",
       "      <td>63</td>\n",
       "      <td>11</td>\n",
       "      <td>6</td>\n",
       "      <td>2023-05-18</td>\n",
       "      <td>197</td>\n",
       "    </tr>\n",
       "  </tbody>\n",
       "</table>\n",
       "<p>5 rows × 26 columns</p>\n",
       "</div>"
      ],
      "text/plain": [
       "                            track_name    artist(s)_name  artist_count  \\\n",
       "0  Seven (feat. Latto) (Explicit Ver.)  Latto, Jung Kook             2   \n",
       "1                                 LALA       Myke Towers             1   \n",
       "2                              vampire    Olivia Rodrigo             1   \n",
       "3                         Cruel Summer      Taylor Swift             1   \n",
       "4                       WHERE SHE GOES         Bad Bunny             1   \n",
       "\n",
       "   released_year  released_month  released_day  in_spotify_playlists  \\\n",
       "0           2023               7            14                   553   \n",
       "1           2023               3            23                  1474   \n",
       "2           2023               6            30                  1397   \n",
       "3           2019               8            23                  7858   \n",
       "4           2023               5            18                  3133   \n",
       "\n",
       "   in_spotify_charts    streams  in_apple_playlists  ...   mode  \\\n",
       "0                147  141381703                  43  ...  Major   \n",
       "1                 48  133716286                  48  ...  Major   \n",
       "2                113  140003974                  94  ...  Major   \n",
       "3                100  800840817                 116  ...  Major   \n",
       "4                 50  303236322                  84  ...  Minor   \n",
       "\n",
       "  danceability_%  valence_% energy_%  acousticness_% instrumentalness_%  \\\n",
       "0             80         89       83              31                  0   \n",
       "1             71         61       74               7                  0   \n",
       "2             51         32       53              17                  0   \n",
       "3             55         58       72              11                  0   \n",
       "4             65         23       80              14                 63   \n",
       "\n",
       "  liveness_%  speechiness_%  release_date  days_since_release  \n",
       "0          8              4    2023-07-14                 140  \n",
       "1         10              4    2023-03-23                 253  \n",
       "2         31              6    2023-06-30                 154  \n",
       "3         11             15    2019-08-23                1561  \n",
       "4         11              6    2023-05-18                 197  \n",
       "\n",
       "[5 rows x 26 columns]"
      ]
     },
     "execution_count": 22,
     "metadata": {},
     "output_type": "execute_result"
    }
   ],
   "source": [
    "today = datetime.today().date()\n",
    "spotify_df['days_since_release'] = (today - spotify_df['release_date'].dt.date).dt.days\n",
    "spotify_df['days_since_release']= spotify_df['days_since_release'].astype(int)\n",
    "spotify_df.head()"
   ]
  },
  {
   "cell_type": "code",
   "execution_count": 30,
   "metadata": {},
   "outputs": [],
   "source": [
    "spotify_df['streams'] = pd.to_numeric(spotify_df['streams'], errors = 'coerce')\n",
    "spotify_df['streams'] = spotify_df['streams'].apply(lambda x: int(re.search(r'\\d+', str(x)).group()) if pd.notnull(x) and re.search(r'\\d+', str(x)) else None)"
   ]
  },
  {
   "cell_type": "code",
   "execution_count": 31,
   "metadata": {},
   "outputs": [],
   "source": [
    "spotify_df['avg_daily_streams'] = spotify_df['streams']/spotify_df['days_since_release']"
   ]
  },
  {
   "cell_type": "code",
   "execution_count": 32,
   "metadata": {},
   "outputs": [
    {
     "data": {
      "text/html": [
       "<div>\n",
       "<style scoped>\n",
       "    .dataframe tbody tr th:only-of-type {\n",
       "        vertical-align: middle;\n",
       "    }\n",
       "\n",
       "    .dataframe tbody tr th {\n",
       "        vertical-align: top;\n",
       "    }\n",
       "\n",
       "    .dataframe thead th {\n",
       "        text-align: right;\n",
       "    }\n",
       "</style>\n",
       "<table border=\"1\" class=\"dataframe\">\n",
       "  <thead>\n",
       "    <tr style=\"text-align: right;\">\n",
       "      <th></th>\n",
       "      <th>track_name</th>\n",
       "      <th>artist(s)_name</th>\n",
       "      <th>artist_count</th>\n",
       "      <th>released_year</th>\n",
       "      <th>released_month</th>\n",
       "      <th>released_day</th>\n",
       "      <th>in_spotify_playlists</th>\n",
       "      <th>in_spotify_charts</th>\n",
       "      <th>streams</th>\n",
       "      <th>in_apple_playlists</th>\n",
       "      <th>...</th>\n",
       "      <th>danceability_%</th>\n",
       "      <th>valence_%</th>\n",
       "      <th>energy_%</th>\n",
       "      <th>acousticness_%</th>\n",
       "      <th>instrumentalness_%</th>\n",
       "      <th>liveness_%</th>\n",
       "      <th>speechiness_%</th>\n",
       "      <th>release_date</th>\n",
       "      <th>days_since_release</th>\n",
       "      <th>avg_daily_streams</th>\n",
       "    </tr>\n",
       "  </thead>\n",
       "  <tbody>\n",
       "    <tr>\n",
       "      <th>0</th>\n",
       "      <td>Seven (feat. Latto) (Explicit Ver.)</td>\n",
       "      <td>Latto, Jung Kook</td>\n",
       "      <td>2</td>\n",
       "      <td>2023</td>\n",
       "      <td>7</td>\n",
       "      <td>14</td>\n",
       "      <td>553</td>\n",
       "      <td>147</td>\n",
       "      <td>141381703.0</td>\n",
       "      <td>43</td>\n",
       "      <td>...</td>\n",
       "      <td>80</td>\n",
       "      <td>89</td>\n",
       "      <td>83</td>\n",
       "      <td>31</td>\n",
       "      <td>0</td>\n",
       "      <td>8</td>\n",
       "      <td>4</td>\n",
       "      <td>2023-07-14</td>\n",
       "      <td>140</td>\n",
       "      <td>1.009869e+06</td>\n",
       "    </tr>\n",
       "    <tr>\n",
       "      <th>1</th>\n",
       "      <td>LALA</td>\n",
       "      <td>Myke Towers</td>\n",
       "      <td>1</td>\n",
       "      <td>2023</td>\n",
       "      <td>3</td>\n",
       "      <td>23</td>\n",
       "      <td>1474</td>\n",
       "      <td>48</td>\n",
       "      <td>133716286.0</td>\n",
       "      <td>48</td>\n",
       "      <td>...</td>\n",
       "      <td>71</td>\n",
       "      <td>61</td>\n",
       "      <td>74</td>\n",
       "      <td>7</td>\n",
       "      <td>0</td>\n",
       "      <td>10</td>\n",
       "      <td>4</td>\n",
       "      <td>2023-03-23</td>\n",
       "      <td>253</td>\n",
       "      <td>5.285229e+05</td>\n",
       "    </tr>\n",
       "    <tr>\n",
       "      <th>2</th>\n",
       "      <td>vampire</td>\n",
       "      <td>Olivia Rodrigo</td>\n",
       "      <td>1</td>\n",
       "      <td>2023</td>\n",
       "      <td>6</td>\n",
       "      <td>30</td>\n",
       "      <td>1397</td>\n",
       "      <td>113</td>\n",
       "      <td>140003974.0</td>\n",
       "      <td>94</td>\n",
       "      <td>...</td>\n",
       "      <td>51</td>\n",
       "      <td>32</td>\n",
       "      <td>53</td>\n",
       "      <td>17</td>\n",
       "      <td>0</td>\n",
       "      <td>31</td>\n",
       "      <td>6</td>\n",
       "      <td>2023-06-30</td>\n",
       "      <td>154</td>\n",
       "      <td>9.091167e+05</td>\n",
       "    </tr>\n",
       "    <tr>\n",
       "      <th>3</th>\n",
       "      <td>Cruel Summer</td>\n",
       "      <td>Taylor Swift</td>\n",
       "      <td>1</td>\n",
       "      <td>2019</td>\n",
       "      <td>8</td>\n",
       "      <td>23</td>\n",
       "      <td>7858</td>\n",
       "      <td>100</td>\n",
       "      <td>800840817.0</td>\n",
       "      <td>116</td>\n",
       "      <td>...</td>\n",
       "      <td>55</td>\n",
       "      <td>58</td>\n",
       "      <td>72</td>\n",
       "      <td>11</td>\n",
       "      <td>0</td>\n",
       "      <td>11</td>\n",
       "      <td>15</td>\n",
       "      <td>2019-08-23</td>\n",
       "      <td>1561</td>\n",
       "      <td>5.130306e+05</td>\n",
       "    </tr>\n",
       "    <tr>\n",
       "      <th>4</th>\n",
       "      <td>WHERE SHE GOES</td>\n",
       "      <td>Bad Bunny</td>\n",
       "      <td>1</td>\n",
       "      <td>2023</td>\n",
       "      <td>5</td>\n",
       "      <td>18</td>\n",
       "      <td>3133</td>\n",
       "      <td>50</td>\n",
       "      <td>303236322.0</td>\n",
       "      <td>84</td>\n",
       "      <td>...</td>\n",
       "      <td>65</td>\n",
       "      <td>23</td>\n",
       "      <td>80</td>\n",
       "      <td>14</td>\n",
       "      <td>63</td>\n",
       "      <td>11</td>\n",
       "      <td>6</td>\n",
       "      <td>2023-05-18</td>\n",
       "      <td>197</td>\n",
       "      <td>1.539271e+06</td>\n",
       "    </tr>\n",
       "  </tbody>\n",
       "</table>\n",
       "<p>5 rows × 27 columns</p>\n",
       "</div>"
      ],
      "text/plain": [
       "                            track_name    artist(s)_name  artist_count  \\\n",
       "0  Seven (feat. Latto) (Explicit Ver.)  Latto, Jung Kook             2   \n",
       "1                                 LALA       Myke Towers             1   \n",
       "2                              vampire    Olivia Rodrigo             1   \n",
       "3                         Cruel Summer      Taylor Swift             1   \n",
       "4                       WHERE SHE GOES         Bad Bunny             1   \n",
       "\n",
       "   released_year  released_month  released_day  in_spotify_playlists  \\\n",
       "0           2023               7            14                   553   \n",
       "1           2023               3            23                  1474   \n",
       "2           2023               6            30                  1397   \n",
       "3           2019               8            23                  7858   \n",
       "4           2023               5            18                  3133   \n",
       "\n",
       "   in_spotify_charts      streams  in_apple_playlists  ...  danceability_%  \\\n",
       "0                147  141381703.0                  43  ...              80   \n",
       "1                 48  133716286.0                  48  ...              71   \n",
       "2                113  140003974.0                  94  ...              51   \n",
       "3                100  800840817.0                 116  ...              55   \n",
       "4                 50  303236322.0                  84  ...              65   \n",
       "\n",
       "  valence_%  energy_% acousticness_%  instrumentalness_% liveness_%  \\\n",
       "0        89        83             31                   0          8   \n",
       "1        61        74              7                   0         10   \n",
       "2        32        53             17                   0         31   \n",
       "3        58        72             11                   0         11   \n",
       "4        23        80             14                  63         11   \n",
       "\n",
       "  speechiness_%  release_date  days_since_release  avg_daily_streams  \n",
       "0             4    2023-07-14                 140       1.009869e+06  \n",
       "1             4    2023-03-23                 253       5.285229e+05  \n",
       "2             6    2023-06-30                 154       9.091167e+05  \n",
       "3            15    2019-08-23                1561       5.130306e+05  \n",
       "4             6    2023-05-18                 197       1.539271e+06  \n",
       "\n",
       "[5 rows x 27 columns]"
      ]
     },
     "execution_count": 32,
     "metadata": {},
     "output_type": "execute_result"
    }
   ],
   "source": [
    "spotify_df.head()"
   ]
  },
  {
   "cell_type": "code",
   "execution_count": 36,
   "metadata": {},
   "outputs": [],
   "source": [
    "columns_to_analyze = ['avg_daily_streams','danceability_%','valence_%','energy_%','acousticness_%','instrumentalness_%','liveness_%', 'speechiness_%']\n",
    "correlation = spotify_df[columns_to_analyze].corr()"
   ]
  },
  {
   "cell_type": "code",
   "execution_count": 39,
   "metadata": {},
   "outputs": [
    {
     "data": {
      "text/plain": [
       "<AxesSubplot:>"
      ]
     },
     "execution_count": 39,
     "metadata": {},
     "output_type": "execute_result"
    },
    {
     "data": {
      "image/png": "[encoded data removed]",
      "text/plain": [
       "<Figure size 432x288 with 2 Axes>"
      ]
     },
     "metadata": {
      "needs_background": "light"
     },
     "output_type": "display_data"
    }
   ],
   "source": [
    "sns.heatmap(correlation, annot = True, cmap = 'coolwarm')"
   ]
  },
  {
   "cell_type": "markdown",
   "metadata": {},
   "source": [
    "None of the features strongly correlate with average daily streams, danceability has the highest correlation with average daily streams and it is still weakly correlated at 0.1. It will not be a great idea to try and predict how well a song will do commercially based on these data points. "
   ]
  },
  {
   "cell_type": "markdown",
   "metadata": {},
   "source": [
    "# Analytics on artists with the most streams "
   ]
  },
  {
   "cell_type": "code",
   "execution_count": 47,
   "metadata": {},
   "outputs": [
    {
     "data": {
      "text/html": [
       "<div>\n",
       "<style scoped>\n",
       "    .dataframe tbody tr th:only-of-type {\n",
       "        vertical-align: middle;\n",
       "    }\n",
       "\n",
       "    .dataframe tbody tr th {\n",
       "        vertical-align: top;\n",
       "    }\n",
       "\n",
       "    .dataframe thead th {\n",
       "        text-align: right;\n",
       "    }\n",
       "</style>\n",
       "<table border=\"1\" class=\"dataframe\">\n",
       "  <thead>\n",
       "    <tr style=\"text-align: right;\">\n",
       "      <th></th>\n",
       "      <th>artist(s)</th>\n",
       "      <th>total_streams</th>\n",
       "      <th>number_of_songs</th>\n",
       "    </tr>\n",
       "  </thead>\n",
       "  <tbody>\n",
       "    <tr>\n",
       "      <th>572</th>\n",
       "      <td>The Weeknd</td>\n",
       "      <td>1.418555e+10</td>\n",
       "      <td>22</td>\n",
       "    </tr>\n",
       "    <tr>\n",
       "      <th>558</th>\n",
       "      <td>Taylor Swift</td>\n",
       "      <td>1.405366e+10</td>\n",
       "      <td>34</td>\n",
       "    </tr>\n",
       "    <tr>\n",
       "      <th>159</th>\n",
       "      <td>Ed Sheeran</td>\n",
       "      <td>1.390895e+10</td>\n",
       "      <td>9</td>\n",
       "    </tr>\n",
       "    <tr>\n",
       "      <th>223</th>\n",
       "      <td>Harry Styles</td>\n",
       "      <td>1.160865e+10</td>\n",
       "      <td>17</td>\n",
       "    </tr>\n",
       "    <tr>\n",
       "      <th>43</th>\n",
       "      <td>Bad Bunny</td>\n",
       "      <td>9.997800e+09</td>\n",
       "      <td>19</td>\n",
       "    </tr>\n",
       "    <tr>\n",
       "      <th>431</th>\n",
       "      <td>Olivia Rodrigo</td>\n",
       "      <td>7.442149e+09</td>\n",
       "      <td>7</td>\n",
       "    </tr>\n",
       "    <tr>\n",
       "      <th>171</th>\n",
       "      <td>Eminem</td>\n",
       "      <td>6.183806e+09</td>\n",
       "      <td>4</td>\n",
       "    </tr>\n",
       "    <tr>\n",
       "      <th>75</th>\n",
       "      <td>Bruno Mars</td>\n",
       "      <td>5.846921e+09</td>\n",
       "      <td>4</td>\n",
       "    </tr>\n",
       "    <tr>\n",
       "      <th>25</th>\n",
       "      <td>Arctic Monkeys</td>\n",
       "      <td>5.569807e+09</td>\n",
       "      <td>4</td>\n",
       "    </tr>\n",
       "    <tr>\n",
       "      <th>229</th>\n",
       "      <td>Imagine Dragons</td>\n",
       "      <td>5.272485e+09</td>\n",
       "      <td>3</td>\n",
       "    </tr>\n",
       "  </tbody>\n",
       "</table>\n",
       "</div>"
      ],
      "text/plain": [
       "           artist(s)  total_streams  number_of_songs\n",
       "572       The Weeknd   1.418555e+10               22\n",
       "558     Taylor Swift   1.405366e+10               34\n",
       "159       Ed Sheeran   1.390895e+10                9\n",
       "223     Harry Styles   1.160865e+10               17\n",
       "43         Bad Bunny   9.997800e+09               19\n",
       "431   Olivia Rodrigo   7.442149e+09                7\n",
       "171           Eminem   6.183806e+09                4\n",
       "75        Bruno Mars   5.846921e+09                4\n",
       "25    Arctic Monkeys   5.569807e+09                4\n",
       "229  Imagine Dragons   5.272485e+09                3"
      ]
     },
     "execution_count": 47,
     "metadata": {},
     "output_type": "execute_result"
    }
   ],
   "source": [
    "#grouping streams by artists \n",
    "artists_streams = spotify_df.groupby('artist(s)_name').agg({'streams':['sum','count']}).reset_index()\n",
    "artists_streams.columns = ['artist(s)','total_streams','number_of_songs']\n",
    "artists_streams = artists_streams.sort_values(by = 'total_streams', ascending = False)\n",
    "artists_streams.head(10)"
   ]
  },
  {
   "cell_type": "markdown",
   "metadata": {},
   "source": [
    "# Analytics on Artists in the most playlists across platforms "
   ]
  },
  {
   "cell_type": "code",
   "execution_count": 50,
   "metadata": {},
   "outputs": [
    {
     "data": {
      "text/html": [
       "<div>\n",
       "<style scoped>\n",
       "    .dataframe tbody tr th:only-of-type {\n",
       "        vertical-align: middle;\n",
       "    }\n",
       "\n",
       "    .dataframe tbody tr th {\n",
       "        vertical-align: top;\n",
       "    }\n",
       "\n",
       "    .dataframe thead th {\n",
       "        text-align: right;\n",
       "    }\n",
       "</style>\n",
       "<table border=\"1\" class=\"dataframe\">\n",
       "  <thead>\n",
       "    <tr style=\"text-align: right;\">\n",
       "      <th></th>\n",
       "      <th>artist(s)</th>\n",
       "      <th>spotify_playlists</th>\n",
       "      <th>apple_playlists</th>\n",
       "      <th>deezer_playlists</th>\n",
       "    </tr>\n",
       "  </thead>\n",
       "  <tbody>\n",
       "    <tr>\n",
       "      <th>572</th>\n",
       "      <td>The Weeknd</td>\n",
       "      <td>144053</td>\n",
       "      <td>1677</td>\n",
       "      <td>243,4211122388011,9922181333462151461381461162...</td>\n",
       "    </tr>\n",
       "    <tr>\n",
       "      <th>558</th>\n",
       "      <td>Taylor Swift</td>\n",
       "      <td>132974</td>\n",
       "      <td>1796</td>\n",
       "      <td>12542165410151142328501636611131,3781363819212...</td>\n",
       "    </tr>\n",
       "    <tr>\n",
       "      <th>159</th>\n",
       "      <td>Ed Sheeran</td>\n",
       "      <td>128758</td>\n",
       "      <td>1448</td>\n",
       "      <td>2,0946,808107275439453,8952,45380</td>\n",
       "    </tr>\n",
       "    <tr>\n",
       "      <th>223</th>\n",
       "      <td>Harry Styles</td>\n",
       "      <td>110026</td>\n",
       "      <td>1741</td>\n",
       "      <td>8631,2121995192542006679403979311518282330</td>\n",
       "    </tr>\n",
       "    <tr>\n",
       "      <th>171</th>\n",
       "      <td>Eminem</td>\n",
       "      <td>87331</td>\n",
       "      <td>475</td>\n",
       "      <td>2,3943,8893,2715,567</td>\n",
       "    </tr>\n",
       "  </tbody>\n",
       "</table>\n",
       "</div>"
      ],
      "text/plain": [
       "        artist(s)  spotify_playlists  apple_playlists  \\\n",
       "572    The Weeknd             144053             1677   \n",
       "558  Taylor Swift             132974             1796   \n",
       "159    Ed Sheeran             128758             1448   \n",
       "223  Harry Styles             110026             1741   \n",
       "171        Eminem              87331              475   \n",
       "\n",
       "                                      deezer_playlists  \n",
       "572  243,4211122388011,9922181333462151461381461162...  \n",
       "558  12542165410151142328501636611131,3781363819212...  \n",
       "159                  2,0946,808107275439453,8952,45380  \n",
       "223         8631,2121995192542006679403979311518282330  \n",
       "171                               2,3943,8893,2715,567  "
      ]
     },
     "execution_count": 50,
     "metadata": {},
     "output_type": "execute_result"
    }
   ],
   "source": [
    "artists_playlists = spotify_df.groupby('artist(s)_name').agg({'in_spotify_playlists':'sum', 'in_apple_playlists':'sum', 'in_deezer_playlists':'sum'}).reset_index()\n",
    "artists_playlists.columns = ['artist(s)', 'spotify_playlists', 'apple_playlists','deezer_playlists']\n",
    "artists_playlists = artists_playlists.sort_values(by=['spotify_playlists', 'apple_playlists','deezer_playlists'], ascending = False)\n",
    "artists_playlists.head()"
   ]
  },
  {
   "cell_type": "markdown",
   "metadata": {},
   "source": [
    "The figures in deezer playlists look strange and since apple and spotify are the two main streaming platforms globally, the rest of the analysis in this section will be focused on the two platforms. the deezer playlists column will be dropped. "
   ]
  },
  {
   "cell_type": "code",
   "execution_count": 51,
   "metadata": {},
   "outputs": [
    {
     "data": {
      "text/html": [
       "<div>\n",
       "<style scoped>\n",
       "    .dataframe tbody tr th:only-of-type {\n",
       "        vertical-align: middle;\n",
       "    }\n",
       "\n",
       "    .dataframe tbody tr th {\n",
       "        vertical-align: top;\n",
       "    }\n",
       "\n",
       "    .dataframe thead th {\n",
       "        text-align: right;\n",
       "    }\n",
       "</style>\n",
       "<table border=\"1\" class=\"dataframe\">\n",
       "  <thead>\n",
       "    <tr style=\"text-align: right;\">\n",
       "      <th></th>\n",
       "      <th>artist(s)</th>\n",
       "      <th>spotify_playlists</th>\n",
       "      <th>apple_playlists</th>\n",
       "    </tr>\n",
       "  </thead>\n",
       "  <tbody>\n",
       "    <tr>\n",
       "      <th>572</th>\n",
       "      <td>The Weeknd</td>\n",
       "      <td>144053</td>\n",
       "      <td>1677</td>\n",
       "    </tr>\n",
       "    <tr>\n",
       "      <th>558</th>\n",
       "      <td>Taylor Swift</td>\n",
       "      <td>132974</td>\n",
       "      <td>1796</td>\n",
       "    </tr>\n",
       "    <tr>\n",
       "      <th>159</th>\n",
       "      <td>Ed Sheeran</td>\n",
       "      <td>128758</td>\n",
       "      <td>1448</td>\n",
       "    </tr>\n",
       "    <tr>\n",
       "      <th>223</th>\n",
       "      <td>Harry Styles</td>\n",
       "      <td>110026</td>\n",
       "      <td>1741</td>\n",
       "    </tr>\n",
       "    <tr>\n",
       "      <th>171</th>\n",
       "      <td>Eminem</td>\n",
       "      <td>87331</td>\n",
       "      <td>475</td>\n",
       "    </tr>\n",
       "    <tr>\n",
       "      <th>25</th>\n",
       "      <td>Arctic Monkeys</td>\n",
       "      <td>84016</td>\n",
       "      <td>241</td>\n",
       "    </tr>\n",
       "    <tr>\n",
       "      <th>111</th>\n",
       "      <td>Coldplay</td>\n",
       "      <td>75716</td>\n",
       "      <td>381</td>\n",
       "    </tr>\n",
       "    <tr>\n",
       "      <th>33</th>\n",
       "      <td>Avicii</td>\n",
       "      <td>68241</td>\n",
       "      <td>407</td>\n",
       "    </tr>\n",
       "    <tr>\n",
       "      <th>141</th>\n",
       "      <td>Dr. Dre, Snoop Dogg</td>\n",
       "      <td>65728</td>\n",
       "      <td>283</td>\n",
       "    </tr>\n",
       "    <tr>\n",
       "      <th>7</th>\n",
       "      <td>Adele</td>\n",
       "      <td>65049</td>\n",
       "      <td>646</td>\n",
       "    </tr>\n",
       "  </tbody>\n",
       "</table>\n",
       "</div>"
      ],
      "text/plain": [
       "               artist(s)  spotify_playlists  apple_playlists\n",
       "572           The Weeknd             144053             1677\n",
       "558         Taylor Swift             132974             1796\n",
       "159           Ed Sheeran             128758             1448\n",
       "223         Harry Styles             110026             1741\n",
       "171               Eminem              87331              475\n",
       "25        Arctic Monkeys              84016              241\n",
       "111             Coldplay              75716              381\n",
       "33                Avicii              68241              407\n",
       "141  Dr. Dre, Snoop Dogg              65728              283\n",
       "7                  Adele              65049              646"
      ]
     },
     "execution_count": 51,
     "metadata": {},
     "output_type": "execute_result"
    }
   ],
   "source": [
    "artists_playlists.drop('deezer_playlists',axis= 1, inplace = True)\n",
    "artists_playlists.head(10)"
   ]
  },
  {
   "cell_type": "markdown",
   "metadata": {},
   "source": [
    "Create a bubble chart on the top 100 entries in the playlists "
   ]
  },
  {
   "cell_type": "code",
   "execution_count": 54,
   "metadata": {},
   "outputs": [
    {
     "data": {
      "application/vnd.plotly.v1+json": {
       "config": {
        "plotlyServerURL": "https://plot.ly"
       },
       "data": [
        {
         "hovertemplate": "<b>%{hovertext}</b><br><br>artist(s)=The Weeknd<br>spotify_playlists=%{x}<br>apple_playlists=%{y}<extra></extra>",
         "hovertext": [
          "The Weeknd"
         ],
         "legendgroup": "The Weeknd",
         "marker": {
          "color": "#636efa",
          "symbol": "circle"
         },
         "mode": "markers",
         "name": "The Weeknd",
         "orientation": "v",
         "showlegend": false,
         "type": "scatter",
         "x": [
          144053
         ],
         "xaxis": "x",
         "y": [
          1677
         ],
         "yaxis": "y"
        },
        {
         "hovertemplate": "<b>%{hovertext}</b><br><br>artist(s)=Taylor Swift<br>spotify_playlists=%{x}<br>apple_playlists=%{y}<extra></extra>",
         "hovertext": [
          "Taylor Swift"
         ],
         "legendgroup": "Taylor Swift",
         "marker": {
          "color": "#EF553B",
          "symbol": "circle"
         },
         "mode": "markers",
         "name": "Taylor Swift",
         "orientation": "v",
         "showlegend": false,
         "type": "scatter",
         "x": [
          132974
         ],
         "xaxis": "x",
         "y": [
          1796
         ],
         "yaxis": "y"
        },
        {
         "hovertemplate": "<b>%{hovertext}</b><br><br>artist(s)=Ed Sheeran<br>spotify_playlists=%{x}<br>apple_playlists=%{y}<extra></extra>",
         "hovertext": [
          "Ed Sheeran"
         ],
         "legendgroup": "Ed Sheeran",
         "marker": {
          "color": "#00cc96",
          "symbol": "circle"
         },
         "mode": "markers",
         "name": "Ed Sheeran",
         "orientation": "v",
         "showlegend": false,
         "type": "scatter",
         "x": [
          128758
         ],
         "xaxis": "x",
         "y": [
          1448
         ],
         "yaxis": "y"
        },
        {
         "hovertemplate": "<b>%{hovertext}</b><br><br>artist(s)=Harry Styles<br>spotify_playlists=%{x}<br>apple_playlists=%{y}<extra></extra>",
         "hovertext": [
          "Harry Styles"
         ],
         "legendgroup": "Harry Styles",
         "marker": {
          "color": "#ab63fa",
          "symbol": "circle"
         },
         "mode": "markers",
         "name": "Harry Styles",
         "orientation": "v",
         "showlegend": false,
         "type": "scatter",
         "x": [
          110026
         ],
         "xaxis": "x",
         "y": [
          1741
         ],
         "yaxis": "y"
        },
        {
         "hovertemplate": "<b>%{hovertext}</b><br><br>artist(s)=Eminem<br>spotify_playlists=%{x}<br>apple_playlists=%{y}<extra></extra>",
         "hovertext": [
          "Eminem"
         ],
         "legendgroup": "Eminem",
         "marker": {
          "color": "#FFA15A",
          "symbol": "circle"
         },
         "mode": "markers",
         "name": "Eminem",
         "orientation": "v",
         "showlegend": false,
         "type": "scatter",
         "x": [
          87331
         ],
         "xaxis": "x",
         "y": [
          475
         ],
         "yaxis": "y"
        },
        {
         "hovertemplate": "<b>%{hovertext}</b><br><br>artist(s)=Arctic Monkeys<br>spotify_playlists=%{x}<br>apple_playlists=%{y}<extra></extra>",
         "hovertext": [
          "Arctic Monkeys"
         ],
         "legendgroup": "Arctic Monkeys",
         "marker": {
          "color": "#19d3f3",
          "symbol": "circle"
         },
         "mode": "markers",
         "name": "Arctic Monkeys",
         "orientation": "v",
         "showlegend": false,
         "type": "scatter",
         "x": [
          84016
         ],
         "xaxis": "x",
         "y": [
          241
         ],
         "yaxis": "y"
        },
        {
         "hovertemplate": "<b>%{hovertext}</b><br><br>artist(s)=Coldplay<br>spotify_playlists=%{x}<br>apple_playlists=%{y}<extra></extra>",
         "hovertext": [
          "Coldplay"
         ],
         "legendgroup": "Coldplay",
         "marker": {
          "color": "#FF6692",
          "symbol": "circle"
         },
         "mode": "markers",
         "name": "Coldplay",
         "orientation": "v",
         "showlegend": false,
         "type": "scatter",
         "x": [
          75716
         ],
         "xaxis": "x",
         "y": [
          381
         ],
         "yaxis": "y"
        },
        {
         "hovertemplate": "<b>%{hovertext}</b><br><br>artist(s)=Avicii<br>spotify_playlists=%{x}<br>apple_playlists=%{y}<extra></extra>",
         "hovertext": [
          "Avicii"
         ],
         "legendgroup": "Avicii",
         "marker": {
          "color": "#B6E880",
          "symbol": "circle"
         },
         "mode": "markers",
         "name": "Avicii",
         "orientation": "v",
         "showlegend": false,
         "type": "scatter",
         "x": [
          68241
         ],
         "xaxis": "x",
         "y": [
          407
         ],
         "yaxis": "y"
        },
        {
         "hovertemplate": "<b>%{hovertext}</b><br><br>artist(s)=Dr. Dre, Snoop Dogg<br>spotify_playlists=%{x}<br>apple_playlists=%{y}<extra></extra>",
         "hovertext": [
          "Dr. Dre, Snoop Dogg"
         ],
         "legendgroup": "Dr. Dre, Snoop Dogg",
         "marker": {
          "color": "#FF97FF",
          "symbol": "circle"
         },
         "mode": "markers",
         "name": "Dr. Dre, Snoop Dogg",
         "orientation": "v",
         "showlegend": false,
         "type": "scatter",
         "x": [
          65728
         ],
         "xaxis": "x",
         "y": [
          283
         ],
         "yaxis": "y"
        },
        {
         "hovertemplate": "<b>%{hovertext}</b><br><br>artist(s)=Adele<br>spotify_playlists=%{x}<br>apple_playlists=%{y}<extra></extra>",
         "hovertext": [
          "Adele"
         ],
         "legendgroup": "Adele",
         "marker": {
          "color": "#FECB52",
          "symbol": "circle"
         },
         "mode": "markers",
         "name": "Adele",
         "orientation": "v",
         "showlegend": false,
         "type": "scatter",
         "x": [
          65049
         ],
         "xaxis": "x",
         "y": [
          646
         ],
         "yaxis": "y"
        },
        {
         "hovertemplate": "<b>%{hovertext}</b><br><br>artist(s)=Nirvana<br>spotify_playlists=%{x}<br>apple_playlists=%{y}<extra></extra>",
         "hovertext": [
          "Nirvana"
         ],
         "legendgroup": "Nirvana",
         "marker": {
          "color": "#636efa",
          "symbol": "circle"
         },
         "mode": "markers",
         "name": "Nirvana",
         "orientation": "v",
         "showlegend": false,
         "type": "scatter",
         "x": [
          59505
         ],
         "xaxis": "x",
         "y": [
          310
         ],
         "yaxis": "y"
        },
        {
         "hovertemplate": "<b>%{hovertext}</b><br><br>artist(s)=Kendrick Lamar<br>spotify_playlists=%{x}<br>apple_playlists=%{y}<extra></extra>",
         "hovertext": [
          "Kendrick Lamar"
         ],
         "legendgroup": "Kendrick Lamar",
         "marker": {
          "color": "#EF553B",
          "symbol": "circle"
         },
         "mode": "markers",
         "name": "Kendrick Lamar",
         "orientation": "v",
         "showlegend": false,
         "type": "scatter",
         "x": [
          59221
         ],
         "xaxis": "x",
         "y": [
          398
         ],
         "yaxis": "y"
        },
        {
         "hovertemplate": "<b>%{hovertext}</b><br><br>artist(s)=Pharrell Williams, Nile Rodgers, Daft Punk<br>spotify_playlists=%{x}<br>apple_playlists=%{y}<extra></extra>",
         "hovertext": [
          "Pharrell Williams, Nile Rodgers, Daft Punk"
         ],
         "legendgroup": "Pharrell Williams, Nile Rodgers, Daft Punk",
         "marker": {
          "color": "#00cc96",
          "symbol": "circle"
         },
         "mode": "markers",
         "name": "Pharrell Williams, Nile Rodgers, Daft Punk",
         "orientation": "v",
         "showlegend": false,
         "type": "scatter",
         "x": [
          52898
         ],
         "xaxis": "x",
         "y": [
          203
         ],
         "yaxis": "y"
        },
        {
         "hovertemplate": "<b>%{hovertext}</b><br><br>artist(s)=The Killers<br>spotify_playlists=%{x}<br>apple_playlists=%{y}<extra></extra>",
         "hovertext": [
          "The Killers"
         ],
         "legendgroup": "The Killers",
         "marker": {
          "color": "#ab63fa",
          "symbol": "circle"
         },
         "mode": "markers",
         "name": "The Killers",
         "orientation": "v",
         "showlegend": false,
         "type": "scatter",
         "x": [
          51979
         ],
         "xaxis": "x",
         "y": [
          306
         ],
         "yaxis": "y"
        },
        {
         "hovertemplate": "<b>%{hovertext}</b><br><br>artist(s)=Bad Bunny<br>spotify_playlists=%{x}<br>apple_playlists=%{y}<extra></extra>",
         "hovertext": [
          "Bad Bunny"
         ],
         "legendgroup": "Bad Bunny",
         "marker": {
          "color": "#FFA15A",
          "symbol": "circle"
         },
         "mode": "markers",
         "name": "Bad Bunny",
         "orientation": "v",
         "showlegend": false,
         "type": "scatter",
         "x": [
          51317
         ],
         "xaxis": "x",
         "y": [
          589
         ],
         "yaxis": "y"
        },
        {
         "hovertemplate": "<b>%{hovertext}</b><br><br>artist(s)=Frank Ocean<br>spotify_playlists=%{x}<br>apple_playlists=%{y}<extra></extra>",
         "hovertext": [
          "Frank Ocean"
         ],
         "legendgroup": "Frank Ocean",
         "marker": {
          "color": "#19d3f3",
          "symbol": "circle"
         },
         "mode": "markers",
         "name": "Frank Ocean",
         "orientation": "v",
         "showlegend": false,
         "type": "scatter",
         "x": [
          51073
         ],
         "xaxis": "x",
         "y": [
          236
         ],
         "yaxis": "y"
        },
        {
         "hovertemplate": "<b>%{hovertext}</b><br><br>artist(s)=Imagine Dragons<br>spotify_playlists=%{x}<br>apple_playlists=%{y}<extra></extra>",
         "hovertext": [
          "Imagine Dragons"
         ],
         "legendgroup": "Imagine Dragons",
         "marker": {
          "color": "#FF6692",
          "symbol": "circle"
         },
         "mode": "markers",
         "name": "Imagine Dragons",
         "orientation": "v",
         "showlegend": false,
         "type": "scatter",
         "x": [
          49878
         ],
         "xaxis": "x",
         "y": [
          413
         ],
         "yaxis": "y"
        },
        {
         "hovertemplate": "<b>%{hovertext}</b><br><br>artist(s)=Olivia Rodrigo<br>spotify_playlists=%{x}<br>apple_playlists=%{y}<extra></extra>",
         "hovertext": [
          "Olivia Rodrigo"
         ],
         "legendgroup": "Olivia Rodrigo",
         "marker": {
          "color": "#B6E880",
          "symbol": "circle"
         },
         "mode": "markers",
         "name": "Olivia Rodrigo",
         "orientation": "v",
         "showlegend": false,
         "type": "scatter",
         "x": [
          47197
         ],
         "xaxis": "x",
         "y": [
          710
         ],
         "yaxis": "y"
        },
        {
         "hovertemplate": "<b>%{hovertext}</b><br><br>artist(s)=Linkin Park<br>spotify_playlists=%{x}<br>apple_playlists=%{y}<extra></extra>",
         "hovertext": [
          "Linkin Park"
         ],
         "legendgroup": "Linkin Park",
         "marker": {
          "color": "#FF97FF",
          "symbol": "circle"
         },
         "mode": "markers",
         "name": "Linkin Park",
         "orientation": "v",
         "showlegend": false,
         "type": "scatter",
         "x": [
          45176
         ],
         "xaxis": "x",
         "y": [
          102
         ],
         "yaxis": "y"
        },
        {
         "hovertemplate": "<b>%{hovertext}</b><br><br>artist(s)=a-ha<br>spotify_playlists=%{x}<br>apple_playlists=%{y}<extra></extra>",
         "hovertext": [
          "a-ha"
         ],
         "legendgroup": "a-ha",
         "marker": {
          "color": "#FECB52",
          "symbol": "circle"
         },
         "mode": "markers",
         "name": "a-ha",
         "orientation": "v",
         "showlegend": false,
         "type": "scatter",
         "x": [
          44927
         ],
         "xaxis": "x",
         "y": [
          34
         ],
         "yaxis": "y"
        },
        {
         "hovertemplate": "<b>%{hovertext}</b><br><br>artist(s)=SZA<br>spotify_playlists=%{x}<br>apple_playlists=%{y}<extra></extra>",
         "hovertext": [
          "SZA"
         ],
         "legendgroup": "SZA",
         "marker": {
          "color": "#636efa",
          "symbol": "circle"
         },
         "mode": "markers",
         "name": "SZA",
         "orientation": "v",
         "showlegend": false,
         "type": "scatter",
         "x": [
          44539
         ],
         "xaxis": "x",
         "y": [
          680
         ],
         "yaxis": "y"
        },
        {
         "hovertemplate": "<b>%{hovertext}</b><br><br>artist(s)=Drake, WizKid, Kyla<br>spotify_playlists=%{x}<br>apple_playlists=%{y}<extra></extra>",
         "hovertext": [
          "Drake, WizKid, Kyla"
         ],
         "legendgroup": "Drake, WizKid, Kyla",
         "marker": {
          "color": "#EF553B",
          "symbol": "circle"
         },
         "mode": "markers",
         "name": "Drake, WizKid, Kyla",
         "orientation": "v",
         "showlegend": false,
         "type": "scatter",
         "x": [
          43257
         ],
         "xaxis": "x",
         "y": [
          433
         ],
         "yaxis": "y"
        },
        {
         "hovertemplate": "<b>%{hovertext}</b><br><br>artist(s)=Gotye, Kimbra<br>spotify_playlists=%{x}<br>apple_playlists=%{y}<extra></extra>",
         "hovertext": [
          "Gotye, Kimbra"
         ],
         "legendgroup": "Gotye, Kimbra",
         "marker": {
          "color": "#00cc96",
          "symbol": "circle"
         },
         "mode": "markers",
         "name": "Gotye, Kimbra",
         "orientation": "v",
         "showlegend": false,
         "type": "scatter",
         "x": [
          42798
         ],
         "xaxis": "x",
         "y": [
          217
         ],
         "yaxis": "y"
        },
        {
         "hovertemplate": "<b>%{hovertext}</b><br><br>artist(s)=Kanye West<br>spotify_playlists=%{x}<br>apple_playlists=%{y}<extra></extra>",
         "hovertext": [
          "Kanye West"
         ],
         "legendgroup": "Kanye West",
         "marker": {
          "color": "#ab63fa",
          "symbol": "circle"
         },
         "mode": "markers",
         "name": "Kanye West",
         "orientation": "v",
         "showlegend": false,
         "type": "scatter",
         "x": [
          41961
         ],
         "xaxis": "x",
         "y": [
          120
         ],
         "yaxis": "y"
        },
        {
         "hovertemplate": "<b>%{hovertext}</b><br><br>artist(s)=Tears For Fears<br>spotify_playlists=%{x}<br>apple_playlists=%{y}<extra></extra>",
         "hovertext": [
          "Tears For Fears"
         ],
         "legendgroup": "Tears For Fears",
         "marker": {
          "color": "#FFA15A",
          "symbol": "circle"
         },
         "mode": "markers",
         "name": "Tears For Fears",
         "orientation": "v",
         "showlegend": false,
         "type": "scatter",
         "x": [
          41751
         ],
         "xaxis": "x",
         "y": [
          101
         ],
         "yaxis": "y"
        },
        {
         "hovertemplate": "<b>%{hovertext}</b><br><br>artist(s)=Guns N' Roses<br>spotify_playlists=%{x}<br>apple_playlists=%{y}<extra></extra>",
         "hovertext": [
          "Guns N' Roses"
         ],
         "legendgroup": "Guns N' Roses",
         "marker": {
          "color": "#19d3f3",
          "symbol": "circle"
         },
         "mode": "markers",
         "name": "Guns N' Roses",
         "orientation": "v",
         "showlegend": false,
         "type": "scatter",
         "x": [
          41231
         ],
         "xaxis": "x",
         "y": [
          228
         ],
         "yaxis": "y"
        },
        {
         "hovertemplate": "<b>%{hovertext}</b><br><br>artist(s)=Queen<br>spotify_playlists=%{x}<br>apple_playlists=%{y}<extra></extra>",
         "hovertext": [
          "Queen"
         ],
         "legendgroup": "Queen",
         "marker": {
          "color": "#FF6692",
          "symbol": "circle"
         },
         "mode": "markers",
         "name": "Queen",
         "orientation": "v",
         "showlegend": false,
         "type": "scatter",
         "x": [
          40112
         ],
         "xaxis": "x",
         "y": [
          321
         ],
         "yaxis": "y"
        },
        {
         "hovertemplate": "<b>%{hovertext}</b><br><br>artist(s)=Dua Lipa<br>spotify_playlists=%{x}<br>apple_playlists=%{y}<extra></extra>",
         "hovertext": [
          "Dua Lipa"
         ],
         "legendgroup": "Dua Lipa",
         "marker": {
          "color": "#B6E880",
          "symbol": "circle"
         },
         "mode": "markers",
         "name": "Dua Lipa",
         "orientation": "v",
         "showlegend": false,
         "type": "scatter",
         "x": [
          39940
         ],
         "xaxis": "x",
         "y": [
          765
         ],
         "yaxis": "y"
        },
        {
         "hovertemplate": "<b>%{hovertext}</b><br><br>artist(s)=Justin Bieber<br>spotify_playlists=%{x}<br>apple_playlists=%{y}<extra></extra>",
         "hovertext": [
          "Justin Bieber"
         ],
         "legendgroup": "Justin Bieber",
         "marker": {
          "color": "#FF97FF",
          "symbol": "circle"
         },
         "mode": "markers",
         "name": "Justin Bieber",
         "orientation": "v",
         "showlegend": false,
         "type": "scatter",
         "x": [
          38173
         ],
         "xaxis": "x",
         "y": [
          591
         ],
         "yaxis": "y"
        },
        {
         "hovertemplate": "<b>%{hovertext}</b><br><br>artist(s)=OneRepublic<br>spotify_playlists=%{x}<br>apple_playlists=%{y}<extra></extra>",
         "hovertext": [
          "OneRepublic"
         ],
         "legendgroup": "OneRepublic",
         "marker": {
          "color": "#FECB52",
          "symbol": "circle"
         },
         "mode": "markers",
         "name": "OneRepublic",
         "orientation": "v",
         "showlegend": false,
         "type": "scatter",
         "x": [
          37646
         ],
         "xaxis": "x",
         "y": [
          420
         ],
         "yaxis": "y"
        },
        {
         "hovertemplate": "<b>%{hovertext}</b><br><br>artist(s)=Rihanna, Calvin Harris<br>spotify_playlists=%{x}<br>apple_playlists=%{y}<extra></extra>",
         "hovertext": [
          "Rihanna, Calvin Harris"
         ],
         "legendgroup": "Rihanna, Calvin Harris",
         "marker": {
          "color": "#636efa",
          "symbol": "circle"
         },
         "mode": "markers",
         "name": "Rihanna, Calvin Harris",
         "orientation": "v",
         "showlegend": false,
         "type": "scatter",
         "x": [
          36843
         ],
         "xaxis": "x",
         "y": [
          321
         ],
         "yaxis": "y"
        },
        {
         "hovertemplate": "<b>%{hovertext}</b><br><br>artist(s)=Radiohead<br>spotify_playlists=%{x}<br>apple_playlists=%{y}<extra></extra>",
         "hovertext": [
          "Radiohead"
         ],
         "legendgroup": "Radiohead",
         "marker": {
          "color": "#EF553B",
          "symbol": "circle"
         },
         "mode": "markers",
         "name": "Radiohead",
         "orientation": "v",
         "showlegend": false,
         "type": "scatter",
         "x": [
          36724
         ],
         "xaxis": "x",
         "y": [
          146
         ],
         "yaxis": "y"
        },
        {
         "hovertemplate": "<b>%{hovertext}</b><br><br>artist(s)=Doja Cat<br>spotify_playlists=%{x}<br>apple_playlists=%{y}<extra></extra>",
         "hovertext": [
          "Doja Cat"
         ],
         "legendgroup": "Doja Cat",
         "marker": {
          "color": "#00cc96",
          "symbol": "circle"
         },
         "mode": "markers",
         "name": "Doja Cat",
         "orientation": "v",
         "showlegend": false,
         "type": "scatter",
         "x": [
          34835
         ],
         "xaxis": "x",
         "y": [
          566
         ],
         "yaxis": "y"
        },
        {
         "hovertemplate": "<b>%{hovertext}</b><br><br>artist(s)=Bruno Mars<br>spotify_playlists=%{x}<br>apple_playlists=%{y}<extra></extra>",
         "hovertext": [
          "Bruno Mars"
         ],
         "legendgroup": "Bruno Mars",
         "marker": {
          "color": "#ab63fa",
          "symbol": "circle"
         },
         "mode": "markers",
         "name": "Bruno Mars",
         "orientation": "v",
         "showlegend": false,
         "type": "scatter",
         "x": [
          32257
         ],
         "xaxis": "x",
         "y": [
          87
         ],
         "yaxis": "y"
        },
        {
         "hovertemplate": "<b>%{hovertext}</b><br><br>artist(s)=Lana Del Rey<br>spotify_playlists=%{x}<br>apple_playlists=%{y}<extra></extra>",
         "hovertext": [
          "Lana Del Rey"
         ],
         "legendgroup": "Lana Del Rey",
         "marker": {
          "color": "#FFA15A",
          "symbol": "circle"
         },
         "mode": "markers",
         "name": "Lana Del Rey",
         "orientation": "v",
         "showlegend": false,
         "type": "scatter",
         "x": [
          31722
         ],
         "xaxis": "x",
         "y": [
          162
         ],
         "yaxis": "y"
        },
        {
         "hovertemplate": "<b>%{hovertext}</b><br><br>artist(s)=Chris Molitor<br>spotify_playlists=%{x}<br>apple_playlists=%{y}<extra></extra>",
         "hovertext": [
          "Chris Molitor"
         ],
         "legendgroup": "Chris Molitor",
         "marker": {
          "color": "#19d3f3",
          "symbol": "circle"
         },
         "mode": "markers",
         "name": "Chris Molitor",
         "orientation": "v",
         "showlegend": false,
         "type": "scatter",
         "x": [
          31358
         ],
         "xaxis": "x",
         "y": [
          196
         ],
         "yaxis": "y"
        },
        {
         "hovertemplate": "<b>%{hovertext}</b><br><br>artist(s)=Vance Joy<br>spotify_playlists=%{x}<br>apple_playlists=%{y}<extra></extra>",
         "hovertext": [
          "Vance Joy"
         ],
         "legendgroup": "Vance Joy",
         "marker": {
          "color": "#FF6692",
          "symbol": "circle"
         },
         "mode": "markers",
         "name": "Vance Joy",
         "orientation": "v",
         "showlegend": false,
         "type": "scatter",
         "x": [
          31123
         ],
         "xaxis": "x",
         "y": [
          300
         ],
         "yaxis": "y"
        },
        {
         "hovertemplate": "<b>%{hovertext}</b><br><br>artist(s)=50 Cent<br>spotify_playlists=%{x}<br>apple_playlists=%{y}<extra></extra>",
         "hovertext": [
          "50 Cent"
         ],
         "legendgroup": "50 Cent",
         "marker": {
          "color": "#B6E880",
          "symbol": "circle"
         },
         "mode": "markers",
         "name": "50 Cent",
         "orientation": "v",
         "showlegend": false,
         "type": "scatter",
         "x": [
          30427
         ],
         "xaxis": "x",
         "y": [
          235
         ],
         "yaxis": "y"
        },
        {
         "hovertemplate": "<b>%{hovertext}</b><br><br>artist(s)=The Neighbourhood<br>spotify_playlists=%{x}<br>apple_playlists=%{y}<extra></extra>",
         "hovertext": [
          "The Neighbourhood"
         ],
         "legendgroup": "The Neighbourhood",
         "marker": {
          "color": "#FF97FF",
          "symbol": "circle"
         },
         "mode": "markers",
         "name": "The Neighbourhood",
         "orientation": "v",
         "showlegend": false,
         "type": "scatter",
         "x": [
          30131
         ],
         "xaxis": "x",
         "y": [
          241
         ],
         "yaxis": "y"
        },
        {
         "hovertemplate": "<b>%{hovertext}</b><br><br>artist(s)=The Weeknd, Daft Punk<br>spotify_playlists=%{x}<br>apple_playlists=%{y}<extra></extra>",
         "hovertext": [
          "The Weeknd, Daft Punk"
         ],
         "legendgroup": "The Weeknd, Daft Punk",
         "marker": {
          "color": "#FECB52",
          "symbol": "circle"
         },
         "mode": "markers",
         "name": "The Weeknd, Daft Punk",
         "orientation": "v",
         "showlegend": false,
         "type": "scatter",
         "x": [
          29536
         ],
         "xaxis": "x",
         "y": [
          281
         ],
         "yaxis": "y"
        },
        {
         "hovertemplate": "<b>%{hovertext}</b><br><br>artist(s)=Lewis Capaldi<br>spotify_playlists=%{x}<br>apple_playlists=%{y}<extra></extra>",
         "hovertext": [
          "Lewis Capaldi"
         ],
         "legendgroup": "Lewis Capaldi",
         "marker": {
          "color": "#636efa",
          "symbol": "circle"
         },
         "mode": "markers",
         "name": "Lewis Capaldi",
         "orientation": "v",
         "showlegend": false,
         "type": "scatter",
         "x": [
          28683
         ],
         "xaxis": "x",
         "y": [
          738
         ],
         "yaxis": "y"
        },
        {
         "hovertemplate": "<b>%{hovertext}</b><br><br>artist(s)=The Chainsmokers, Halsey<br>spotify_playlists=%{x}<br>apple_playlists=%{y}<extra></extra>",
         "hovertext": [
          "The Chainsmokers, Halsey"
         ],
         "legendgroup": "The Chainsmokers, Halsey",
         "marker": {
          "color": "#EF553B",
          "symbol": "circle"
         },
         "mode": "markers",
         "name": "The Chainsmokers, Halsey",
         "orientation": "v",
         "showlegend": false,
         "type": "scatter",
         "x": [
          28032
         ],
         "xaxis": "x",
         "y": [
          315
         ],
         "yaxis": "y"
        },
        {
         "hovertemplate": "<b>%{hovertext}</b><br><br>artist(s)=Calvin Harris, Dua Lipa<br>spotify_playlists=%{x}<br>apple_playlists=%{y}<extra></extra>",
         "hovertext": [
          "Calvin Harris, Dua Lipa"
         ],
         "legendgroup": "Calvin Harris, Dua Lipa",
         "marker": {
          "color": "#00cc96",
          "symbol": "circle"
         },
         "mode": "markers",
         "name": "Calvin Harris, Dua Lipa",
         "orientation": "v",
         "showlegend": false,
         "type": "scatter",
         "x": [
          27705
         ],
         "xaxis": "x",
         "y": [
          537
         ],
         "yaxis": "y"
        },
        {
         "hovertemplate": "<b>%{hovertext}</b><br><br>artist(s)=John Legend<br>spotify_playlists=%{x}<br>apple_playlists=%{y}<extra></extra>",
         "hovertext": [
          "John Legend"
         ],
         "legendgroup": "John Legend",
         "marker": {
          "color": "#ab63fa",
          "symbol": "circle"
         },
         "mode": "markers",
         "name": "John Legend",
         "orientation": "v",
         "showlegend": false,
         "type": "scatter",
         "x": [
          27221
         ],
         "xaxis": "x",
         "y": [
          308
         ],
         "yaxis": "y"
        },
        {
         "hovertemplate": "<b>%{hovertext}</b><br><br>artist(s)=Kendrick Lamar, Jay Rock<br>spotify_playlists=%{x}<br>apple_playlists=%{y}<extra></extra>",
         "hovertext": [
          "Kendrick Lamar, Jay Rock"
         ],
         "legendgroup": "Kendrick Lamar, Jay Rock",
         "marker": {
          "color": "#FFA15A",
          "symbol": "circle"
         },
         "mode": "markers",
         "name": "Kendrick Lamar, Jay Rock",
         "orientation": "v",
         "showlegend": false,
         "type": "scatter",
         "x": [
          26792
         ],
         "xaxis": "x",
         "y": [
          69
         ],
         "yaxis": "y"
        },
        {
         "hovertemplate": "<b>%{hovertext}</b><br><br>artist(s)=Mariah Carey<br>spotify_playlists=%{x}<br>apple_playlists=%{y}<extra></extra>",
         "hovertext": [
          "Mariah Carey"
         ],
         "legendgroup": "Mariah Carey",
         "marker": {
          "color": "#19d3f3",
          "symbol": "circle"
         },
         "mode": "markers",
         "name": "Mariah Carey",
         "orientation": "v",
         "showlegend": false,
         "type": "scatter",
         "x": [
          25653
         ],
         "xaxis": "x",
         "y": [
          387
         ],
         "yaxis": "y"
        },
        {
         "hovertemplate": "<b>%{hovertext}</b><br><br>artist(s)=Labrinth<br>spotify_playlists=%{x}<br>apple_playlists=%{y}<extra></extra>",
         "hovertext": [
          "Labrinth"
         ],
         "legendgroup": "Labrinth",
         "marker": {
          "color": "#FF6692",
          "symbol": "circle"
         },
         "mode": "markers",
         "name": "Labrinth",
         "orientation": "v",
         "showlegend": false,
         "type": "scatter",
         "x": [
          25033
         ],
         "xaxis": "x",
         "y": [
          217
         ],
         "yaxis": "y"
        },
        {
         "hovertemplate": "<b>%{hovertext}</b><br><br>artist(s)=Tones and I<br>spotify_playlists=%{x}<br>apple_playlists=%{y}<extra></extra>",
         "hovertext": [
          "Tones and I"
         ],
         "legendgroup": "Tones and I",
         "marker": {
          "color": "#B6E880",
          "symbol": "circle"
         },
         "mode": "markers",
         "name": "Tones and I",
         "orientation": "v",
         "showlegend": false,
         "type": "scatter",
         "x": [
          24529
         ],
         "xaxis": "x",
         "y": [
          533
         ],
         "yaxis": "y"
        },
        {
         "hovertemplate": "<b>%{hovertext}</b><br><br>artist(s)=Post Malone, Swae Lee<br>spotify_playlists=%{x}<br>apple_playlists=%{y}<extra></extra>",
         "hovertext": [
          "Post Malone, Swae Lee"
         ],
         "legendgroup": "Post Malone, Swae Lee",
         "marker": {
          "color": "#FF97FF",
          "symbol": "circle"
         },
         "mode": "markers",
         "name": "Post Malone, Swae Lee",
         "orientation": "v",
         "showlegend": false,
         "type": "scatter",
         "x": [
          24094
         ],
         "xaxis": "x",
         "y": [
          372
         ],
         "yaxis": "y"
        },
        {
         "hovertemplate": "<b>%{hovertext}</b><br><br>artist(s)=Hozier<br>spotify_playlists=%{x}<br>apple_playlists=%{y}<extra></extra>",
         "hovertext": [
          "Hozier"
         ],
         "legendgroup": "Hozier",
         "marker": {
          "color": "#FECB52",
          "symbol": "circle"
         },
         "mode": "markers",
         "name": "Hozier",
         "orientation": "v",
         "showlegend": false,
         "type": "scatter",
         "x": [
          23804
         ],
         "xaxis": "x",
         "y": [
          187
         ],
         "yaxis": "y"
        },
        {
         "hovertemplate": "<b>%{hovertext}</b><br><br>artist(s)=The Chainsmokers, Coldplay<br>spotify_playlists=%{x}<br>apple_playlists=%{y}<extra></extra>",
         "hovertext": [
          "The Chainsmokers, Coldplay"
         ],
         "legendgroup": "The Chainsmokers, Coldplay",
         "marker": {
          "color": "#636efa",
          "symbol": "circle"
         },
         "mode": "markers",
         "name": "The Chainsmokers, Coldplay",
         "orientation": "v",
         "showlegend": false,
         "type": "scatter",
         "x": [
          23375
         ],
         "xaxis": "x",
         "y": [
          336
         ],
         "yaxis": "y"
        },
        {
         "hovertemplate": "<b>%{hovertext}</b><br><br>artist(s)=Eminem, Nate Dogg<br>spotify_playlists=%{x}<br>apple_playlists=%{y}<extra></extra>",
         "hovertext": [
          "Eminem, Nate Dogg"
         ],
         "legendgroup": "Eminem, Nate Dogg",
         "marker": {
          "color": "#EF553B",
          "symbol": "circle"
         },
         "mode": "markers",
         "name": "Eminem, Nate Dogg",
         "orientation": "v",
         "showlegend": false,
         "type": "scatter",
         "x": [
          22923
         ],
         "xaxis": "x",
         "y": [
          78
         ],
         "yaxis": "y"
        },
        {
         "hovertemplate": "<b>%{hovertext}</b><br><br>artist(s)=Lil Nas X<br>spotify_playlists=%{x}<br>apple_playlists=%{y}<extra></extra>",
         "hovertext": [
          "Lil Nas X"
         ],
         "legendgroup": "Lil Nas X",
         "marker": {
          "color": "#00cc96",
          "symbol": "circle"
         },
         "mode": "markers",
         "name": "Lil Nas X",
         "orientation": "v",
         "showlegend": false,
         "type": "scatter",
         "x": [
          22908
         ],
         "xaxis": "x",
         "y": [
          561
         ],
         "yaxis": "y"
        },
        {
         "hovertemplate": "<b>%{hovertext}</b><br><br>artist(s)=Post Malone<br>spotify_playlists=%{x}<br>apple_playlists=%{y}<extra></extra>",
         "hovertext": [
          "Post Malone"
         ],
         "legendgroup": "Post Malone",
         "marker": {
          "color": "#ab63fa",
          "symbol": "circle"
         },
         "mode": "markers",
         "name": "Post Malone",
         "orientation": "v",
         "showlegend": false,
         "type": "scatter",
         "x": [
          22602
         ],
         "xaxis": "x",
         "y": [
          483
         ],
         "yaxis": "y"
        },
        {
         "hovertemplate": "<b>%{hovertext}</b><br><br>artist(s)=Glass Animals<br>spotify_playlists=%{x}<br>apple_playlists=%{y}<extra></extra>",
         "hovertext": [
          "Glass Animals"
         ],
         "legendgroup": "Glass Animals",
         "marker": {
          "color": "#FFA15A",
          "symbol": "circle"
         },
         "mode": "markers",
         "name": "Glass Animals",
         "orientation": "v",
         "showlegend": false,
         "type": "scatter",
         "x": [
          22543
         ],
         "xaxis": "x",
         "y": [
          386
         ],
         "yaxis": "y"
        },
        {
         "hovertemplate": "<b>%{hovertext}</b><br><br>artist(s)=The Police<br>spotify_playlists=%{x}<br>apple_playlists=%{y}<extra></extra>",
         "hovertext": [
          "The Police"
         ],
         "legendgroup": "The Police",
         "marker": {
          "color": "#19d3f3",
          "symbol": "circle"
         },
         "mode": "markers",
         "name": "The Police",
         "orientation": "v",
         "showlegend": false,
         "type": "scatter",
         "x": [
          22439
         ],
         "xaxis": "x",
         "y": [
          211
         ],
         "yaxis": "y"
        },
        {
         "hovertemplate": "<b>%{hovertext}</b><br><br>artist(s)=Wham!<br>spotify_playlists=%{x}<br>apple_playlists=%{y}<extra></extra>",
         "hovertext": [
          "Wham!"
         ],
         "legendgroup": "Wham!",
         "marker": {
          "color": "#FF6692",
          "symbol": "circle"
         },
         "mode": "markers",
         "name": "Wham!",
         "orientation": "v",
         "showlegend": false,
         "type": "scatter",
         "x": [
          22153
         ],
         "xaxis": "x",
         "y": [
          274
         ],
         "yaxis": "y"
        },
        {
         "hovertemplate": "<b>%{hovertext}</b><br><br>artist(s)=Kate Bush<br>spotify_playlists=%{x}<br>apple_playlists=%{y}<extra></extra>",
         "hovertext": [
          "Kate Bush"
         ],
         "legendgroup": "Kate Bush",
         "marker": {
          "color": "#B6E880",
          "symbol": "circle"
         },
         "mode": "markers",
         "name": "Kate Bush",
         "orientation": "v",
         "showlegend": false,
         "type": "scatter",
         "x": [
          21811
         ],
         "xaxis": "x",
         "y": [
          117
         ],
         "yaxis": "y"
        },
        {
         "hovertemplate": "<b>%{hovertext}</b><br><br>artist(s)=J. Cole<br>spotify_playlists=%{x}<br>apple_playlists=%{y}<extra></extra>",
         "hovertext": [
          "J. Cole"
         ],
         "legendgroup": "J. Cole",
         "marker": {
          "color": "#FF97FF",
          "symbol": "circle"
         },
         "mode": "markers",
         "name": "J. Cole",
         "orientation": "v",
         "showlegend": false,
         "type": "scatter",
         "x": [
          21164
         ],
         "xaxis": "x",
         "y": [
          80
         ],
         "yaxis": "y"
        },
        {
         "hovertemplate": "<b>%{hovertext}</b><br><br>artist(s)=Dua Lipa, Elton John, Pnau<br>spotify_playlists=%{x}<br>apple_playlists=%{y}<extra></extra>",
         "hovertext": [
          "Dua Lipa, Elton John, Pnau"
         ],
         "legendgroup": "Dua Lipa, Elton John, Pnau",
         "marker": {
          "color": "#FECB52",
          "symbol": "circle"
         },
         "mode": "markers",
         "name": "Dua Lipa, Elton John, Pnau",
         "orientation": "v",
         "showlegend": false,
         "type": "scatter",
         "x": [
          21097
         ],
         "xaxis": "x",
         "y": [
          384
         ],
         "yaxis": "y"
        },
        {
         "hovertemplate": "<b>%{hovertext}</b><br><br>artist(s)=Beyoncï¿<br>spotify_playlists=%{x}<br>apple_playlists=%{y}<extra></extra>",
         "hovertext": [
          "Beyoncï¿"
         ],
         "legendgroup": "Beyoncï¿",
         "marker": {
          "color": "#636efa",
          "symbol": "circle"
         },
         "mode": "markers",
         "name": "Beyoncï¿",
         "orientation": "v",
         "showlegend": false,
         "type": "scatter",
         "x": [
          20254
         ],
         "xaxis": "x",
         "y": [
          476
         ],
         "yaxis": "y"
        },
        {
         "hovertemplate": "<b>%{hovertext}</b><br><br>artist(s)=Steve Lacy<br>spotify_playlists=%{x}<br>apple_playlists=%{y}<extra></extra>",
         "hovertext": [
          "Steve Lacy"
         ],
         "legendgroup": "Steve Lacy",
         "marker": {
          "color": "#EF553B",
          "symbol": "circle"
         },
         "mode": "markers",
         "name": "Steve Lacy",
         "orientation": "v",
         "showlegend": false,
         "type": "scatter",
         "x": [
          20230
         ],
         "xaxis": "x",
         "y": [
          247
         ],
         "yaxis": "y"
        },
        {
         "hovertemplate": "<b>%{hovertext}</b><br><br>artist(s)=Eminem, Dr. Dre<br>spotify_playlists=%{x}<br>apple_playlists=%{y}<extra></extra>",
         "hovertext": [
          "Eminem, Dr. Dre"
         ],
         "legendgroup": "Eminem, Dr. Dre",
         "marker": {
          "color": "#00cc96",
          "symbol": "circle"
         },
         "mode": "markers",
         "name": "Eminem, Dr. Dre",
         "orientation": "v",
         "showlegend": false,
         "type": "scatter",
         "x": [
          20107
         ],
         "xaxis": "x",
         "y": [
          86
         ],
         "yaxis": "y"
        },
        {
         "hovertemplate": "<b>%{hovertext}</b><br><br>artist(s)=Keane<br>spotify_playlists=%{x}<br>apple_playlists=%{y}<extra></extra>",
         "hovertext": [
          "Keane"
         ],
         "legendgroup": "Keane",
         "marker": {
          "color": "#ab63fa",
          "symbol": "circle"
         },
         "mode": "markers",
         "name": "Keane",
         "orientation": "v",
         "showlegend": false,
         "type": "scatter",
         "x": [
          20015
         ],
         "xaxis": "x",
         "y": [
          107
         ],
         "yaxis": "y"
        },
        {
         "hovertemplate": "<b>%{hovertext}</b><br><br>artist(s)=Michael Bublï¿<br>spotify_playlists=%{x}<br>apple_playlists=%{y}<extra></extra>",
         "hovertext": [
          "Michael Bublï¿"
         ],
         "legendgroup": "Michael Bublï¿",
         "marker": {
          "color": "#FFA15A",
          "symbol": "circle"
         },
         "mode": "markers",
         "name": "Michael Bublï¿",
         "orientation": "v",
         "showlegend": false,
         "type": "scatter",
         "x": [
          20008
         ],
         "xaxis": "x",
         "y": [
          40
         ],
         "yaxis": "y"
        },
        {
         "hovertemplate": "<b>%{hovertext}</b><br><br>artist(s)=Bruno Mars, Anderson .Paak, Silk Sonic<br>spotify_playlists=%{x}<br>apple_playlists=%{y}<extra></extra>",
         "hovertext": [
          "Bruno Mars, Anderson .Paak, Silk Sonic"
         ],
         "legendgroup": "Bruno Mars, Anderson .Paak, Silk Sonic",
         "marker": {
          "color": "#19d3f3",
          "symbol": "circle"
         },
         "mode": "markers",
         "name": "Bruno Mars, Anderson .Paak, Silk Sonic",
         "orientation": "v",
         "showlegend": false,
         "type": "scatter",
         "x": [
          19380
         ],
         "xaxis": "x",
         "y": [
          300
         ],
         "yaxis": "y"
        },
        {
         "hovertemplate": "<b>%{hovertext}</b><br><br>artist(s)=Drake, 21 Savage<br>spotify_playlists=%{x}<br>apple_playlists=%{y}<extra></extra>",
         "hovertext": [
          "Drake, 21 Savage"
         ],
         "legendgroup": "Drake, 21 Savage",
         "marker": {
          "color": "#FF6692",
          "symbol": "circle"
         },
         "mode": "markers",
         "name": "Drake, 21 Savage",
         "orientation": "v",
         "showlegend": false,
         "type": "scatter",
         "x": [
          18924
         ],
         "xaxis": "x",
         "y": [
          257
         ],
         "yaxis": "y"
        },
        {
         "hovertemplate": "<b>%{hovertext}</b><br><br>artist(s)=Dr. Dre, 2Pac, Roger<br>spotify_playlists=%{x}<br>apple_playlists=%{y}<extra></extra>",
         "hovertext": [
          "Dr. Dre, 2Pac, Roger"
         ],
         "legendgroup": "Dr. Dre, 2Pac, Roger",
         "marker": {
          "color": "#B6E880",
          "symbol": "circle"
         },
         "mode": "markers",
         "name": "Dr. Dre, 2Pac, Roger",
         "orientation": "v",
         "showlegend": false,
         "type": "scatter",
         "x": [
          18773
         ],
         "xaxis": "x",
         "y": [
          128
         ],
         "yaxis": "y"
        },
        {
         "hovertemplate": "<b>%{hovertext}</b><br><br>artist(s)=Billie Eilish<br>spotify_playlists=%{x}<br>apple_playlists=%{y}<extra></extra>",
         "hovertext": [
          "Billie Eilish"
         ],
         "legendgroup": "Billie Eilish",
         "marker": {
          "color": "#FF97FF",
          "symbol": "circle"
         },
         "mode": "markers",
         "name": "Billie Eilish",
         "orientation": "v",
         "showlegend": false,
         "type": "scatter",
         "x": [
          18521
         ],
         "xaxis": "x",
         "y": [
          344
         ],
         "yaxis": "y"
        },
        {
         "hovertemplate": "<b>%{hovertext}</b><br><br>artist(s)=Lord Huron<br>spotify_playlists=%{x}<br>apple_playlists=%{y}<extra></extra>",
         "hovertext": [
          "Lord Huron"
         ],
         "legendgroup": "Lord Huron",
         "marker": {
          "color": "#FECB52",
          "symbol": "circle"
         },
         "mode": "markers",
         "name": "Lord Huron",
         "orientation": "v",
         "showlegend": false,
         "type": "scatter",
         "x": [
          18515
         ],
         "xaxis": "x",
         "y": [
          70
         ],
         "yaxis": "y"
        },
        {
         "hovertemplate": "<b>%{hovertext}</b><br><br>artist(s)=Tom Odell<br>spotify_playlists=%{x}<br>apple_playlists=%{y}<extra></extra>",
         "hovertext": [
          "Tom Odell"
         ],
         "legendgroup": "Tom Odell",
         "marker": {
          "color": "#636efa",
          "symbol": "circle"
         },
         "mode": "markers",
         "name": "Tom Odell",
         "orientation": "v",
         "showlegend": false,
         "type": "scatter",
         "x": [
          18371
         ],
         "xaxis": "x",
         "y": [
          250
         ],
         "yaxis": "y"
        },
        {
         "hovertemplate": "<b>%{hovertext}</b><br><br>artist(s)=Joji<br>spotify_playlists=%{x}<br>apple_playlists=%{y}<extra></extra>",
         "hovertext": [
          "Joji"
         ],
         "legendgroup": "Joji",
         "marker": {
          "color": "#EF553B",
          "symbol": "circle"
         },
         "mode": "markers",
         "name": "Joji",
         "orientation": "v",
         "showlegend": false,
         "type": "scatter",
         "x": [
          18244
         ],
         "xaxis": "x",
         "y": [
          185
         ],
         "yaxis": "y"
        },
        {
         "hovertemplate": "<b>%{hovertext}</b><br><br>artist(s)=BTS<br>spotify_playlists=%{x}<br>apple_playlists=%{y}<extra></extra>",
         "hovertext": [
          "BTS"
         ],
         "legendgroup": "BTS",
         "marker": {
          "color": "#00cc96",
          "symbol": "circle"
         },
         "mode": "markers",
         "name": "BTS",
         "orientation": "v",
         "showlegend": false,
         "type": "scatter",
         "x": [
          17953
         ],
         "xaxis": "x",
         "y": [
          558
         ],
         "yaxis": "y"
        },
        {
         "hovertemplate": "<b>%{hovertext}</b><br><br>artist(s)=Beach House<br>spotify_playlists=%{x}<br>apple_playlists=%{y}<extra></extra>",
         "hovertext": [
          "Beach House"
         ],
         "legendgroup": "Beach House",
         "marker": {
          "color": "#ab63fa",
          "symbol": "circle"
         },
         "mode": "markers",
         "name": "Beach House",
         "orientation": "v",
         "showlegend": false,
         "type": "scatter",
         "x": [
          17852
         ],
         "xaxis": "x",
         "y": [
          69
         ],
         "yaxis": "y"
        },
        {
         "hovertemplate": "<b>%{hovertext}</b><br><br>artist(s)=Ariana Grande<br>spotify_playlists=%{x}<br>apple_playlists=%{y}<extra></extra>",
         "hovertext": [
          "Ariana Grande"
         ],
         "legendgroup": "Ariana Grande",
         "marker": {
          "color": "#FFA15A",
          "symbol": "circle"
         },
         "mode": "markers",
         "name": "Ariana Grande",
         "orientation": "v",
         "showlegend": false,
         "type": "scatter",
         "x": [
          17615
         ],
         "xaxis": "x",
         "y": [
          406
         ],
         "yaxis": "y"
        },
        {
         "hovertemplate": "<b>%{hovertext}</b><br><br>artist(s)=Sam Smith<br>spotify_playlists=%{x}<br>apple_playlists=%{y}<extra></extra>",
         "hovertext": [
          "Sam Smith"
         ],
         "legendgroup": "Sam Smith",
         "marker": {
          "color": "#19d3f3",
          "symbol": "circle"
         },
         "mode": "markers",
         "name": "Sam Smith",
         "orientation": "v",
         "showlegend": false,
         "type": "scatter",
         "x": [
          17492
         ],
         "xaxis": "x",
         "y": [
          136
         ],
         "yaxis": "y"
        },
        {
         "hovertemplate": "<b>%{hovertext}</b><br><br>artist(s)=Mï¿½ï¿½ne<br>spotify_playlists=%{x}<br>apple_playlists=%{y}<extra></extra>",
         "hovertext": [
          "Mï¿½ï¿½ne"
         ],
         "legendgroup": "Mï¿½ï¿½ne",
         "marker": {
          "color": "#FF6692",
          "symbol": "circle"
         },
         "mode": "markers",
         "name": "Mï¿½ï¿½ne",
         "orientation": "v",
         "showlegend": false,
         "type": "scatter",
         "x": [
          17282
         ],
         "xaxis": "x",
         "y": [
          419
         ],
         "yaxis": "y"
        },
        {
         "hovertemplate": "<b>%{hovertext}</b><br><br>artist(s)=Don Omar, Lucenzo<br>spotify_playlists=%{x}<br>apple_playlists=%{y}<extra></extra>",
         "hovertext": [
          "Don Omar, Lucenzo"
         ],
         "legendgroup": "Don Omar, Lucenzo",
         "marker": {
          "color": "#B6E880",
          "symbol": "circle"
         },
         "mode": "markers",
         "name": "Don Omar, Lucenzo",
         "orientation": "v",
         "showlegend": false,
         "type": "scatter",
         "x": [
          17138
         ],
         "xaxis": "x",
         "y": [
          119
         ],
         "yaxis": "y"
        },
        {
         "hovertemplate": "<b>%{hovertext}</b><br><br>artist(s)=Eminem, Dido<br>spotify_playlists=%{x}<br>apple_playlists=%{y}<extra></extra>",
         "hovertext": [
          "Eminem, Dido"
         ],
         "legendgroup": "Eminem, Dido",
         "marker": {
          "color": "#FF97FF",
          "symbol": "circle"
         },
         "mode": "markers",
         "name": "Eminem, Dido",
         "orientation": "v",
         "showlegend": false,
         "type": "scatter",
         "x": [
          17115
         ],
         "xaxis": "x",
         "y": [
          83
         ],
         "yaxis": "y"
        },
        {
         "hovertemplate": "<b>%{hovertext}</b><br><br>artist(s)=Justin Bieber, The Kid Laroi<br>spotify_playlists=%{x}<br>apple_playlists=%{y}<extra></extra>",
         "hovertext": [
          "Justin Bieber, The Kid Laroi"
         ],
         "legendgroup": "Justin Bieber, The Kid Laroi",
         "marker": {
          "color": "#FECB52",
          "symbol": "circle"
         },
         "mode": "markers",
         "name": "Justin Bieber, The Kid Laroi",
         "orientation": "v",
         "showlegend": false,
         "type": "scatter",
         "x": [
          17050
         ],
         "xaxis": "x",
         "y": [
          492
         ],
         "yaxis": "y"
        },
        {
         "hovertemplate": "<b>%{hovertext}</b><br><br>artist(s)=Lady Gaga, Bradley Cooper<br>spotify_playlists=%{x}<br>apple_playlists=%{y}<extra></extra>",
         "hovertext": [
          "Lady Gaga, Bradley Cooper"
         ],
         "legendgroup": "Lady Gaga, Bradley Cooper",
         "marker": {
          "color": "#636efa",
          "symbol": "circle"
         },
         "mode": "markers",
         "name": "Lady Gaga, Bradley Cooper",
         "orientation": "v",
         "showlegend": false,
         "type": "scatter",
         "x": [
          16636
         ],
         "xaxis": "x",
         "y": [
          368
         ],
         "yaxis": "y"
        },
        {
         "hovertemplate": "<b>%{hovertext}</b><br><br>artist(s)=James Arthur<br>spotify_playlists=%{x}<br>apple_playlists=%{y}<extra></extra>",
         "hovertext": [
          "James Arthur"
         ],
         "legendgroup": "James Arthur",
         "marker": {
          "color": "#EF553B",
          "symbol": "circle"
         },
         "mode": "markers",
         "name": "James Arthur",
         "orientation": "v",
         "showlegend": false,
         "type": "scatter",
         "x": [
          16516
         ],
         "xaxis": "x",
         "y": [
          269
         ],
         "yaxis": "y"
        },
        {
         "hovertemplate": "<b>%{hovertext}</b><br><br>artist(s)=Shawn Mendes<br>spotify_playlists=%{x}<br>apple_playlists=%{y}<extra></extra>",
         "hovertext": [
          "Shawn Mendes"
         ],
         "legendgroup": "Shawn Mendes",
         "marker": {
          "color": "#00cc96",
          "symbol": "circle"
         },
         "mode": "markers",
         "name": "Shawn Mendes",
         "orientation": "v",
         "showlegend": false,
         "type": "scatter",
         "x": [
          16424
         ],
         "xaxis": "x",
         "y": [
          360
         ],
         "yaxis": "y"
        },
        {
         "hovertemplate": "<b>%{hovertext}</b><br><br>artist(s)=Dua Lipa, DaBaby<br>spotify_playlists=%{x}<br>apple_playlists=%{y}<extra></extra>",
         "hovertext": [
          "Dua Lipa, DaBaby"
         ],
         "legendgroup": "Dua Lipa, DaBaby",
         "marker": {
          "color": "#ab63fa",
          "symbol": "circle"
         },
         "mode": "markers",
         "name": "Dua Lipa, DaBaby",
         "orientation": "v",
         "showlegend": false,
         "type": "scatter",
         "x": [
          15894
         ],
         "xaxis": "x",
         "y": [
          198
         ],
         "yaxis": "y"
        },
        {
         "hovertemplate": "<b>%{hovertext}</b><br><br>artist(s)=Creedence Clearwater Revival<br>spotify_playlists=%{x}<br>apple_playlists=%{y}<extra></extra>",
         "hovertext": [
          "Creedence Clearwater Revival"
         ],
         "legendgroup": "Creedence Clearwater Revival",
         "marker": {
          "color": "#FFA15A",
          "symbol": "circle"
         },
         "mode": "markers",
         "name": "Creedence Clearwater Revival",
         "orientation": "v",
         "showlegend": false,
         "type": "scatter",
         "x": [
          15890
         ],
         "xaxis": "x",
         "y": [
          71
         ],
         "yaxis": "y"
        },
        {
         "hovertemplate": "<b>%{hovertext}</b><br><br>artist(s)=SZA, Doja Cat<br>spotify_playlists=%{x}<br>apple_playlists=%{y}<extra></extra>",
         "hovertext": [
          "SZA, Doja Cat"
         ],
         "legendgroup": "SZA, Doja Cat",
         "marker": {
          "color": "#19d3f3",
          "symbol": "circle"
         },
         "mode": "markers",
         "name": "SZA, Doja Cat",
         "orientation": "v",
         "showlegend": false,
         "type": "scatter",
         "x": [
          15867
         ],
         "xaxis": "x",
         "y": [
          382
         ],
         "yaxis": "y"
        },
        {
         "hovertemplate": "<b>%{hovertext}</b><br><br>artist(s)=Juice WRLD<br>spotify_playlists=%{x}<br>apple_playlists=%{y}<extra></extra>",
         "hovertext": [
          "Juice WRLD"
         ],
         "legendgroup": "Juice WRLD",
         "marker": {
          "color": "#FF6692",
          "symbol": "circle"
         },
         "mode": "markers",
         "name": "Juice WRLD",
         "orientation": "v",
         "showlegend": false,
         "type": "scatter",
         "x": [
          15724
         ],
         "xaxis": "x",
         "y": [
          199
         ],
         "yaxis": "y"
        },
        {
         "hovertemplate": "<b>%{hovertext}</b><br><br>artist(s)=Miley Cyrus<br>spotify_playlists=%{x}<br>apple_playlists=%{y}<extra></extra>",
         "hovertext": [
          "Miley Cyrus"
         ],
         "legendgroup": "Miley Cyrus",
         "marker": {
          "color": "#B6E880",
          "symbol": "circle"
         },
         "mode": "markers",
         "name": "Miley Cyrus",
         "orientation": "v",
         "showlegend": false,
         "type": "scatter",
         "x": [
          15583
         ],
         "xaxis": "x",
         "y": [
          365
         ],
         "yaxis": "y"
        },
        {
         "hovertemplate": "<b>%{hovertext}</b><br><br>artist(s)=Lizzo<br>spotify_playlists=%{x}<br>apple_playlists=%{y}<extra></extra>",
         "hovertext": [
          "Lizzo"
         ],
         "legendgroup": "Lizzo",
         "marker": {
          "color": "#FF97FF",
          "symbol": "circle"
         },
         "mode": "markers",
         "name": "Lizzo",
         "orientation": "v",
         "showlegend": false,
         "type": "scatter",
         "x": [
          15035
         ],
         "xaxis": "x",
         "y": [
          283
         ],
         "yaxis": "y"
        },
        {
         "hovertemplate": "<b>%{hovertext}</b><br><br>artist(s)=Billie Eilish, Khalid<br>spotify_playlists=%{x}<br>apple_playlists=%{y}<extra></extra>",
         "hovertext": [
          "Billie Eilish, Khalid"
         ],
         "legendgroup": "Billie Eilish, Khalid",
         "marker": {
          "color": "#FECB52",
          "symbol": "circle"
         },
         "mode": "markers",
         "name": "Billie Eilish, Khalid",
         "orientation": "v",
         "showlegend": false,
         "type": "scatter",
         "x": [
          15032
         ],
         "xaxis": "x",
         "y": [
          221
         ],
         "yaxis": "y"
        },
        {
         "hovertemplate": "<b>%{hovertext}</b><br><br>artist(s)=Shawn Mendes, Camila Cabello<br>spotify_playlists=%{x}<br>apple_playlists=%{y}<extra></extra>",
         "hovertext": [
          "Shawn Mendes, Camila Cabello"
         ],
         "legendgroup": "Shawn Mendes, Camila Cabello",
         "marker": {
          "color": "#636efa",
          "symbol": "circle"
         },
         "mode": "markers",
         "name": "Shawn Mendes, Camila Cabello",
         "orientation": "v",
         "showlegend": false,
         "type": "scatter",
         "x": [
          15010
         ],
         "xaxis": "x",
         "y": [
          453
         ],
         "yaxis": "y"
        },
        {
         "hovertemplate": "<b>%{hovertext}</b><br><br>artist(s)=Brenda Lee<br>spotify_playlists=%{x}<br>apple_playlists=%{y}<extra></extra>",
         "hovertext": [
          "Brenda Lee"
         ],
         "legendgroup": "Brenda Lee",
         "marker": {
          "color": "#EF553B",
          "symbol": "circle"
         },
         "mode": "markers",
         "name": "Brenda Lee",
         "orientation": "v",
         "showlegend": false,
         "type": "scatter",
         "x": [
          14994
         ],
         "xaxis": "x",
         "y": [
          191
         ],
         "yaxis": "y"
        },
        {
         "hovertemplate": "<b>%{hovertext}</b><br><br>artist(s)=Nat King Cole<br>spotify_playlists=%{x}<br>apple_playlists=%{y}<extra></extra>",
         "hovertext": [
          "Nat King Cole"
         ],
         "legendgroup": "Nat King Cole",
         "marker": {
          "color": "#00cc96",
          "symbol": "circle"
         },
         "mode": "markers",
         "name": "Nat King Cole",
         "orientation": "v",
         "showlegend": false,
         "type": "scatter",
         "x": [
          14799
         ],
         "xaxis": "x",
         "y": [
          205
         ],
         "yaxis": "y"
        },
        {
         "hovertemplate": "<b>%{hovertext}</b><br><br>artist(s)=Rauw Alejandro<br>spotify_playlists=%{x}<br>apple_playlists=%{y}<extra></extra>",
         "hovertext": [
          "Rauw Alejandro"
         ],
         "legendgroup": "Rauw Alejandro",
         "marker": {
          "color": "#ab63fa",
          "symbol": "circle"
         },
         "mode": "markers",
         "name": "Rauw Alejandro",
         "orientation": "v",
         "showlegend": false,
         "type": "scatter",
         "x": [
          14611
         ],
         "xaxis": "x",
         "y": [
          224
         ],
         "yaxis": "y"
        },
        {
         "hovertemplate": "<b>%{hovertext}</b><br><br>artist(s)=Tiï¿½ï¿<br>spotify_playlists=%{x}<br>apple_playlists=%{y}<extra></extra>",
         "hovertext": [
          "Tiï¿½ï¿"
         ],
         "legendgroup": "Tiï¿½ï¿",
         "marker": {
          "color": "#FFA15A",
          "symbol": "circle"
         },
         "mode": "markers",
         "name": "Tiï¿½ï¿",
         "orientation": "v",
         "showlegend": false,
         "type": "scatter",
         "x": [
          14311
         ],
         "xaxis": "x",
         "y": [
          255
         ],
         "yaxis": "y"
        },
        {
         "hovertemplate": "<b>%{hovertext}</b><br><br>artist(s)=Feid<br>spotify_playlists=%{x}<br>apple_playlists=%{y}<extra></extra>",
         "hovertext": [
          "Feid"
         ],
         "legendgroup": "Feid",
         "marker": {
          "color": "#19d3f3",
          "symbol": "circle"
         },
         "mode": "markers",
         "name": "Feid",
         "orientation": "v",
         "showlegend": false,
         "type": "scatter",
         "x": [
          14276
         ],
         "xaxis": "x",
         "y": [
          212
         ],
         "yaxis": "y"
        },
        {
         "hovertemplate": "<b>%{hovertext}</b><br><br>artist(s)=Band Aid<br>spotify_playlists=%{x}<br>apple_playlists=%{y}<extra></extra>",
         "hovertext": [
          "Band Aid"
         ],
         "legendgroup": "Band Aid",
         "marker": {
          "color": "#FF6692",
          "symbol": "circle"
         },
         "mode": "markers",
         "name": "Band Aid",
         "orientation": "v",
         "showlegend": false,
         "type": "scatter",
         "x": [
          14169
         ],
         "xaxis": "x",
         "y": [
          209
         ],
         "yaxis": "y"
        },
        {
         "hovertemplate": "<b>%{hovertext}</b><br><br>artist(s)=Maroon 5, Wiz Khalifa<br>spotify_playlists=%{x}<br>apple_playlists=%{y}<extra></extra>",
         "hovertext": [
          "Maroon 5, Wiz Khalifa"
         ],
         "legendgroup": "Maroon 5, Wiz Khalifa",
         "marker": {
          "color": "#B6E880",
          "symbol": "circle"
         },
         "mode": "markers",
         "name": "Maroon 5, Wiz Khalifa",
         "orientation": "v",
         "showlegend": false,
         "type": "scatter",
         "x": [
          14143
         ],
         "xaxis": "x",
         "y": [
          56
         ],
         "yaxis": "y"
        },
        {
         "hovertemplate": "<b>%{hovertext}</b><br><br>artist(s)=Justin Bieber, Daniel Caesar, Giveon<br>spotify_playlists=%{x}<br>apple_playlists=%{y}<extra></extra>",
         "hovertext": [
          "Justin Bieber, Daniel Caesar, Giveon"
         ],
         "legendgroup": "Justin Bieber, Daniel Caesar, Giveon",
         "marker": {
          "color": "#FF97FF",
          "symbol": "circle"
         },
         "mode": "markers",
         "name": "Justin Bieber, Daniel Caesar, Giveon",
         "orientation": "v",
         "showlegend": false,
         "type": "scatter",
         "x": [
          14140
         ],
         "xaxis": "x",
         "y": [
          231
         ],
         "yaxis": "y"
        },
        {
         "hovertemplate": "<b>%{hovertext}</b><br><br>artist(s)=Farruko<br>spotify_playlists=%{x}<br>apple_playlists=%{y}<extra></extra>",
         "hovertext": [
          "Farruko"
         ],
         "legendgroup": "Farruko",
         "marker": {
          "color": "#FECB52",
          "symbol": "circle"
         },
         "mode": "markers",
         "name": "Farruko",
         "orientation": "v",
         "showlegend": false,
         "type": "scatter",
         "x": [
          14114
         ],
         "xaxis": "x",
         "y": [
          252
         ],
         "yaxis": "y"
        }
       ],
       "layout": {
        "legend": {
         "title": {
          "text": "artist(s)"
         },
         "tracegroupgap": 0
        },
        "template": {
         "data": {
          "bar": [
           {
            "error_x": {
             "color": "#2a3f5f"
            },
            "error_y": {
             "color": "#2a3f5f"
            },
            "marker": {
             "line": {
              "color": "#E5ECF6",
              "width": 0.5
             },
             "pattern": {
              "fillmode": "overlay",
              "size": 10,
              "solidity": 0.2
             }
            },
            "type": "bar"
           }
          ],
          "barpolar": [
           {
            "marker": {
             "line": {
              "color": "#E5ECF6",
              "width": 0.5
             },
             "pattern": {
              "fillmode": "overlay",
              "size": 10,
              "solidity": 0.2
             }
            },
            "type": "barpolar"
           }
          ],
          "carpet": [
           {
            "aaxis": {
             "endlinecolor": "#2a3f5f",
             "gridcolor": "white",
             "linecolor": "white",
             "minorgridcolor": "white",
             "startlinecolor": "#2a3f5f"
            },
            "baxis": {
             "endlinecolor": "#2a3f5f",
             "gridcolor": "white",
             "linecolor": "white",
             "minorgridcolor": "white",
             "startlinecolor": "#2a3f5f"
            },
            "type": "carpet"
           }
          ],
          "choropleth": [
           {
            "colorbar": {
             "outlinewidth": 0,
             "ticks": ""
            },
            "type": "choropleth"
           }
          ],
          "contour": [
           {
            "colorbar": {
             "outlinewidth": 0,
             "ticks": ""
            },
            "colorscale": [
             [
              0,
              "#0d0887"
             ],
             [
              0.1111111111111111,
              "#46039f"
             ],
             [
              0.2222222222222222,
              "#7201a8"
             ],
             [
              0.3333333333333333,
              "#9c179e"
             ],
             [
              0.4444444444444444,
              "#bd3786"
             ],
             [
              0.5555555555555556,
              "#d8576b"
             ],
             [
              0.6666666666666666,
              "#ed7953"
             ],
             [
              0.7777777777777778,
              "#fb9f3a"
             ],
             [
              0.8888888888888888,
              "#fdca26"
             ],
             [
              1,
              "#f0f921"
             ]
            ],
            "type": "contour"
           }
          ],
          "contourcarpet": [
           {
            "colorbar": {
             "outlinewidth": 0,
             "ticks": ""
            },
            "type": "contourcarpet"
           }
          ],
          "heatmap": [
           {
            "colorbar": {
             "outlinewidth": 0,
             "ticks": ""
            },
            "colorscale": [
             [
              0,
              "#0d0887"
             ],
             [
              0.1111111111111111,
              "#46039f"
             ],
             [
              0.2222222222222222,
              "#7201a8"
             ],
             [
              0.3333333333333333,
              "#9c179e"
             ],
             [
              0.4444444444444444,
              "#bd3786"
             ],
             [
              0.5555555555555556,
              "#d8576b"
             ],
             [
              0.6666666666666666,
              "#ed7953"
             ],
             [
              0.7777777777777778,
              "#fb9f3a"
             ],
             [
              0.8888888888888888,
              "#fdca26"
             ],
             [
              1,
              "#f0f921"
             ]
            ],
            "type": "heatmap"
           }
          ],
          "heatmapgl": [
           {
            "colorbar": {
             "outlinewidth": 0,
             "ticks": ""
            },
            "colorscale": [
             [
              0,
              "#0d0887"
             ],
             [
              0.1111111111111111,
              "#46039f"
             ],
             [
              0.2222222222222222,
              "#7201a8"
             ],
             [
              0.3333333333333333,
              "#9c179e"
             ],
             [
              0.4444444444444444,
              "#bd3786"
             ],
             [
              0.5555555555555556,
              "#d8576b"
             ],
             [
              0.6666666666666666,
              "#ed7953"
             ],
             [
              0.7777777777777778,
              "#fb9f3a"
             ],
             [
              0.8888888888888888,
              "#fdca26"
             ],
             [
              1,
              "#f0f921"
             ]
            ],
            "type": "heatmapgl"
           }
          ],
          "histogram": [
           {
            "marker": {
             "pattern": {
              "fillmode": "overlay",
              "size": 10,
              "solidity": 0.2
             }
            },
            "type": "histogram"
           }
          ],
          "histogram2d": [
           {
            "colorbar": {
             "outlinewidth": 0,
             "ticks": ""
            },
            "colorscale": [
             [
              0,
              "#0d0887"
             ],
             [
              0.1111111111111111,
              "#46039f"
             ],
             [
              0.2222222222222222,
              "#7201a8"
             ],
             [
              0.3333333333333333,
              "#9c179e"
             ],
             [
              0.4444444444444444,
              "#bd3786"
             ],
             [
              0.5555555555555556,
              "#d8576b"
             ],
             [
              0.6666666666666666,
              "#ed7953"
             ],
             [
              0.7777777777777778,
              "#fb9f3a"
             ],
             [
              0.8888888888888888,
              "#fdca26"
             ],
             [
              1,
              "#f0f921"
             ]
            ],
            "type": "histogram2d"
           }
          ],
          "histogram2dcontour": [
           {
            "colorbar": {
             "outlinewidth": 0,
             "ticks": ""
            },
            "colorscale": [
             [
              0,
              "#0d0887"
             ],
             [
              0.1111111111111111,
              "#46039f"
             ],
             [
              0.2222222222222222,
              "#7201a8"
             ],
             [
              0.3333333333333333,
              "#9c179e"
             ],
             [
              0.4444444444444444,
              "#bd3786"
             ],
             [
              0.5555555555555556,
              "#d8576b"
             ],
             [
              0.6666666666666666,
              "#ed7953"
             ],
             [
              0.7777777777777778,
              "#fb9f3a"
             ],
             [
              0.8888888888888888,
              "#fdca26"
             ],
             [
              1,
              "#f0f921"
             ]
            ],
            "type": "histogram2dcontour"
           }
          ],
          "mesh3d": [
           {
            "colorbar": {
             "outlinewidth": 0,
             "ticks": ""
            },
            "type": "mesh3d"
           }
          ],
          "parcoords": [
           {
            "line": {
             "colorbar": {
              "outlinewidth": 0,
              "ticks": ""
             }
            },
            "type": "parcoords"
           }
          ],
          "pie": [
           {
            "automargin": true,
            "type": "pie"
           }
          ],
          "scatter": [
           {
            "marker": {
             "colorbar": {
              "outlinewidth": 0,
              "ticks": ""
             }
            },
            "type": "scatter"
           }
          ],
          "scatter3d": [
           {
            "line": {
             "colorbar": {
              "outlinewidth": 0,
              "ticks": ""
             }
            },
            "marker": {
             "colorbar": {
              "outlinewidth": 0,
              "ticks": ""
             }
            },
            "type": "scatter3d"
           }
          ],
          "scattercarpet": [
           {
            "marker": {
             "colorbar": {
              "outlinewidth": 0,
              "ticks": ""
             }
            },
            "type": "scattercarpet"
           }
          ],
          "scattergeo": [
           {
            "marker": {
             "colorbar": {
              "outlinewidth": 0,
              "ticks": ""
             }
            },
            "type": "scattergeo"
           }
          ],
          "scattergl": [
           {
            "marker": {
             "colorbar": {
              "outlinewidth": 0,
              "ticks": ""
             }
            },
            "type": "scattergl"
           }
          ],
          "scattermapbox": [
           {
            "marker": {
             "colorbar": {
              "outlinewidth": 0,
              "ticks": ""
             }
            },
            "type": "scattermapbox"
           }
          ],
          "scatterpolar": [
           {
            "marker": {
             "colorbar": {
              "outlinewidth": 0,
              "ticks": ""
             }
            },
            "type": "scatterpolar"
           }
          ],
          "scatterpolargl": [
           {
            "marker": {
             "colorbar": {
              "outlinewidth": 0,
              "ticks": ""
             }
            },
            "type": "scatterpolargl"
           }
          ],
          "scatterternary": [
           {
            "marker": {
             "colorbar": {
              "outlinewidth": 0,
              "ticks": ""
             }
            },
            "type": "scatterternary"
           }
          ],
          "surface": [
           {
            "colorbar": {
             "outlinewidth": 0,
             "ticks": ""
            },
            "colorscale": [
             [
              0,
              "#0d0887"
             ],
             [
              0.1111111111111111,
              "#46039f"
             ],
             [
              0.2222222222222222,
              "#7201a8"
             ],
             [
              0.3333333333333333,
              "#9c179e"
             ],
             [
              0.4444444444444444,
              "#bd3786"
             ],
             [
              0.5555555555555556,
              "#d8576b"
             ],
             [
              0.6666666666666666,
              "#ed7953"
             ],
             [
              0.7777777777777778,
              "#fb9f3a"
             ],
             [
              0.8888888888888888,
              "#fdca26"
             ],
             [
              1,
              "#f0f921"
             ]
            ],
            "type": "surface"
           }
          ],
          "table": [
           {
            "cells": {
             "fill": {
              "color": "#EBF0F8"
             },
             "line": {
              "color": "white"
             }
            },
            "header": {
             "fill": {
              "color": "#C8D4E3"
             },
             "line": {
              "color": "white"
             }
            },
            "type": "table"
           }
          ]
         },
         "layout": {
          "annotationdefaults": {
           "arrowcolor": "#2a3f5f",
           "arrowhead": 0,
           "arrowwidth": 1
          },
          "autotypenumbers": "strict",
          "coloraxis": {
           "colorbar": {
            "outlinewidth": 0,
            "ticks": ""
           }
          },
          "colorscale": {
           "diverging": [
            [
             0,
             "#8e0152"
            ],
            [
             0.1,
             "#c51b7d"
            ],
            [
             0.2,
             "#de77ae"
            ],
            [
             0.3,
             "#f1b6da"
            ],
            [
             0.4,
             "#fde0ef"
            ],
            [
             0.5,
             "#f7f7f7"
            ],
            [
             0.6,
             "#e6f5d0"
            ],
            [
             0.7,
             "#b8e186"
            ],
            [
             0.8,
             "#7fbc41"
            ],
            [
             0.9,
             "#4d9221"
            ],
            [
             1,
             "#276419"
            ]
           ],
           "sequential": [
            [
             0,
             "#0d0887"
            ],
            [
             0.1111111111111111,
             "#46039f"
            ],
            [
             0.2222222222222222,
             "#7201a8"
            ],
            [
             0.3333333333333333,
             "#9c179e"
            ],
            [
             0.4444444444444444,
             "#bd3786"
            ],
            [
             0.5555555555555556,
             "#d8576b"
            ],
            [
             0.6666666666666666,
             "#ed7953"
            ],
            [
             0.7777777777777778,
             "#fb9f3a"
            ],
            [
             0.8888888888888888,
             "#fdca26"
            ],
            [
             1,
             "#f0f921"
            ]
           ],
           "sequentialminus": [
            [
             0,
             "#0d0887"
            ],
            [
             0.1111111111111111,
             "#46039f"
            ],
            [
             0.2222222222222222,
             "#7201a8"
            ],
            [
             0.3333333333333333,
             "#9c179e"
            ],
            [
             0.4444444444444444,
             "#bd3786"
            ],
            [
             0.5555555555555556,
             "#d8576b"
            ],
            [
             0.6666666666666666,
             "#ed7953"
            ],
            [
             0.7777777777777778,
             "#fb9f3a"
            ],
            [
             0.8888888888888888,
             "#fdca26"
            ],
            [
             1,
             "#f0f921"
            ]
           ]
          },
          "colorway": [
           "#636efa",
           "#EF553B",
           "#00cc96",
           "#ab63fa",
           "#FFA15A",
           "#19d3f3",
           "#FF6692",
           "#B6E880",
           "#FF97FF",
           "#FECB52"
          ],
          "font": {
           "color": "#2a3f5f"
          },
          "geo": {
           "bgcolor": "white",
           "lakecolor": "white",
           "landcolor": "#E5ECF6",
           "showlakes": true,
           "showland": true,
           "subunitcolor": "white"
          },
          "hoverlabel": {
           "align": "left"
          },
          "hovermode": "closest",
          "mapbox": {
           "style": "light"
          },
          "paper_bgcolor": "white",
          "plot_bgcolor": "#E5ECF6",
          "polar": {
           "angularaxis": {
            "gridcolor": "white",
            "linecolor": "white",
            "ticks": ""
           },
           "bgcolor": "#E5ECF6",
           "radialaxis": {
            "gridcolor": "white",
            "linecolor": "white",
            "ticks": ""
           }
          },
          "scene": {
           "xaxis": {
            "backgroundcolor": "#E5ECF6",
            "gridcolor": "white",
            "gridwidth": 2,
            "linecolor": "white",
            "showbackground": true,
            "ticks": "",
            "zerolinecolor": "white"
           },
           "yaxis": {
            "backgroundcolor": "#E5ECF6",
            "gridcolor": "white",
            "gridwidth": 2,
            "linecolor": "white",
            "showbackground": true,
            "ticks": "",
            "zerolinecolor": "white"
           },
           "zaxis": {
            "backgroundcolor": "#E5ECF6",
            "gridcolor": "white",
            "gridwidth": 2,
            "linecolor": "white",
            "showbackground": true,
            "ticks": "",
            "zerolinecolor": "white"
           }
          },
          "shapedefaults": {
           "line": {
            "color": "#2a3f5f"
           }
          },
          "ternary": {
           "aaxis": {
            "gridcolor": "white",
            "linecolor": "white",
            "ticks": ""
           },
           "baxis": {
            "gridcolor": "white",
            "linecolor": "white",
            "ticks": ""
           },
           "bgcolor": "#E5ECF6",
           "caxis": {
            "gridcolor": "white",
            "linecolor": "white",
            "ticks": ""
           }
          },
          "title": {
           "x": 0.05
          },
          "xaxis": {
           "automargin": true,
           "gridcolor": "white",
           "linecolor": "white",
           "ticks": "",
           "title": {
            "standoff": 15
           },
           "zerolinecolor": "white",
           "zerolinewidth": 2
          },
          "yaxis": {
           "automargin": true,
           "gridcolor": "white",
           "linecolor": "white",
           "ticks": "",
           "title": {
            "standoff": 15
           },
           "zerolinecolor": "white",
           "zerolinewidth": 2
          }
         }
        },
        "title": {
         "text": "relationship between playlist presence on apple music and spotify for top 100 artists"
        },
        "xaxis": {
         "anchor": "y",
         "domain": [
          0,
          1
         ],
         "title": {
          "text": "spotify_playlists"
         }
        },
        "yaxis": {
         "anchor": "x",
         "domain": [
          0,
          1
         ],
         "title": {
          "text": "apple_playlists"
         }
        }
       }
      },
      "text/html": [
       "<div>                            <div id=\"dbdedf27-51ee-4ae3-b8b4-336821adc99f\" class=\"plotly-graph-div\" style=\"height:525px; width:100%;\"></div>            <script type=\"text/javascript\">                require([\"plotly\"], function(Plotly) {                    window.PLOTLYENV=window.PLOTLYENV || {};                                    if (document.getElementById(\"dbdedf27-51ee-4ae3-b8b4-336821adc99f\")) {                    Plotly.newPlot(                        \"dbdedf27-51ee-4ae3-b8b4-336821adc99f\",                        [{\"hovertemplate\":\"<b>%{hovertext}</b><br><br>artist(s)=The Weeknd<br>spotify_playlists=%{x}<br>apple_playlists=%{y}<extra></extra>\",\"hovertext\":[\"The Weeknd\"],\"legendgroup\":\"The Weeknd\",\"marker\":{\"color\":\"#636efa\",\"symbol\":\"circle\"},\"mode\":\"markers\",\"name\":\"The Weeknd\",\"orientation\":\"v\",\"showlegend\":false,\"x\":[144053],\"xaxis\":\"x\",\"y\":[1677],\"yaxis\":\"y\",\"type\":\"scatter\"},{\"hovertemplate\":\"<b>%{hovertext}</b><br><br>artist(s)=Taylor Swift<br>spotify_playlists=%{x}<br>apple_playlists=%{y}<extra></extra>\",\"hovertext\":[\"Taylor Swift\"],\"legendgroup\":\"Taylor Swift\",\"marker\":{\"color\":\"#EF553B\",\"symbol\":\"circle\"},\"mode\":\"markers\",\"name\":\"Taylor Swift\",\"orientation\":\"v\",\"showlegend\":false,\"x\":[132974],\"xaxis\":\"x\",\"y\":[1796],\"yaxis\":\"y\",\"type\":\"scatter\"},{\"hovertemplate\":\"<b>%{hovertext}</b><br><br>artist(s)=Ed Sheeran<br>spotify_playlists=%{x}<br>apple_playlists=%{y}<extra></extra>\",\"hovertext\":[\"Ed Sheeran\"],\"legendgroup\":\"Ed Sheeran\",\"marker\":{\"color\":\"#00cc96\",\"symbol\":\"circle\"},\"mode\":\"markers\",\"name\":\"Ed Sheeran\",\"orientation\":\"v\",\"showlegend\":false,\"x\":[128758],\"xaxis\":\"x\",\"y\":[1448],\"yaxis\":\"y\",\"type\":\"scatter\"},{\"hovertemplate\":\"<b>%{hovertext}</b><br><br>artist(s)=Harry Styles<br>spotify_playlists=%{x}<br>apple_playlists=%{y}<extra></extra>\",\"hovertext\":[\"Harry Styles\"],\"legendgroup\":\"Harry Styles\",\"marker\":{\"color\":\"#ab63fa\",\"symbol\":\"circle\"},\"mode\":\"markers\",\"name\":\"Harry Styles\",\"orientation\":\"v\",\"showlegend\":false,\"x\":[110026],\"xaxis\":\"x\",\"y\":[1741],\"yaxis\":\"y\",\"type\":\"scatter\"},{\"hovertemplate\":\"<b>%{hovertext}</b><br><br>artist(s)=Eminem<br>spotify_playlists=%{x}<br>apple_playlists=%{y}<extra></extra>\",\"hovertext\":[\"Eminem\"],\"legendgroup\":\"Eminem\",\"marker\":{\"color\":\"#FFA15A\",\"symbol\":\"circle\"},\"mode\":\"markers\",\"name\":\"Eminem\",\"orientation\":\"v\",\"showlegend\":false,\"x\":[87331],\"xaxis\":\"x\",\"y\":[475],\"yaxis\":\"y\",\"type\":\"scatter\"},{\"hovertemplate\":\"<b>%{hovertext}</b><br><br>artist(s)=Arctic Monkeys<br>spotify_playlists=%{x}<br>apple_playlists=%{y}<extra></extra>\",\"hovertext\":[\"Arctic Monkeys\"],\"legendgroup\":\"Arctic Monkeys\",\"marker\":{\"color\":\"#19d3f3\",\"symbol\":\"circle\"},\"mode\":\"markers\",\"name\":\"Arctic Monkeys\",\"orientation\":\"v\",\"showlegend\":false,\"x\":[84016],\"xaxis\":\"x\",\"y\":[241],\"yaxis\":\"y\",\"type\":\"scatter\"},{\"hovertemplate\":\"<b>%{hovertext}</b><br><br>artist(s)=Coldplay<br>spotify_playlists=%{x}<br>apple_playlists=%{y}<extra></extra>\",\"hovertext\":[\"Coldplay\"],\"legendgroup\":\"Coldplay\",\"marker\":{\"color\":\"#FF6692\",\"symbol\":\"circle\"},\"mode\":\"markers\",\"name\":\"Coldplay\",\"orientation\":\"v\",\"showlegend\":false,\"x\":[75716],\"xaxis\":\"x\",\"y\":[381],\"yaxis\":\"y\",\"type\":\"scatter\"},{\"hovertemplate\":\"<b>%{hovertext}</b><br><br>artist(s)=Avicii<br>spotify_playlists=%{x}<br>apple_playlists=%{y}<extra></extra>\",\"hovertext\":[\"Avicii\"],\"legendgroup\":\"Avicii\",\"marker\":{\"color\":\"#B6E880\",\"symbol\":\"circle\"},\"mode\":\"markers\",\"name\":\"Avicii\",\"orientation\":\"v\",\"showlegend\":false,\"x\":[68241],\"xaxis\":\"x\",\"y\":[407],\"yaxis\":\"y\",\"type\":\"scatter\"},{\"hovertemplate\":\"<b>%{hovertext}</b><br><br>artist(s)=Dr. Dre, Snoop Dogg<br>spotify_playlists=%{x}<br>apple_playlists=%{y}<extra></extra>\",\"hovertext\":[\"Dr. Dre, Snoop Dogg\"],\"legendgroup\":\"Dr. Dre, Snoop Dogg\",\"marker\":{\"color\":\"#FF97FF\",\"symbol\":\"circle\"},\"mode\":\"markers\",\"name\":\"Dr. Dre, Snoop Dogg\",\"orientation\":\"v\",\"showlegend\":false,\"x\":[65728],\"xaxis\":\"x\",\"y\":[283],\"yaxis\":\"y\",\"type\":\"scatter\"},{\"hovertemplate\":\"<b>%{hovertext}</b><br><br>artist(s)=Adele<br>spotify_playlists=%{x}<br>apple_playlists=%{y}<extra></extra>\",\"hovertext\":[\"Adele\"],\"legendgroup\":\"Adele\",\"marker\":{\"color\":\"#FECB52\",\"symbol\":\"circle\"},\"mode\":\"markers\",\"name\":\"Adele\",\"orientation\":\"v\",\"showlegend\":false,\"x\":[65049],\"xaxis\":\"x\",\"y\":[646],\"yaxis\":\"y\",\"type\":\"scatter\"},{\"hovertemplate\":\"<b>%{hovertext}</b><br><br>artist(s)=Nirvana<br>spotify_playlists=%{x}<br>apple_playlists=%{y}<extra></extra>\",\"hovertext\":[\"Nirvana\"],\"legendgroup\":\"Nirvana\",\"marker\":{\"color\":\"#636efa\",\"symbol\":\"circle\"},\"mode\":\"markers\",\"name\":\"Nirvana\",\"orientation\":\"v\",\"showlegend\":false,\"x\":[59505],\"xaxis\":\"x\",\"y\":[310],\"yaxis\":\"y\",\"type\":\"scatter\"},{\"hovertemplate\":\"<b>%{hovertext}</b><br><br>artist(s)=Kendrick Lamar<br>spotify_playlists=%{x}<br>apple_playlists=%{y}<extra></extra>\",\"hovertext\":[\"Kendrick Lamar\"],\"legendgroup\":\"Kendrick Lamar\",\"marker\":{\"color\":\"#EF553B\",\"symbol\":\"circle\"},\"mode\":\"markers\",\"name\":\"Kendrick Lamar\",\"orientation\":\"v\",\"showlegend\":false,\"x\":[59221],\"xaxis\":\"x\",\"y\":[398],\"yaxis\":\"y\",\"type\":\"scatter\"},{\"hovertemplate\":\"<b>%{hovertext}</b><br><br>artist(s)=Pharrell Williams, Nile Rodgers, Daft Punk<br>spotify_playlists=%{x}<br>apple_playlists=%{y}<extra></extra>\",\"hovertext\":[\"Pharrell Williams, Nile Rodgers, Daft Punk\"],\"legendgroup\":\"Pharrell Williams, Nile Rodgers, Daft Punk\",\"marker\":{\"color\":\"#00cc96\",\"symbol\":\"circle\"},\"mode\":\"markers\",\"name\":\"Pharrell Williams, Nile Rodgers, Daft Punk\",\"orientation\":\"v\",\"showlegend\":false,\"x\":[52898],\"xaxis\":\"x\",\"y\":[203],\"yaxis\":\"y\",\"type\":\"scatter\"},{\"hovertemplate\":\"<b>%{hovertext}</b><br><br>artist(s)=The Killers<br>spotify_playlists=%{x}<br>apple_playlists=%{y}<extra></extra>\",\"hovertext\":[\"The Killers\"],\"legendgroup\":\"The Killers\",\"marker\":{\"color\":\"#ab63fa\",\"symbol\":\"circle\"},\"mode\":\"markers\",\"name\":\"The Killers\",\"orientation\":\"v\",\"showlegend\":false,\"x\":[51979],\"xaxis\":\"x\",\"y\":[306],\"yaxis\":\"y\",\"type\":\"scatter\"},{\"hovertemplate\":\"<b>%{hovertext}</b><br><br>artist(s)=Bad Bunny<br>spotify_playlists=%{x}<br>apple_playlists=%{y}<extra></extra>\",\"hovertext\":[\"Bad Bunny\"],\"legendgroup\":\"Bad Bunny\",\"marker\":{\"color\":\"#FFA15A\",\"symbol\":\"circle\"},\"mode\":\"markers\",\"name\":\"Bad Bunny\",\"orientation\":\"v\",\"showlegend\":false,\"x\":[51317],\"xaxis\":\"x\",\"y\":[589],\"yaxis\":\"y\",\"type\":\"scatter\"},{\"hovertemplate\":\"<b>%{hovertext}</b><br><br>artist(s)=Frank Ocean<br>spotify_playlists=%{x}<br>apple_playlists=%{y}<extra></extra>\",\"hovertext\":[\"Frank Ocean\"],\"legendgroup\":\"Frank Ocean\",\"marker\":{\"color\":\"#19d3f3\",\"symbol\":\"circle\"},\"mode\":\"markers\",\"name\":\"Frank Ocean\",\"orientation\":\"v\",\"showlegend\":false,\"x\":[51073],\"xaxis\":\"x\",\"y\":[236],\"yaxis\":\"y\",\"type\":\"scatter\"},{\"hovertemplate\":\"<b>%{hovertext}</b><br><br>artist(s)=Imagine Dragons<br>spotify_playlists=%{x}<br>apple_playlists=%{y}<extra></extra>\",\"hovertext\":[\"Imagine Dragons\"],\"legendgroup\":\"Imagine Dragons\",\"marker\":{\"color\":\"#FF6692\",\"symbol\":\"circle\"},\"mode\":\"markers\",\"name\":\"Imagine Dragons\",\"orientation\":\"v\",\"showlegend\":false,\"x\":[49878],\"xaxis\":\"x\",\"y\":[413],\"yaxis\":\"y\",\"type\":\"scatter\"},{\"hovertemplate\":\"<b>%{hovertext}</b><br><br>artist(s)=Olivia Rodrigo<br>spotify_playlists=%{x}<br>apple_playlists=%{y}<extra></extra>\",\"hovertext\":[\"Olivia Rodrigo\"],\"legendgroup\":\"Olivia Rodrigo\",\"marker\":{\"color\":\"#B6E880\",\"symbol\":\"circle\"},\"mode\":\"markers\",\"name\":\"Olivia Rodrigo\",\"orientation\":\"v\",\"showlegend\":false,\"x\":[47197],\"xaxis\":\"x\",\"y\":[710],\"yaxis\":\"y\",\"type\":\"scatter\"},{\"hovertemplate\":\"<b>%{hovertext}</b><br><br>artist(s)=Linkin Park<br>spotify_playlists=%{x}<br>apple_playlists=%{y}<extra></extra>\",\"hovertext\":[\"Linkin Park\"],\"legendgroup\":\"Linkin Park\",\"marker\":{\"color\":\"#FF97FF\",\"symbol\":\"circle\"},\"mode\":\"markers\",\"name\":\"Linkin Park\",\"orientation\":\"v\",\"showlegend\":false,\"x\":[45176],\"xaxis\":\"x\",\"y\":[102],\"yaxis\":\"y\",\"type\":\"scatter\"},{\"hovertemplate\":\"<b>%{hovertext}</b><br><br>artist(s)=a-ha<br>spotify_playlists=%{x}<br>apple_playlists=%{y}<extra></extra>\",\"hovertext\":[\"a-ha\"],\"legendgroup\":\"a-ha\",\"marker\":{\"color\":\"#FECB52\",\"symbol\":\"circle\"},\"mode\":\"markers\",\"name\":\"a-ha\",\"orientation\":\"v\",\"showlegend\":false,\"x\":[44927],\"xaxis\":\"x\",\"y\":[34],\"yaxis\":\"y\",\"type\":\"scatter\"},{\"hovertemplate\":\"<b>%{hovertext}</b><br><br>artist(s)=SZA<br>spotify_playlists=%{x}<br>apple_playlists=%{y}<extra></extra>\",\"hovertext\":[\"SZA\"],\"legendgroup\":\"SZA\",\"marker\":{\"color\":\"#636efa\",\"symbol\":\"circle\"},\"mode\":\"markers\",\"name\":\"SZA\",\"orientation\":\"v\",\"showlegend\":false,\"x\":[44539],\"xaxis\":\"x\",\"y\":[680],\"yaxis\":\"y\",\"type\":\"scatter\"},{\"hovertemplate\":\"<b>%{hovertext}</b><br><br>artist(s)=Drake, WizKid, Kyla<br>spotify_playlists=%{x}<br>apple_playlists=%{y}<extra></extra>\",\"hovertext\":[\"Drake, WizKid, Kyla\"],\"legendgroup\":\"Drake, WizKid, Kyla\",\"marker\":{\"color\":\"#EF553B\",\"symbol\":\"circle\"},\"mode\":\"markers\",\"name\":\"Drake, WizKid, Kyla\",\"orientation\":\"v\",\"showlegend\":false,\"x\":[43257],\"xaxis\":\"x\",\"y\":[433],\"yaxis\":\"y\",\"type\":\"scatter\"},{\"hovertemplate\":\"<b>%{hovertext}</b><br><br>artist(s)=Gotye, Kimbra<br>spotify_playlists=%{x}<br>apple_playlists=%{y}<extra></extra>\",\"hovertext\":[\"Gotye, Kimbra\"],\"legendgroup\":\"Gotye, Kimbra\",\"marker\":{\"color\":\"#00cc96\",\"symbol\":\"circle\"},\"mode\":\"markers\",\"name\":\"Gotye, Kimbra\",\"orientation\":\"v\",\"showlegend\":false,\"x\":[42798],\"xaxis\":\"x\",\"y\":[217],\"yaxis\":\"y\",\"type\":\"scatter\"},{\"hovertemplate\":\"<b>%{hovertext}</b><br><br>artist(s)=Kanye West<br>spotify_playlists=%{x}<br>apple_playlists=%{y}<extra></extra>\",\"hovertext\":[\"Kanye West\"],\"legendgroup\":\"Kanye West\",\"marker\":{\"color\":\"#ab63fa\",\"symbol\":\"circle\"},\"mode\":\"markers\",\"name\":\"Kanye West\",\"orientation\":\"v\",\"showlegend\":false,\"x\":[41961],\"xaxis\":\"x\",\"y\":[120],\"yaxis\":\"y\",\"type\":\"scatter\"},{\"hovertemplate\":\"<b>%{hovertext}</b><br><br>artist(s)=Tears For Fears<br>spotify_playlists=%{x}<br>apple_playlists=%{y}<extra></extra>\",\"hovertext\":[\"Tears For Fears\"],\"legendgroup\":\"Tears For Fears\",\"marker\":{\"color\":\"#FFA15A\",\"symbol\":\"circle\"},\"mode\":\"markers\",\"name\":\"Tears For Fears\",\"orientation\":\"v\",\"showlegend\":false,\"x\":[41751],\"xaxis\":\"x\",\"y\":[101],\"yaxis\":\"y\",\"type\":\"scatter\"},{\"hovertemplate\":\"<b>%{hovertext}</b><br><br>artist(s)=Guns N' Roses<br>spotify_playlists=%{x}<br>apple_playlists=%{y}<extra></extra>\",\"hovertext\":[\"Guns N' Roses\"],\"legendgroup\":\"Guns N' Roses\",\"marker\":{\"color\":\"#19d3f3\",\"symbol\":\"circle\"},\"mode\":\"markers\",\"name\":\"Guns N' Roses\",\"orientation\":\"v\",\"showlegend\":false,\"x\":[41231],\"xaxis\":\"x\",\"y\":[228],\"yaxis\":\"y\",\"type\":\"scatter\"},{\"hovertemplate\":\"<b>%{hovertext}</b><br><br>artist(s)=Queen<br>spotify_playlists=%{x}<br>apple_playlists=%{y}<extra></extra>\",\"hovertext\":[\"Queen\"],\"legendgroup\":\"Queen\",\"marker\":{\"color\":\"#FF6692\",\"symbol\":\"circle\"},\"mode\":\"markers\",\"name\":\"Queen\",\"orientation\":\"v\",\"showlegend\":false,\"x\":[40112],\"xaxis\":\"x\",\"y\":[321],\"yaxis\":\"y\",\"type\":\"scatter\"},{\"hovertemplate\":\"<b>%{hovertext}</b><br><br>artist(s)=Dua Lipa<br>spotify_playlists=%{x}<br>apple_playlists=%{y}<extra></extra>\",\"hovertext\":[\"Dua Lipa\"],\"legendgroup\":\"Dua Lipa\",\"marker\":{\"color\":\"#B6E880\",\"symbol\":\"circle\"},\"mode\":\"markers\",\"name\":\"Dua Lipa\",\"orientation\":\"v\",\"showlegend\":false,\"x\":[39940],\"xaxis\":\"x\",\"y\":[765],\"yaxis\":\"y\",\"type\":\"scatter\"},{\"hovertemplate\":\"<b>%{hovertext}</b><br><br>artist(s)=Justin Bieber<br>spotify_playlists=%{x}<br>apple_playlists=%{y}<extra></extra>\",\"hovertext\":[\"Justin Bieber\"],\"legendgroup\":\"Justin Bieber\",\"marker\":{\"color\":\"#FF97FF\",\"symbol\":\"circle\"},\"mode\":\"markers\",\"name\":\"Justin Bieber\",\"orientation\":\"v\",\"showlegend\":false,\"x\":[38173],\"xaxis\":\"x\",\"y\":[591],\"yaxis\":\"y\",\"type\":\"scatter\"},{\"hovertemplate\":\"<b>%{hovertext}</b><br><br>artist(s)=OneRepublic<br>spotify_playlists=%{x}<br>apple_playlists=%{y}<extra></extra>\",\"hovertext\":[\"OneRepublic\"],\"legendgroup\":\"OneRepublic\",\"marker\":{\"color\":\"#FECB52\",\"symbol\":\"circle\"},\"mode\":\"markers\",\"name\":\"OneRepublic\",\"orientation\":\"v\",\"showlegend\":false,\"x\":[37646],\"xaxis\":\"x\",\"y\":[420],\"yaxis\":\"y\",\"type\":\"scatter\"},{\"hovertemplate\":\"<b>%{hovertext}</b><br><br>artist(s)=Rihanna, Calvin Harris<br>spotify_playlists=%{x}<br>apple_playlists=%{y}<extra></extra>\",\"hovertext\":[\"Rihanna, Calvin Harris\"],\"legendgroup\":\"Rihanna, Calvin Harris\",\"marker\":{\"color\":\"#636efa\",\"symbol\":\"circle\"},\"mode\":\"markers\",\"name\":\"Rihanna, Calvin Harris\",\"orientation\":\"v\",\"showlegend\":false,\"x\":[36843],\"xaxis\":\"x\",\"y\":[321],\"yaxis\":\"y\",\"type\":\"scatter\"},{\"hovertemplate\":\"<b>%{hovertext}</b><br><br>artist(s)=Radiohead<br>spotify_playlists=%{x}<br>apple_playlists=%{y}<extra></extra>\",\"hovertext\":[\"Radiohead\"],\"legendgroup\":\"Radiohead\",\"marker\":{\"color\":\"#EF553B\",\"symbol\":\"circle\"},\"mode\":\"markers\",\"name\":\"Radiohead\",\"orientation\":\"v\",\"showlegend\":false,\"x\":[36724],\"xaxis\":\"x\",\"y\":[146],\"yaxis\":\"y\",\"type\":\"scatter\"},{\"hovertemplate\":\"<b>%{hovertext}</b><br><br>artist(s)=Doja Cat<br>spotify_playlists=%{x}<br>apple_playlists=%{y}<extra></extra>\",\"hovertext\":[\"Doja Cat\"],\"legendgroup\":\"Doja Cat\",\"marker\":{\"color\":\"#00cc96\",\"symbol\":\"circle\"},\"mode\":\"markers\",\"name\":\"Doja Cat\",\"orientation\":\"v\",\"showlegend\":false,\"x\":[34835],\"xaxis\":\"x\",\"y\":[566],\"yaxis\":\"y\",\"type\":\"scatter\"},{\"hovertemplate\":\"<b>%{hovertext}</b><br><br>artist(s)=Bruno Mars<br>spotify_playlists=%{x}<br>apple_playlists=%{y}<extra></extra>\",\"hovertext\":[\"Bruno Mars\"],\"legendgroup\":\"Bruno Mars\",\"marker\":{\"color\":\"#ab63fa\",\"symbol\":\"circle\"},\"mode\":\"markers\",\"name\":\"Bruno Mars\",\"orientation\":\"v\",\"showlegend\":false,\"x\":[32257],\"xaxis\":\"x\",\"y\":[87],\"yaxis\":\"y\",\"type\":\"scatter\"},{\"hovertemplate\":\"<b>%{hovertext}</b><br><br>artist(s)=Lana Del Rey<br>spotify_playlists=%{x}<br>apple_playlists=%{y}<extra></extra>\",\"hovertext\":[\"Lana Del Rey\"],\"legendgroup\":\"Lana Del Rey\",\"marker\":{\"color\":\"#FFA15A\",\"symbol\":\"circle\"},\"mode\":\"markers\",\"name\":\"Lana Del Rey\",\"orientation\":\"v\",\"showlegend\":false,\"x\":[31722],\"xaxis\":\"x\",\"y\":[162],\"yaxis\":\"y\",\"type\":\"scatter\"},{\"hovertemplate\":\"<b>%{hovertext}</b><br><br>artist(s)=Chris Molitor<br>spotify_playlists=%{x}<br>apple_playlists=%{y}<extra></extra>\",\"hovertext\":[\"Chris Molitor\"],\"legendgroup\":\"Chris Molitor\",\"marker\":{\"color\":\"#19d3f3\",\"symbol\":\"circle\"},\"mode\":\"markers\",\"name\":\"Chris Molitor\",\"orientation\":\"v\",\"showlegend\":false,\"x\":[31358],\"xaxis\":\"x\",\"y\":[196],\"yaxis\":\"y\",\"type\":\"scatter\"},{\"hovertemplate\":\"<b>%{hovertext}</b><br><br>artist(s)=Vance Joy<br>spotify_playlists=%{x}<br>apple_playlists=%{y}<extra></extra>\",\"hovertext\":[\"Vance Joy\"],\"legendgroup\":\"Vance Joy\",\"marker\":{\"color\":\"#FF6692\",\"symbol\":\"circle\"},\"mode\":\"markers\",\"name\":\"Vance Joy\",\"orientation\":\"v\",\"showlegend\":false,\"x\":[31123],\"xaxis\":\"x\",\"y\":[300],\"yaxis\":\"y\",\"type\":\"scatter\"},{\"hovertemplate\":\"<b>%{hovertext}</b><br><br>artist(s)=50 Cent<br>spotify_playlists=%{x}<br>apple_playlists=%{y}<extra></extra>\",\"hovertext\":[\"50 Cent\"],\"legendgroup\":\"50 Cent\",\"marker\":{\"color\":\"#B6E880\",\"symbol\":\"circle\"},\"mode\":\"markers\",\"name\":\"50 Cent\",\"orientation\":\"v\",\"showlegend\":false,\"x\":[30427],\"xaxis\":\"x\",\"y\":[235],\"yaxis\":\"y\",\"type\":\"scatter\"},{\"hovertemplate\":\"<b>%{hovertext}</b><br><br>artist(s)=The Neighbourhood<br>spotify_playlists=%{x}<br>apple_playlists=%{y}<extra></extra>\",\"hovertext\":[\"The Neighbourhood\"],\"legendgroup\":\"The Neighbourhood\",\"marker\":{\"color\":\"#FF97FF\",\"symbol\":\"circle\"},\"mode\":\"markers\",\"name\":\"The Neighbourhood\",\"orientation\":\"v\",\"showlegend\":false,\"x\":[30131],\"xaxis\":\"x\",\"y\":[241],\"yaxis\":\"y\",\"type\":\"scatter\"},{\"hovertemplate\":\"<b>%{hovertext}</b><br><br>artist(s)=The Weeknd, Daft Punk<br>spotify_playlists=%{x}<br>apple_playlists=%{y}<extra></extra>\",\"hovertext\":[\"The Weeknd, Daft Punk\"],\"legendgroup\":\"The Weeknd, Daft Punk\",\"marker\":{\"color\":\"#FECB52\",\"symbol\":\"circle\"},\"mode\":\"markers\",\"name\":\"The Weeknd, Daft Punk\",\"orientation\":\"v\",\"showlegend\":false,\"x\":[29536],\"xaxis\":\"x\",\"y\":[281],\"yaxis\":\"y\",\"type\":\"scatter\"},{\"hovertemplate\":\"<b>%{hovertext}</b><br><br>artist(s)=Lewis Capaldi<br>spotify_playlists=%{x}<br>apple_playlists=%{y}<extra></extra>\",\"hovertext\":[\"Lewis Capaldi\"],\"legendgroup\":\"Lewis Capaldi\",\"marker\":{\"color\":\"#636efa\",\"symbol\":\"circle\"},\"mode\":\"markers\",\"name\":\"Lewis Capaldi\",\"orientation\":\"v\",\"showlegend\":false,\"x\":[28683],\"xaxis\":\"x\",\"y\":[738],\"yaxis\":\"y\",\"type\":\"scatter\"},{\"hovertemplate\":\"<b>%{hovertext}</b><br><br>artist(s)=The Chainsmokers, Halsey<br>spotify_playlists=%{x}<br>apple_playlists=%{y}<extra></extra>\",\"hovertext\":[\"The Chainsmokers, Halsey\"],\"legendgroup\":\"The Chainsmokers, Halsey\",\"marker\":{\"color\":\"#EF553B\",\"symbol\":\"circle\"},\"mode\":\"markers\",\"name\":\"The Chainsmokers, Halsey\",\"orientation\":\"v\",\"showlegend\":false,\"x\":[28032],\"xaxis\":\"x\",\"y\":[315],\"yaxis\":\"y\",\"type\":\"scatter\"},{\"hovertemplate\":\"<b>%{hovertext}</b><br><br>artist(s)=Calvin Harris, Dua Lipa<br>spotify_playlists=%{x}<br>apple_playlists=%{y}<extra></extra>\",\"hovertext\":[\"Calvin Harris, Dua Lipa\"],\"legendgroup\":\"Calvin Harris, Dua Lipa\",\"marker\":{\"color\":\"#00cc96\",\"symbol\":\"circle\"},\"mode\":\"markers\",\"name\":\"Calvin Harris, Dua Lipa\",\"orientation\":\"v\",\"showlegend\":false,\"x\":[27705],\"xaxis\":\"x\",\"y\":[537],\"yaxis\":\"y\",\"type\":\"scatter\"},{\"hovertemplate\":\"<b>%{hovertext}</b><br><br>artist(s)=John Legend<br>spotify_playlists=%{x}<br>apple_playlists=%{y}<extra></extra>\",\"hovertext\":[\"John Legend\"],\"legendgroup\":\"John Legend\",\"marker\":{\"color\":\"#ab63fa\",\"symbol\":\"circle\"},\"mode\":\"markers\",\"name\":\"John Legend\",\"orientation\":\"v\",\"showlegend\":false,\"x\":[27221],\"xaxis\":\"x\",\"y\":[308],\"yaxis\":\"y\",\"type\":\"scatter\"},{\"hovertemplate\":\"<b>%{hovertext}</b><br><br>artist(s)=Kendrick Lamar, Jay Rock<br>spotify_playlists=%{x}<br>apple_playlists=%{y}<extra></extra>\",\"hovertext\":[\"Kendrick Lamar, Jay Rock\"],\"legendgroup\":\"Kendrick Lamar, Jay Rock\",\"marker\":{\"color\":\"#FFA15A\",\"symbol\":\"circle\"},\"mode\":\"markers\",\"name\":\"Kendrick Lamar, Jay Rock\",\"orientation\":\"v\",\"showlegend\":false,\"x\":[26792],\"xaxis\":\"x\",\"y\":[69],\"yaxis\":\"y\",\"type\":\"scatter\"},{\"hovertemplate\":\"<b>%{hovertext}</b><br><br>artist(s)=Mariah Carey<br>spotify_playlists=%{x}<br>apple_playlists=%{y}<extra></extra>\",\"hovertext\":[\"Mariah Carey\"],\"legendgroup\":\"Mariah Carey\",\"marker\":{\"color\":\"#19d3f3\",\"symbol\":\"circle\"},\"mode\":\"markers\",\"name\":\"Mariah Carey\",\"orientation\":\"v\",\"showlegend\":false,\"x\":[25653],\"xaxis\":\"x\",\"y\":[387],\"yaxis\":\"y\",\"type\":\"scatter\"},{\"hovertemplate\":\"<b>%{hovertext}</b><br><br>artist(s)=Labrinth<br>spotify_playlists=%{x}<br>apple_playlists=%{y}<extra></extra>\",\"hovertext\":[\"Labrinth\"],\"legendgroup\":\"Labrinth\",\"marker\":{\"color\":\"#FF6692\",\"symbol\":\"circle\"},\"mode\":\"markers\",\"name\":\"Labrinth\",\"orientation\":\"v\",\"showlegend\":false,\"x\":[25033],\"xaxis\":\"x\",\"y\":[217],\"yaxis\":\"y\",\"type\":\"scatter\"},{\"hovertemplate\":\"<b>%{hovertext}</b><br><br>artist(s)=Tones and I<br>spotify_playlists=%{x}<br>apple_playlists=%{y}<extra></extra>\",\"hovertext\":[\"Tones and I\"],\"legendgroup\":\"Tones and I\",\"marker\":{\"color\":\"#B6E880\",\"symbol\":\"circle\"},\"mode\":\"markers\",\"name\":\"Tones and I\",\"orientation\":\"v\",\"showlegend\":false,\"x\":[24529],\"xaxis\":\"x\",\"y\":[533],\"yaxis\":\"y\",\"type\":\"scatter\"},{\"hovertemplate\":\"<b>%{hovertext}</b><br><br>artist(s)=Post Malone, Swae Lee<br>spotify_playlists=%{x}<br>apple_playlists=%{y}<extra></extra>\",\"hovertext\":[\"Post Malone, Swae Lee\"],\"legendgroup\":\"Post Malone, Swae Lee\",\"marker\":{\"color\":\"#FF97FF\",\"symbol\":\"circle\"},\"mode\":\"markers\",\"name\":\"Post Malone, Swae Lee\",\"orientation\":\"v\",\"showlegend\":false,\"x\":[24094],\"xaxis\":\"x\",\"y\":[372],\"yaxis\":\"y\",\"type\":\"scatter\"},{\"hovertemplate\":\"<b>%{hovertext}</b><br><br>artist(s)=Hozier<br>spotify_playlists=%{x}<br>apple_playlists=%{y}<extra></extra>\",\"hovertext\":[\"Hozier\"],\"legendgroup\":\"Hozier\",\"marker\":{\"color\":\"#FECB52\",\"symbol\":\"circle\"},\"mode\":\"markers\",\"name\":\"Hozier\",\"orientation\":\"v\",\"showlegend\":false,\"x\":[23804],\"xaxis\":\"x\",\"y\":[187],\"yaxis\":\"y\",\"type\":\"scatter\"},{\"hovertemplate\":\"<b>%{hovertext}</b><br><br>artist(s)=The Chainsmokers, Coldplay<br>spotify_playlists=%{x}<br>apple_playlists=%{y}<extra></extra>\",\"hovertext\":[\"The Chainsmokers, Coldplay\"],\"legendgroup\":\"The Chainsmokers, Coldplay\",\"marker\":{\"color\":\"#636efa\",\"symbol\":\"circle\"},\"mode\":\"markers\",\"name\":\"The Chainsmokers, Coldplay\",\"orientation\":\"v\",\"showlegend\":false,\"x\":[23375],\"xaxis\":\"x\",\"y\":[336],\"yaxis\":\"y\",\"type\":\"scatter\"},{\"hovertemplate\":\"<b>%{hovertext}</b><br><br>artist(s)=Eminem, Nate Dogg<br>spotify_playlists=%{x}<br>apple_playlists=%{y}<extra></extra>\",\"hovertext\":[\"Eminem, Nate Dogg\"],\"legendgroup\":\"Eminem, Nate Dogg\",\"marker\":{\"color\":\"#EF553B\",\"symbol\":\"circle\"},\"mode\":\"markers\",\"name\":\"Eminem, Nate Dogg\",\"orientation\":\"v\",\"showlegend\":false,\"x\":[22923],\"xaxis\":\"x\",\"y\":[78],\"yaxis\":\"y\",\"type\":\"scatter\"},{\"hovertemplate\":\"<b>%{hovertext}</b><br><br>artist(s)=Lil Nas X<br>spotify_playlists=%{x}<br>apple_playlists=%{y}<extra></extra>\",\"hovertext\":[\"Lil Nas X\"],\"legendgroup\":\"Lil Nas X\",\"marker\":{\"color\":\"#00cc96\",\"symbol\":\"circle\"},\"mode\":\"markers\",\"name\":\"Lil Nas X\",\"orientation\":\"v\",\"showlegend\":false,\"x\":[22908],\"xaxis\":\"x\",\"y\":[561],\"yaxis\":\"y\",\"type\":\"scatter\"},{\"hovertemplate\":\"<b>%{hovertext}</b><br><br>artist(s)=Post Malone<br>spotify_playlists=%{x}<br>apple_playlists=%{y}<extra></extra>\",\"hovertext\":[\"Post Malone\"],\"legendgroup\":\"Post Malone\",\"marker\":{\"color\":\"#ab63fa\",\"symbol\":\"circle\"},\"mode\":\"markers\",\"name\":\"Post Malone\",\"orientation\":\"v\",\"showlegend\":false,\"x\":[22602],\"xaxis\":\"x\",\"y\":[483],\"yaxis\":\"y\",\"type\":\"scatter\"},{\"hovertemplate\":\"<b>%{hovertext}</b><br><br>artist(s)=Glass Animals<br>spotify_playlists=%{x}<br>apple_playlists=%{y}<extra></extra>\",\"hovertext\":[\"Glass Animals\"],\"legendgroup\":\"Glass Animals\",\"marker\":{\"color\":\"#FFA15A\",\"symbol\":\"circle\"},\"mode\":\"markers\",\"name\":\"Glass Animals\",\"orientation\":\"v\",\"showlegend\":false,\"x\":[22543],\"xaxis\":\"x\",\"y\":[386],\"yaxis\":\"y\",\"type\":\"scatter\"},{\"hovertemplate\":\"<b>%{hovertext}</b><br><br>artist(s)=The Police<br>spotify_playlists=%{x}<br>apple_playlists=%{y}<extra></extra>\",\"hovertext\":[\"The Police\"],\"legendgroup\":\"The Police\",\"marker\":{\"color\":\"#19d3f3\",\"symbol\":\"circle\"},\"mode\":\"markers\",\"name\":\"The Police\",\"orientation\":\"v\",\"showlegend\":false,\"x\":[22439],\"xaxis\":\"x\",\"y\":[211],\"yaxis\":\"y\",\"type\":\"scatter\"},{\"hovertemplate\":\"<b>%{hovertext}</b><br><br>artist(s)=Wham!<br>spotify_playlists=%{x}<br>apple_playlists=%{y}<extra></extra>\",\"hovertext\":[\"Wham!\"],\"legendgroup\":\"Wham!\",\"marker\":{\"color\":\"#FF6692\",\"symbol\":\"circle\"},\"mode\":\"markers\",\"name\":\"Wham!\",\"orientation\":\"v\",\"showlegend\":false,\"x\":[22153],\"xaxis\":\"x\",\"y\":[274],\"yaxis\":\"y\",\"type\":\"scatter\"},{\"hovertemplate\":\"<b>%{hovertext}</b><br><br>artist(s)=Kate Bush<br>spotify_playlists=%{x}<br>apple_playlists=%{y}<extra></extra>\",\"hovertext\":[\"Kate Bush\"],\"legendgroup\":\"Kate Bush\",\"marker\":{\"color\":\"#B6E880\",\"symbol\":\"circle\"},\"mode\":\"markers\",\"name\":\"Kate Bush\",\"orientation\":\"v\",\"showlegend\":false,\"x\":[21811],\"xaxis\":\"x\",\"y\":[117],\"yaxis\":\"y\",\"type\":\"scatter\"},{\"hovertemplate\":\"<b>%{hovertext}</b><br><br>artist(s)=J. Cole<br>spotify_playlists=%{x}<br>apple_playlists=%{y}<extra></extra>\",\"hovertext\":[\"J. Cole\"],\"legendgroup\":\"J. Cole\",\"marker\":{\"color\":\"#FF97FF\",\"symbol\":\"circle\"},\"mode\":\"markers\",\"name\":\"J. Cole\",\"orientation\":\"v\",\"showlegend\":false,\"x\":[21164],\"xaxis\":\"x\",\"y\":[80],\"yaxis\":\"y\",\"type\":\"scatter\"},{\"hovertemplate\":\"<b>%{hovertext}</b><br><br>artist(s)=Dua Lipa, Elton John, Pnau<br>spotify_playlists=%{x}<br>apple_playlists=%{y}<extra></extra>\",\"hovertext\":[\"Dua Lipa, Elton John, Pnau\"],\"legendgroup\":\"Dua Lipa, Elton John, Pnau\",\"marker\":{\"color\":\"#FECB52\",\"symbol\":\"circle\"},\"mode\":\"markers\",\"name\":\"Dua Lipa, Elton John, Pnau\",\"orientation\":\"v\",\"showlegend\":false,\"x\":[21097],\"xaxis\":\"x\",\"y\":[384],\"yaxis\":\"y\",\"type\":\"scatter\"},{\"hovertemplate\":\"<b>%{hovertext}</b><br><br>artist(s)=Beyonc\\u00ef\\u00bf<br>spotify_playlists=%{x}<br>apple_playlists=%{y}<extra></extra>\",\"hovertext\":[\"Beyonc\\u00ef\\u00bf\"],\"legendgroup\":\"Beyonc\\u00ef\\u00bf\",\"marker\":{\"color\":\"#636efa\",\"symbol\":\"circle\"},\"mode\":\"markers\",\"name\":\"Beyonc\\u00ef\\u00bf\",\"orientation\":\"v\",\"showlegend\":false,\"x\":[20254],\"xaxis\":\"x\",\"y\":[476],\"yaxis\":\"y\",\"type\":\"scatter\"},{\"hovertemplate\":\"<b>%{hovertext}</b><br><br>artist(s)=Steve Lacy<br>spotify_playlists=%{x}<br>apple_playlists=%{y}<extra></extra>\",\"hovertext\":[\"Steve Lacy\"],\"legendgroup\":\"Steve Lacy\",\"marker\":{\"color\":\"#EF553B\",\"symbol\":\"circle\"},\"mode\":\"markers\",\"name\":\"Steve Lacy\",\"orientation\":\"v\",\"showlegend\":false,\"x\":[20230],\"xaxis\":\"x\",\"y\":[247],\"yaxis\":\"y\",\"type\":\"scatter\"},{\"hovertemplate\":\"<b>%{hovertext}</b><br><br>artist(s)=Eminem, Dr. Dre<br>spotify_playlists=%{x}<br>apple_playlists=%{y}<extra></extra>\",\"hovertext\":[\"Eminem, Dr. Dre\"],\"legendgroup\":\"Eminem, Dr. Dre\",\"marker\":{\"color\":\"#00cc96\",\"symbol\":\"circle\"},\"mode\":\"markers\",\"name\":\"Eminem, Dr. Dre\",\"orientation\":\"v\",\"showlegend\":false,\"x\":[20107],\"xaxis\":\"x\",\"y\":[86],\"yaxis\":\"y\",\"type\":\"scatter\"},{\"hovertemplate\":\"<b>%{hovertext}</b><br><br>artist(s)=Keane<br>spotify_playlists=%{x}<br>apple_playlists=%{y}<extra></extra>\",\"hovertext\":[\"Keane\"],\"legendgroup\":\"Keane\",\"marker\":{\"color\":\"#ab63fa\",\"symbol\":\"circle\"},\"mode\":\"markers\",\"name\":\"Keane\",\"orientation\":\"v\",\"showlegend\":false,\"x\":[20015],\"xaxis\":\"x\",\"y\":[107],\"yaxis\":\"y\",\"type\":\"scatter\"},{\"hovertemplate\":\"<b>%{hovertext}</b><br><br>artist(s)=Michael Bubl\\u00ef\\u00bf<br>spotify_playlists=%{x}<br>apple_playlists=%{y}<extra></extra>\",\"hovertext\":[\"Michael Bubl\\u00ef\\u00bf\"],\"legendgroup\":\"Michael Bubl\\u00ef\\u00bf\",\"marker\":{\"color\":\"#FFA15A\",\"symbol\":\"circle\"},\"mode\":\"markers\",\"name\":\"Michael Bubl\\u00ef\\u00bf\",\"orientation\":\"v\",\"showlegend\":false,\"x\":[20008],\"xaxis\":\"x\",\"y\":[40],\"yaxis\":\"y\",\"type\":\"scatter\"},{\"hovertemplate\":\"<b>%{hovertext}</b><br><br>artist(s)=Bruno Mars, Anderson .Paak, Silk Sonic<br>spotify_playlists=%{x}<br>apple_playlists=%{y}<extra></extra>\",\"hovertext\":[\"Bruno Mars, Anderson .Paak, Silk Sonic\"],\"legendgroup\":\"Bruno Mars, Anderson .Paak, Silk Sonic\",\"marker\":{\"color\":\"#19d3f3\",\"symbol\":\"circle\"},\"mode\":\"markers\",\"name\":\"Bruno Mars, Anderson .Paak, Silk Sonic\",\"orientation\":\"v\",\"showlegend\":false,\"x\":[19380],\"xaxis\":\"x\",\"y\":[300],\"yaxis\":\"y\",\"type\":\"scatter\"},{\"hovertemplate\":\"<b>%{hovertext}</b><br><br>artist(s)=Drake, 21 Savage<br>spotify_playlists=%{x}<br>apple_playlists=%{y}<extra></extra>\",\"hovertext\":[\"Drake, 21 Savage\"],\"legendgroup\":\"Drake, 21 Savage\",\"marker\":{\"color\":\"#FF6692\",\"symbol\":\"circle\"},\"mode\":\"markers\",\"name\":\"Drake, 21 Savage\",\"orientation\":\"v\",\"showlegend\":false,\"x\":[18924],\"xaxis\":\"x\",\"y\":[257],\"yaxis\":\"y\",\"type\":\"scatter\"},{\"hovertemplate\":\"<b>%{hovertext}</b><br><br>artist(s)=Dr. Dre, 2Pac, Roger<br>spotify_playlists=%{x}<br>apple_playlists=%{y}<extra></extra>\",\"hovertext\":[\"Dr. Dre, 2Pac, Roger\"],\"legendgroup\":\"Dr. Dre, 2Pac, Roger\",\"marker\":{\"color\":\"#B6E880\",\"symbol\":\"circle\"},\"mode\":\"markers\",\"name\":\"Dr. Dre, 2Pac, Roger\",\"orientation\":\"v\",\"showlegend\":false,\"x\":[18773],\"xaxis\":\"x\",\"y\":[128],\"yaxis\":\"y\",\"type\":\"scatter\"},{\"hovertemplate\":\"<b>%{hovertext}</b><br><br>artist(s)=Billie Eilish<br>spotify_playlists=%{x}<br>apple_playlists=%{y}<extra></extra>\",\"hovertext\":[\"Billie Eilish\"],\"legendgroup\":\"Billie Eilish\",\"marker\":{\"color\":\"#FF97FF\",\"symbol\":\"circle\"},\"mode\":\"markers\",\"name\":\"Billie Eilish\",\"orientation\":\"v\",\"showlegend\":false,\"x\":[18521],\"xaxis\":\"x\",\"y\":[344],\"yaxis\":\"y\",\"type\":\"scatter\"},{\"hovertemplate\":\"<b>%{hovertext}</b><br><br>artist(s)=Lord Huron<br>spotify_playlists=%{x}<br>apple_playlists=%{y}<extra></extra>\",\"hovertext\":[\"Lord Huron\"],\"legendgroup\":\"Lord Huron\",\"marker\":{\"color\":\"#FECB52\",\"symbol\":\"circle\"},\"mode\":\"markers\",\"name\":\"Lord Huron\",\"orientation\":\"v\",\"showlegend\":false,\"x\":[18515],\"xaxis\":\"x\",\"y\":[70],\"yaxis\":\"y\",\"type\":\"scatter\"},{\"hovertemplate\":\"<b>%{hovertext}</b><br><br>artist(s)=Tom Odell<br>spotify_playlists=%{x}<br>apple_playlists=%{y}<extra></extra>\",\"hovertext\":[\"Tom Odell\"],\"legendgroup\":\"Tom Odell\",\"marker\":{\"color\":\"#636efa\",\"symbol\":\"circle\"},\"mode\":\"markers\",\"name\":\"Tom Odell\",\"orientation\":\"v\",\"showlegend\":false,\"x\":[18371],\"xaxis\":\"x\",\"y\":[250],\"yaxis\":\"y\",\"type\":\"scatter\"},{\"hovertemplate\":\"<b>%{hovertext}</b><br><br>artist(s)=Joji<br>spotify_playlists=%{x}<br>apple_playlists=%{y}<extra></extra>\",\"hovertext\":[\"Joji\"],\"legendgroup\":\"Joji\",\"marker\":{\"color\":\"#EF553B\",\"symbol\":\"circle\"},\"mode\":\"markers\",\"name\":\"Joji\",\"orientation\":\"v\",\"showlegend\":false,\"x\":[18244],\"xaxis\":\"x\",\"y\":[185],\"yaxis\":\"y\",\"type\":\"scatter\"},{\"hovertemplate\":\"<b>%{hovertext}</b><br><br>artist(s)=BTS<br>spotify_playlists=%{x}<br>apple_playlists=%{y}<extra></extra>\",\"hovertext\":[\"BTS\"],\"legendgroup\":\"BTS\",\"marker\":{\"color\":\"#00cc96\",\"symbol\":\"circle\"},\"mode\":\"markers\",\"name\":\"BTS\",\"orientation\":\"v\",\"showlegend\":false,\"x\":[17953],\"xaxis\":\"x\",\"y\":[558],\"yaxis\":\"y\",\"type\":\"scatter\"},{\"hovertemplate\":\"<b>%{hovertext}</b><br><br>artist(s)=Beach House<br>spotify_playlists=%{x}<br>apple_playlists=%{y}<extra></extra>\",\"hovertext\":[\"Beach House\"],\"legendgroup\":\"Beach House\",\"marker\":{\"color\":\"#ab63fa\",\"symbol\":\"circle\"},\"mode\":\"markers\",\"name\":\"Beach House\",\"orientation\":\"v\",\"showlegend\":false,\"x\":[17852],\"xaxis\":\"x\",\"y\":[69],\"yaxis\":\"y\",\"type\":\"scatter\"},{\"hovertemplate\":\"<b>%{hovertext}</b><br><br>artist(s)=Ariana Grande<br>spotify_playlists=%{x}<br>apple_playlists=%{y}<extra></extra>\",\"hovertext\":[\"Ariana Grande\"],\"legendgroup\":\"Ariana Grande\",\"marker\":{\"color\":\"#FFA15A\",\"symbol\":\"circle\"},\"mode\":\"markers\",\"name\":\"Ariana Grande\",\"orientation\":\"v\",\"showlegend\":false,\"x\":[17615],\"xaxis\":\"x\",\"y\":[406],\"yaxis\":\"y\",\"type\":\"scatter\"},{\"hovertemplate\":\"<b>%{hovertext}</b><br><br>artist(s)=Sam Smith<br>spotify_playlists=%{x}<br>apple_playlists=%{y}<extra></extra>\",\"hovertext\":[\"Sam Smith\"],\"legendgroup\":\"Sam Smith\",\"marker\":{\"color\":\"#19d3f3\",\"symbol\":\"circle\"},\"mode\":\"markers\",\"name\":\"Sam Smith\",\"orientation\":\"v\",\"showlegend\":false,\"x\":[17492],\"xaxis\":\"x\",\"y\":[136],\"yaxis\":\"y\",\"type\":\"scatter\"},{\"hovertemplate\":\"<b>%{hovertext}</b><br><br>artist(s)=M\\u00ef\\u00bf\\u00bd\\u00ef\\u00bf\\u00bdne<br>spotify_playlists=%{x}<br>apple_playlists=%{y}<extra></extra>\",\"hovertext\":[\"M\\u00ef\\u00bf\\u00bd\\u00ef\\u00bf\\u00bdne\"],\"legendgroup\":\"M\\u00ef\\u00bf\\u00bd\\u00ef\\u00bf\\u00bdne\",\"marker\":{\"color\":\"#FF6692\",\"symbol\":\"circle\"},\"mode\":\"markers\",\"name\":\"M\\u00ef\\u00bf\\u00bd\\u00ef\\u00bf\\u00bdne\",\"orientation\":\"v\",\"showlegend\":false,\"x\":[17282],\"xaxis\":\"x\",\"y\":[419],\"yaxis\":\"y\",\"type\":\"scatter\"},{\"hovertemplate\":\"<b>%{hovertext}</b><br><br>artist(s)=Don Omar, Lucenzo<br>spotify_playlists=%{x}<br>apple_playlists=%{y}<extra></extra>\",\"hovertext\":[\"Don Omar, Lucenzo\"],\"legendgroup\":\"Don Omar, Lucenzo\",\"marker\":{\"color\":\"#B6E880\",\"symbol\":\"circle\"},\"mode\":\"markers\",\"name\":\"Don Omar, Lucenzo\",\"orientation\":\"v\",\"showlegend\":false,\"x\":[17138],\"xaxis\":\"x\",\"y\":[119],\"yaxis\":\"y\",\"type\":\"scatter\"},{\"hovertemplate\":\"<b>%{hovertext}</b><br><br>artist(s)=Eminem, Dido<br>spotify_playlists=%{x}<br>apple_playlists=%{y}<extra></extra>\",\"hovertext\":[\"Eminem, Dido\"],\"legendgroup\":\"Eminem, Dido\",\"marker\":{\"color\":\"#FF97FF\",\"symbol\":\"circle\"},\"mode\":\"markers\",\"name\":\"Eminem, Dido\",\"orientation\":\"v\",\"showlegend\":false,\"x\":[17115],\"xaxis\":\"x\",\"y\":[83],\"yaxis\":\"y\",\"type\":\"scatter\"},{\"hovertemplate\":\"<b>%{hovertext}</b><br><br>artist(s)=Justin Bieber, The Kid Laroi<br>spotify_playlists=%{x}<br>apple_playlists=%{y}<extra></extra>\",\"hovertext\":[\"Justin Bieber, The Kid Laroi\"],\"legendgroup\":\"Justin Bieber, The Kid Laroi\",\"marker\":{\"color\":\"#FECB52\",\"symbol\":\"circle\"},\"mode\":\"markers\",\"name\":\"Justin Bieber, The Kid Laroi\",\"orientation\":\"v\",\"showlegend\":false,\"x\":[17050],\"xaxis\":\"x\",\"y\":[492],\"yaxis\":\"y\",\"type\":\"scatter\"},{\"hovertemplate\":\"<b>%{hovertext}</b><br><br>artist(s)=Lady Gaga, Bradley Cooper<br>spotify_playlists=%{x}<br>apple_playlists=%{y}<extra></extra>\",\"hovertext\":[\"Lady Gaga, Bradley Cooper\"],\"legendgroup\":\"Lady Gaga, Bradley Cooper\",\"marker\":{\"color\":\"#636efa\",\"symbol\":\"circle\"},\"mode\":\"markers\",\"name\":\"Lady Gaga, Bradley Cooper\",\"orientation\":\"v\",\"showlegend\":false,\"x\":[16636],\"xaxis\":\"x\",\"y\":[368],\"yaxis\":\"y\",\"type\":\"scatter\"},{\"hovertemplate\":\"<b>%{hovertext}</b><br><br>artist(s)=James Arthur<br>spotify_playlists=%{x}<br>apple_playlists=%{y}<extra></extra>\",\"hovertext\":[\"James Arthur\"],\"legendgroup\":\"James Arthur\",\"marker\":{\"color\":\"#EF553B\",\"symbol\":\"circle\"},\"mode\":\"markers\",\"name\":\"James Arthur\",\"orientation\":\"v\",\"showlegend\":false,\"x\":[16516],\"xaxis\":\"x\",\"y\":[269],\"yaxis\":\"y\",\"type\":\"scatter\"},{\"hovertemplate\":\"<b>%{hovertext}</b><br><br>artist(s)=Shawn Mendes<br>spotify_playlists=%{x}<br>apple_playlists=%{y}<extra></extra>\",\"hovertext\":[\"Shawn Mendes\"],\"legendgroup\":\"Shawn Mendes\",\"marker\":{\"color\":\"#00cc96\",\"symbol\":\"circle\"},\"mode\":\"markers\",\"name\":\"Shawn Mendes\",\"orientation\":\"v\",\"showlegend\":false,\"x\":[16424],\"xaxis\":\"x\",\"y\":[360],\"yaxis\":\"y\",\"type\":\"scatter\"},{\"hovertemplate\":\"<b>%{hovertext}</b><br><br>artist(s)=Dua Lipa, DaBaby<br>spotify_playlists=%{x}<br>apple_playlists=%{y}<extra></extra>\",\"hovertext\":[\"Dua Lipa, DaBaby\"],\"legendgroup\":\"Dua Lipa, DaBaby\",\"marker\":{\"color\":\"#ab63fa\",\"symbol\":\"circle\"},\"mode\":\"markers\",\"name\":\"Dua Lipa, DaBaby\",\"orientation\":\"v\",\"showlegend\":false,\"x\":[15894],\"xaxis\":\"x\",\"y\":[198],\"yaxis\":\"y\",\"type\":\"scatter\"},{\"hovertemplate\":\"<b>%{hovertext}</b><br><br>artist(s)=Creedence Clearwater Revival<br>spotify_playlists=%{x}<br>apple_playlists=%{y}<extra></extra>\",\"hovertext\":[\"Creedence Clearwater Revival\"],\"legendgroup\":\"Creedence Clearwater Revival\",\"marker\":{\"color\":\"#FFA15A\",\"symbol\":\"circle\"},\"mode\":\"markers\",\"name\":\"Creedence Clearwater Revival\",\"orientation\":\"v\",\"showlegend\":false,\"x\":[15890],\"xaxis\":\"x\",\"y\":[71],\"yaxis\":\"y\",\"type\":\"scatter\"},{\"hovertemplate\":\"<b>%{hovertext}</b><br><br>artist(s)=SZA, Doja Cat<br>spotify_playlists=%{x}<br>apple_playlists=%{y}<extra></extra>\",\"hovertext\":[\"SZA, Doja Cat\"],\"legendgroup\":\"SZA, Doja Cat\",\"marker\":{\"color\":\"#19d3f3\",\"symbol\":\"circle\"},\"mode\":\"markers\",\"name\":\"SZA, Doja Cat\",\"orientation\":\"v\",\"showlegend\":false,\"x\":[15867],\"xaxis\":\"x\",\"y\":[382],\"yaxis\":\"y\",\"type\":\"scatter\"},{\"hovertemplate\":\"<b>%{hovertext}</b><br><br>artist(s)=Juice WRLD<br>spotify_playlists=%{x}<br>apple_playlists=%{y}<extra></extra>\",\"hovertext\":[\"Juice WRLD\"],\"legendgroup\":\"Juice WRLD\",\"marker\":{\"color\":\"#FF6692\",\"symbol\":\"circle\"},\"mode\":\"markers\",\"name\":\"Juice WRLD\",\"orientation\":\"v\",\"showlegend\":false,\"x\":[15724],\"xaxis\":\"x\",\"y\":[199],\"yaxis\":\"y\",\"type\":\"scatter\"},{\"hovertemplate\":\"<b>%{hovertext}</b><br><br>artist(s)=Miley Cyrus<br>spotify_playlists=%{x}<br>apple_playlists=%{y}<extra></extra>\",\"hovertext\":[\"Miley Cyrus\"],\"legendgroup\":\"Miley Cyrus\",\"marker\":{\"color\":\"#B6E880\",\"symbol\":\"circle\"},\"mode\":\"markers\",\"name\":\"Miley Cyrus\",\"orientation\":\"v\",\"showlegend\":false,\"x\":[15583],\"xaxis\":\"x\",\"y\":[365],\"yaxis\":\"y\",\"type\":\"scatter\"},{\"hovertemplate\":\"<b>%{hovertext}</b><br><br>artist(s)=Lizzo<br>spotify_playlists=%{x}<br>apple_playlists=%{y}<extra></extra>\",\"hovertext\":[\"Lizzo\"],\"legendgroup\":\"Lizzo\",\"marker\":{\"color\":\"#FF97FF\",\"symbol\":\"circle\"},\"mode\":\"markers\",\"name\":\"Lizzo\",\"orientation\":\"v\",\"showlegend\":false,\"x\":[15035],\"xaxis\":\"x\",\"y\":[283],\"yaxis\":\"y\",\"type\":\"scatter\"},{\"hovertemplate\":\"<b>%{hovertext}</b><br><br>artist(s)=Billie Eilish, Khalid<br>spotify_playlists=%{x}<br>apple_playlists=%{y}<extra></extra>\",\"hovertext\":[\"Billie Eilish, Khalid\"],\"legendgroup\":\"Billie Eilish, Khalid\",\"marker\":{\"color\":\"#FECB52\",\"symbol\":\"circle\"},\"mode\":\"markers\",\"name\":\"Billie Eilish, Khalid\",\"orientation\":\"v\",\"showlegend\":false,\"x\":[15032],\"xaxis\":\"x\",\"y\":[221],\"yaxis\":\"y\",\"type\":\"scatter\"},{\"hovertemplate\":\"<b>%{hovertext}</b><br><br>artist(s)=Shawn Mendes, Camila Cabello<br>spotify_playlists=%{x}<br>apple_playlists=%{y}<extra></extra>\",\"hovertext\":[\"Shawn Mendes, Camila Cabello\"],\"legendgroup\":\"Shawn Mendes, Camila Cabello\",\"marker\":{\"color\":\"#636efa\",\"symbol\":\"circle\"},\"mode\":\"markers\",\"name\":\"Shawn Mendes, Camila Cabello\",\"orientation\":\"v\",\"showlegend\":false,\"x\":[15010],\"xaxis\":\"x\",\"y\":[453],\"yaxis\":\"y\",\"type\":\"scatter\"},{\"hovertemplate\":\"<b>%{hovertext}</b><br><br>artist(s)=Brenda Lee<br>spotify_playlists=%{x}<br>apple_playlists=%{y}<extra></extra>\",\"hovertext\":[\"Brenda Lee\"],\"legendgroup\":\"Brenda Lee\",\"marker\":{\"color\":\"#EF553B\",\"symbol\":\"circle\"},\"mode\":\"markers\",\"name\":\"Brenda Lee\",\"orientation\":\"v\",\"showlegend\":false,\"x\":[14994],\"xaxis\":\"x\",\"y\":[191],\"yaxis\":\"y\",\"type\":\"scatter\"},{\"hovertemplate\":\"<b>%{hovertext}</b><br><br>artist(s)=Nat King Cole<br>spotify_playlists=%{x}<br>apple_playlists=%{y}<extra></extra>\",\"hovertext\":[\"Nat King Cole\"],\"legendgroup\":\"Nat King Cole\",\"marker\":{\"color\":\"#00cc96\",\"symbol\":\"circle\"},\"mode\":\"markers\",\"name\":\"Nat King Cole\",\"orientation\":\"v\",\"showlegend\":false,\"x\":[14799],\"xaxis\":\"x\",\"y\":[205],\"yaxis\":\"y\",\"type\":\"scatter\"},{\"hovertemplate\":\"<b>%{hovertext}</b><br><br>artist(s)=Rauw Alejandro<br>spotify_playlists=%{x}<br>apple_playlists=%{y}<extra></extra>\",\"hovertext\":[\"Rauw Alejandro\"],\"legendgroup\":\"Rauw Alejandro\",\"marker\":{\"color\":\"#ab63fa\",\"symbol\":\"circle\"},\"mode\":\"markers\",\"name\":\"Rauw Alejandro\",\"orientation\":\"v\",\"showlegend\":false,\"x\":[14611],\"xaxis\":\"x\",\"y\":[224],\"yaxis\":\"y\",\"type\":\"scatter\"},{\"hovertemplate\":\"<b>%{hovertext}</b><br><br>artist(s)=Ti\\u00ef\\u00bf\\u00bd\\u00ef\\u00bf<br>spotify_playlists=%{x}<br>apple_playlists=%{y}<extra></extra>\",\"hovertext\":[\"Ti\\u00ef\\u00bf\\u00bd\\u00ef\\u00bf\"],\"legendgroup\":\"Ti\\u00ef\\u00bf\\u00bd\\u00ef\\u00bf\",\"marker\":{\"color\":\"#FFA15A\",\"symbol\":\"circle\"},\"mode\":\"markers\",\"name\":\"Ti\\u00ef\\u00bf\\u00bd\\u00ef\\u00bf\",\"orientation\":\"v\",\"showlegend\":false,\"x\":[14311],\"xaxis\":\"x\",\"y\":[255],\"yaxis\":\"y\",\"type\":\"scatter\"},{\"hovertemplate\":\"<b>%{hovertext}</b><br><br>artist(s)=Feid<br>spotify_playlists=%{x}<br>apple_playlists=%{y}<extra></extra>\",\"hovertext\":[\"Feid\"],\"legendgroup\":\"Feid\",\"marker\":{\"color\":\"#19d3f3\",\"symbol\":\"circle\"},\"mode\":\"markers\",\"name\":\"Feid\",\"orientation\":\"v\",\"showlegend\":false,\"x\":[14276],\"xaxis\":\"x\",\"y\":[212],\"yaxis\":\"y\",\"type\":\"scatter\"},{\"hovertemplate\":\"<b>%{hovertext}</b><br><br>artist(s)=Band Aid<br>spotify_playlists=%{x}<br>apple_playlists=%{y}<extra></extra>\",\"hovertext\":[\"Band Aid\"],\"legendgroup\":\"Band Aid\",\"marker\":{\"color\":\"#FF6692\",\"symbol\":\"circle\"},\"mode\":\"markers\",\"name\":\"Band Aid\",\"orientation\":\"v\",\"showlegend\":false,\"x\":[14169],\"xaxis\":\"x\",\"y\":[209],\"yaxis\":\"y\",\"type\":\"scatter\"},{\"hovertemplate\":\"<b>%{hovertext}</b><br><br>artist(s)=Maroon 5, Wiz Khalifa<br>spotify_playlists=%{x}<br>apple_playlists=%{y}<extra></extra>\",\"hovertext\":[\"Maroon 5, Wiz Khalifa\"],\"legendgroup\":\"Maroon 5, Wiz Khalifa\",\"marker\":{\"color\":\"#B6E880\",\"symbol\":\"circle\"},\"mode\":\"markers\",\"name\":\"Maroon 5, Wiz Khalifa\",\"orientation\":\"v\",\"showlegend\":false,\"x\":[14143],\"xaxis\":\"x\",\"y\":[56],\"yaxis\":\"y\",\"type\":\"scatter\"},{\"hovertemplate\":\"<b>%{hovertext}</b><br><br>artist(s)=Justin Bieber, Daniel Caesar, Giveon<br>spotify_playlists=%{x}<br>apple_playlists=%{y}<extra></extra>\",\"hovertext\":[\"Justin Bieber, Daniel Caesar, Giveon\"],\"legendgroup\":\"Justin Bieber, Daniel Caesar, Giveon\",\"marker\":{\"color\":\"#FF97FF\",\"symbol\":\"circle\"},\"mode\":\"markers\",\"name\":\"Justin Bieber, Daniel Caesar, Giveon\",\"orientation\":\"v\",\"showlegend\":false,\"x\":[14140],\"xaxis\":\"x\",\"y\":[231],\"yaxis\":\"y\",\"type\":\"scatter\"},{\"hovertemplate\":\"<b>%{hovertext}</b><br><br>artist(s)=Farruko<br>spotify_playlists=%{x}<br>apple_playlists=%{y}<extra></extra>\",\"hovertext\":[\"Farruko\"],\"legendgroup\":\"Farruko\",\"marker\":{\"color\":\"#FECB52\",\"symbol\":\"circle\"},\"mode\":\"markers\",\"name\":\"Farruko\",\"orientation\":\"v\",\"showlegend\":false,\"x\":[14114],\"xaxis\":\"x\",\"y\":[252],\"yaxis\":\"y\",\"type\":\"scatter\"}],                        {\"template\":{\"data\":{\"bar\":[{\"error_x\":{\"color\":\"#2a3f5f\"},\"error_y\":{\"color\":\"#2a3f5f\"},\"marker\":{\"line\":{\"color\":\"#E5ECF6\",\"width\":0.5},\"pattern\":{\"fillmode\":\"overlay\",\"size\":10,\"solidity\":0.2}},\"type\":\"bar\"}],\"barpolar\":[{\"marker\":{\"line\":{\"color\":\"#E5ECF6\",\"width\":0.5},\"pattern\":{\"fillmode\":\"overlay\",\"size\":10,\"solidity\":0.2}},\"type\":\"barpolar\"}],\"carpet\":[{\"aaxis\":{\"endlinecolor\":\"#2a3f5f\",\"gridcolor\":\"white\",\"linecolor\":\"white\",\"minorgridcolor\":\"white\",\"startlinecolor\":\"#2a3f5f\"},\"baxis\":{\"endlinecolor\":\"#2a3f5f\",\"gridcolor\":\"white\",\"linecolor\":\"white\",\"minorgridcolor\":\"white\",\"startlinecolor\":\"#2a3f5f\"},\"type\":\"carpet\"}],\"choropleth\":[{\"colorbar\":{\"outlinewidth\":0,\"ticks\":\"\"},\"type\":\"choropleth\"}],\"contour\":[{\"colorbar\":{\"outlinewidth\":0,\"ticks\":\"\"},\"colorscale\":[[0.0,\"#0d0887\"],[0.1111111111111111,\"#46039f\"],[0.2222222222222222,\"#7201a8\"],[0.3333333333333333,\"#9c179e\"],[0.4444444444444444,\"#bd3786\"],[0.5555555555555556,\"#d8576b\"],[0.6666666666666666,\"#ed7953\"],[0.7777777777777778,\"#fb9f3a\"],[0.8888888888888888,\"#fdca26\"],[1.0,\"#f0f921\"]],\"type\":\"contour\"}],\"contourcarpet\":[{\"colorbar\":{\"outlinewidth\":0,\"ticks\":\"\"},\"type\":\"contourcarpet\"}],\"heatmap\":[{\"colorbar\":{\"outlinewidth\":0,\"ticks\":\"\"},\"colorscale\":[[0.0,\"#0d0887\"],[0.1111111111111111,\"#46039f\"],[0.2222222222222222,\"#7201a8\"],[0.3333333333333333,\"#9c179e\"],[0.4444444444444444,\"#bd3786\"],[0.5555555555555556,\"#d8576b\"],[0.6666666666666666,\"#ed7953\"],[0.7777777777777778,\"#fb9f3a\"],[0.8888888888888888,\"#fdca26\"],[1.0,\"#f0f921\"]],\"type\":\"heatmap\"}],\"heatmapgl\":[{\"colorbar\":{\"outlinewidth\":0,\"ticks\":\"\"},\"colorscale\":[[0.0,\"#0d0887\"],[0.1111111111111111,\"#46039f\"],[0.2222222222222222,\"#7201a8\"],[0.3333333333333333,\"#9c179e\"],[0.4444444444444444,\"#bd3786\"],[0.5555555555555556,\"#d8576b\"],[0.6666666666666666,\"#ed7953\"],[0.7777777777777778,\"#fb9f3a\"],[0.8888888888888888,\"#fdca26\"],[1.0,\"#f0f921\"]],\"type\":\"heatmapgl\"}],\"histogram\":[{\"marker\":{\"pattern\":{\"fillmode\":\"overlay\",\"size\":10,\"solidity\":0.2}},\"type\":\"histogram\"}],\"histogram2d\":[{\"colorbar\":{\"outlinewidth\":0,\"ticks\":\"\"},\"colorscale\":[[0.0,\"#0d0887\"],[0.1111111111111111,\"#46039f\"],[0.2222222222222222,\"#7201a8\"],[0.3333333333333333,\"#9c179e\"],[0.4444444444444444,\"#bd3786\"],[0.5555555555555556,\"#d8576b\"],[0.6666666666666666,\"#ed7953\"],[0.7777777777777778,\"#fb9f3a\"],[0.8888888888888888,\"#fdca26\"],[1.0,\"#f0f921\"]],\"type\":\"histogram2d\"}],\"histogram2dcontour\":[{\"colorbar\":{\"outlinewidth\":0,\"ticks\":\"\"},\"colorscale\":[[0.0,\"#0d0887\"],[0.1111111111111111,\"#46039f\"],[0.2222222222222222,\"#7201a8\"],[0.3333333333333333,\"#9c179e\"],[0.4444444444444444,\"#bd3786\"],[0.5555555555555556,\"#d8576b\"],[0.6666666666666666,\"#ed7953\"],[0.7777777777777778,\"#fb9f3a\"],[0.8888888888888888,\"#fdca26\"],[1.0,\"#f0f921\"]],\"type\":\"histogram2dcontour\"}],\"mesh3d\":[{\"colorbar\":{\"outlinewidth\":0,\"ticks\":\"\"},\"type\":\"mesh3d\"}],\"parcoords\":[{\"line\":{\"colorbar\":{\"outlinewidth\":0,\"ticks\":\"\"}},\"type\":\"parcoords\"}],\"pie\":[{\"automargin\":true,\"type\":\"pie\"}],\"scatter\":[{\"marker\":{\"colorbar\":{\"outlinewidth\":0,\"ticks\":\"\"}},\"type\":\"scatter\"}],\"scatter3d\":[{\"line\":{\"colorbar\":{\"outlinewidth\":0,\"ticks\":\"\"}},\"marker\":{\"colorbar\":{\"outlinewidth\":0,\"ticks\":\"\"}},\"type\":\"scatter3d\"}],\"scattercarpet\":[{\"marker\":{\"colorbar\":{\"outlinewidth\":0,\"ticks\":\"\"}},\"type\":\"scattercarpet\"}],\"scattergeo\":[{\"marker\":{\"colorbar\":{\"outlinewidth\":0,\"ticks\":\"\"}},\"type\":\"scattergeo\"}],\"scattergl\":[{\"marker\":{\"colorbar\":{\"outlinewidth\":0,\"ticks\":\"\"}},\"type\":\"scattergl\"}],\"scattermapbox\":[{\"marker\":{\"colorbar\":{\"outlinewidth\":0,\"ticks\":\"\"}},\"type\":\"scattermapbox\"}],\"scatterpolar\":[{\"marker\":{\"colorbar\":{\"outlinewidth\":0,\"ticks\":\"\"}},\"type\":\"scatterpolar\"}],\"scatterpolargl\":[{\"marker\":{\"colorbar\":{\"outlinewidth\":0,\"ticks\":\"\"}},\"type\":\"scatterpolargl\"}],\"scatterternary\":[{\"marker\":{\"colorbar\":{\"outlinewidth\":0,\"ticks\":\"\"}},\"type\":\"scatterternary\"}],\"surface\":[{\"colorbar\":{\"outlinewidth\":0,\"ticks\":\"\"},\"colorscale\":[[0.0,\"#0d0887\"],[0.1111111111111111,\"#46039f\"],[0.2222222222222222,\"#7201a8\"],[0.3333333333333333,\"#9c179e\"],[0.4444444444444444,\"#bd3786\"],[0.5555555555555556,\"#d8576b\"],[0.6666666666666666,\"#ed7953\"],[0.7777777777777778,\"#fb9f3a\"],[0.8888888888888888,\"#fdca26\"],[1.0,\"#f0f921\"]],\"type\":\"surface\"}],\"table\":[{\"cells\":{\"fill\":{\"color\":\"#EBF0F8\"},\"line\":{\"color\":\"white\"}},\"header\":{\"fill\":{\"color\":\"#C8D4E3\"},\"line\":{\"color\":\"white\"}},\"type\":\"table\"}]},\"layout\":{\"annotationdefaults\":{\"arrowcolor\":\"#2a3f5f\",\"arrowhead\":0,\"arrowwidth\":1},\"autotypenumbers\":\"strict\",\"coloraxis\":{\"colorbar\":{\"outlinewidth\":0,\"ticks\":\"\"}},\"colorscale\":{\"diverging\":[[0,\"#8e0152\"],[0.1,\"#c51b7d\"],[0.2,\"#de77ae\"],[0.3,\"#f1b6da\"],[0.4,\"#fde0ef\"],[0.5,\"#f7f7f7\"],[0.6,\"#e6f5d0\"],[0.7,\"#b8e186\"],[0.8,\"#7fbc41\"],[0.9,\"#4d9221\"],[1,\"#276419\"]],\"sequential\":[[0.0,\"#0d0887\"],[0.1111111111111111,\"#46039f\"],[0.2222222222222222,\"#7201a8\"],[0.3333333333333333,\"#9c179e\"],[0.4444444444444444,\"#bd3786\"],[0.5555555555555556,\"#d8576b\"],[0.6666666666666666,\"#ed7953\"],[0.7777777777777778,\"#fb9f3a\"],[0.8888888888888888,\"#fdca26\"],[1.0,\"#f0f921\"]],\"sequentialminus\":[[0.0,\"#0d0887\"],[0.1111111111111111,\"#46039f\"],[0.2222222222222222,\"#7201a8\"],[0.3333333333333333,\"#9c179e\"],[0.4444444444444444,\"#bd3786\"],[0.5555555555555556,\"#d8576b\"],[0.6666666666666666,\"#ed7953\"],[0.7777777777777778,\"#fb9f3a\"],[0.8888888888888888,\"#fdca26\"],[1.0,\"#f0f921\"]]},\"colorway\":[\"#636efa\",\"#EF553B\",\"#00cc96\",\"#ab63fa\",\"#FFA15A\",\"#19d3f3\",\"#FF6692\",\"#B6E880\",\"#FF97FF\",\"#FECB52\"],\"font\":{\"color\":\"#2a3f5f\"},\"geo\":{\"bgcolor\":\"white\",\"lakecolor\":\"white\",\"landcolor\":\"#E5ECF6\",\"showlakes\":true,\"showland\":true,\"subunitcolor\":\"white\"},\"hoverlabel\":{\"align\":\"left\"},\"hovermode\":\"closest\",\"mapbox\":{\"style\":\"light\"},\"paper_bgcolor\":\"white\",\"plot_bgcolor\":\"#E5ECF6\",\"polar\":{\"angularaxis\":{\"gridcolor\":\"white\",\"linecolor\":\"white\",\"ticks\":\"\"},\"bgcolor\":\"#E5ECF6\",\"radialaxis\":{\"gridcolor\":\"white\",\"linecolor\":\"white\",\"ticks\":\"\"}},\"scene\":{\"xaxis\":{\"backgroundcolor\":\"#E5ECF6\",\"gridcolor\":\"white\",\"gridwidth\":2,\"linecolor\":\"white\",\"showbackground\":true,\"ticks\":\"\",\"zerolinecolor\":\"white\"},\"yaxis\":{\"backgroundcolor\":\"#E5ECF6\",\"gridcolor\":\"white\",\"gridwidth\":2,\"linecolor\":\"white\",\"showbackground\":true,\"ticks\":\"\",\"zerolinecolor\":\"white\"},\"zaxis\":{\"backgroundcolor\":\"#E5ECF6\",\"gridcolor\":\"white\",\"gridwidth\":2,\"linecolor\":\"white\",\"showbackground\":true,\"ticks\":\"\",\"zerolinecolor\":\"white\"}},\"shapedefaults\":{\"line\":{\"color\":\"#2a3f5f\"}},\"ternary\":{\"aaxis\":{\"gridcolor\":\"white\",\"linecolor\":\"white\",\"ticks\":\"\"},\"baxis\":{\"gridcolor\":\"white\",\"linecolor\":\"white\",\"ticks\":\"\"},\"bgcolor\":\"#E5ECF6\",\"caxis\":{\"gridcolor\":\"white\",\"linecolor\":\"white\",\"ticks\":\"\"}},\"title\":{\"x\":0.05},\"xaxis\":{\"automargin\":true,\"gridcolor\":\"white\",\"linecolor\":\"white\",\"ticks\":\"\",\"title\":{\"standoff\":15},\"zerolinecolor\":\"white\",\"zerolinewidth\":2},\"yaxis\":{\"automargin\":true,\"gridcolor\":\"white\",\"linecolor\":\"white\",\"ticks\":\"\",\"title\":{\"standoff\":15},\"zerolinecolor\":\"white\",\"zerolinewidth\":2}}},\"xaxis\":{\"anchor\":\"y\",\"domain\":[0.0,1.0],\"title\":{\"text\":\"spotify_playlists\"}},\"yaxis\":{\"anchor\":\"x\",\"domain\":[0.0,1.0],\"title\":{\"text\":\"apple_playlists\"}},\"legend\":{\"title\":{\"text\":\"artist(s)\"},\"tracegroupgap\":0},\"title\":{\"text\":\"relationship between playlist presence on apple music and spotify for top 100 artists\"}},                        {\"responsive\": true}                    ).then(function(){\n",
       "                            \n",
       "var gd = document.getElementById('dbdedf27-51ee-4ae3-b8b4-336821adc99f');\n",
       "var x = new MutationObserver(function (mutations, observer) {{\n",
       "        var display = window.getComputedStyle(gd).display;\n",
       "        if (!display || display === 'none') {{\n",
       "            console.log([gd, 'removed!']);\n",
       "            Plotly.purge(gd);\n",
       "            observer.disconnect();\n",
       "        }}\n",
       "}});\n",
       "\n",
       "// Listen for the removal of the full notebook cells\n",
       "var notebookContainer = gd.closest('#notebook-container');\n",
       "if (notebookContainer) {{\n",
       "    x.observe(notebookContainer, {childList: true});\n",
       "}}\n",
       "\n",
       "// Listen for the clearing of the current output cell\n",
       "var outputEl = gd.closest('.output');\n",
       "if (outputEl) {{\n",
       "    x.observe(outputEl, {childList: true});\n",
       "}}\n",
       "\n",
       "                        })                };                });            </script>        </div>"
      ]
     },
     "metadata": {},
     "output_type": "display_data"
    }
   ],
   "source": [
    "artists_playlists_top_100 = artists_playlists.head(100)\n",
    "fig = px.scatter(artists_playlists_top_100, x = 'spotify_playlists',\n",
    "                 y = 'apple_playlists', color = 'artist(s)', hover_name = 'artist(s)', \n",
    "                title = 'relationship between playlist presence on apple music and spotify for top 100 artists')\n",
    "fig.update_traces(showlegend= False)\n",
    "fig.show()\n"
   ]
  },
  {
   "cell_type": "code",
   "execution_count": 65,
   "metadata": {},
   "outputs": [
    {
     "data": {
      "text/html": [
       "<div>\n",
       "<style scoped>\n",
       "    .dataframe tbody tr th:only-of-type {\n",
       "        vertical-align: middle;\n",
       "    }\n",
       "\n",
       "    .dataframe tbody tr th {\n",
       "        vertical-align: top;\n",
       "    }\n",
       "\n",
       "    .dataframe thead th {\n",
       "        text-align: right;\n",
       "    }\n",
       "</style>\n",
       "<table border=\"1\" class=\"dataframe\">\n",
       "  <thead>\n",
       "    <tr style=\"text-align: right;\">\n",
       "      <th></th>\n",
       "      <th>artist(s)</th>\n",
       "      <th>total_streams</th>\n",
       "      <th>number_of_songs</th>\n",
       "      <th>avg_stream_per_song</th>\n",
       "    </tr>\n",
       "  </thead>\n",
       "  <tbody>\n",
       "    <tr>\n",
       "      <th>229</th>\n",
       "      <td>Imagine Dragons</td>\n",
       "      <td>5.272485e+09</td>\n",
       "      <td>3</td>\n",
       "      <td>1.757495e+09</td>\n",
       "    </tr>\n",
       "    <tr>\n",
       "      <th>331</th>\n",
       "      <td>Lewis Capaldi</td>\n",
       "      <td>4.734698e+09</td>\n",
       "      <td>3</td>\n",
       "      <td>1.578233e+09</td>\n",
       "    </tr>\n",
       "    <tr>\n",
       "      <th>434</th>\n",
       "      <td>OneRepublic</td>\n",
       "      <td>3.097150e+09</td>\n",
       "      <td>2</td>\n",
       "      <td>1.548575e+09</td>\n",
       "    </tr>\n",
       "    <tr>\n",
       "      <th>171</th>\n",
       "      <td>Eminem</td>\n",
       "      <td>6.183806e+09</td>\n",
       "      <td>4</td>\n",
       "      <td>1.545951e+09</td>\n",
       "    </tr>\n",
       "    <tr>\n",
       "      <th>159</th>\n",
       "      <td>Ed Sheeran</td>\n",
       "      <td>1.390895e+10</td>\n",
       "      <td>9</td>\n",
       "      <td>1.545439e+09</td>\n",
       "    </tr>\n",
       "    <tr>\n",
       "      <th>75</th>\n",
       "      <td>Bruno Mars</td>\n",
       "      <td>5.846921e+09</td>\n",
       "      <td>4</td>\n",
       "      <td>1.461730e+09</td>\n",
       "    </tr>\n",
       "    <tr>\n",
       "      <th>25</th>\n",
       "      <td>Arctic Monkeys</td>\n",
       "      <td>5.569807e+09</td>\n",
       "      <td>4</td>\n",
       "      <td>1.392452e+09</td>\n",
       "    </tr>\n",
       "    <tr>\n",
       "      <th>247</th>\n",
       "      <td>James Arthur</td>\n",
       "      <td>2.686344e+09</td>\n",
       "      <td>2</td>\n",
       "      <td>1.343172e+09</td>\n",
       "    </tr>\n",
       "    <tr>\n",
       "      <th>567</th>\n",
       "      <td>The Neighbourhood</td>\n",
       "      <td>4.010010e+09</td>\n",
       "      <td>3</td>\n",
       "      <td>1.336670e+09</td>\n",
       "    </tr>\n",
       "    <tr>\n",
       "      <th>270</th>\n",
       "      <td>Justin Bieber</td>\n",
       "      <td>3.919814e+09</td>\n",
       "      <td>3</td>\n",
       "      <td>1.306605e+09</td>\n",
       "    </tr>\n",
       "  </tbody>\n",
       "</table>\n",
       "</div>"
      ],
      "text/plain": [
       "             artist(s)  total_streams  number_of_songs  avg_stream_per_song\n",
       "229    Imagine Dragons   5.272485e+09                3         1.757495e+09\n",
       "331      Lewis Capaldi   4.734698e+09                3         1.578233e+09\n",
       "434        OneRepublic   3.097150e+09                2         1.548575e+09\n",
       "171             Eminem   6.183806e+09                4         1.545951e+09\n",
       "159         Ed Sheeran   1.390895e+10                9         1.545439e+09\n",
       "75          Bruno Mars   5.846921e+09                4         1.461730e+09\n",
       "25      Arctic Monkeys   5.569807e+09                4         1.392452e+09\n",
       "247       James Arthur   2.686344e+09                2         1.343172e+09\n",
       "567  The Neighbourhood   4.010010e+09                3         1.336670e+09\n",
       "270      Justin Bieber   3.919814e+09                3         1.306605e+09"
      ]
     },
     "execution_count": 65,
     "metadata": {},
     "output_type": "execute_result"
    }
   ],
   "source": [
    "artists_entries_top_100 = artists_streams.sort_values(by = 'number_of_songs', ascending = False).head(100)\n",
    "artists_entries_top_100['avg_stream_per_song'] = artists_entries_top_100['total_streams']/artists_entries_top_100['number_of_songs']\n",
    "artists_entries_top_100 = artists_entries_top_100.sort_values(by = 'avg_stream_per_song', ascending = False)\n",
    "artists_entries_top_100.head(10)"
   ]
  },
  {
   "cell_type": "code",
   "execution_count": 59,
   "metadata": {},
   "outputs": [
    {
     "data": {
      "application/vnd.plotly.v1+json": {
       "config": {
        "plotlyServerURL": "https://plot.ly"
       },
       "data": [
        {
         "alignmentgroup": "True",
         "hovertemplate": "avg_stream_per_song=%{x}<br>artist(s)=%{y}<extra></extra>",
         "legendgroup": "",
         "marker": {
          "color": "#636efa",
          "pattern": {
           "shape": ""
          }
         },
         "name": "",
         "offsetgroup": "",
         "orientation": "h",
         "showlegend": false,
         "textposition": "auto",
         "type": "bar",
         "x": [
          1757494883.3333333,
          1578232786.6666667,
          1548574801.5,
          1545951399,
          1545438578.2222223,
          1461730149.75,
          1392451682.75,
          1343172025,
          1336669979.6666667,
          1306604507.3333333,
          1275058686,
          1237051829.5,
          1185796180,
          1127186647.5,
          1111533362,
          1075879666.6666667,
          1063164130.8571428,
          1043346468,
          1029419894.5,
          1026954265.5,
          996248439.6666666,
          943685385,
          870279295.5,
          817301089.5,
          814974810,
          814318398,
          785756728.3333334,
          783715775.8333334,
          773314047.6666666,
          761646014,
          752270821.3333334,
          718837031.5,
          696102063,
          682861508.7647059,
          668908051.5,
          658497585.5,
          655846956,
          648377486.3333334,
          644797857.7272727,
          641903365.5,
          565159356.3333334,
          554477537,
          548736448.875,
          548631183.5,
          526199979.31578946,
          523286489.6,
          465341640.6666667,
          453679035,
          423010141,
          413342891.1764706,
          407857155.5,
          390160602.5,
          374101396.6666667,
          369913706,
          358322553,
          346156719.3333333,
          338976617,
          330390018.71428573,
          323351736,
          318238825,
          316394655,
          315219108.25,
          313013231.5,
          305413365,
          302543074,
          293483972,
          277592549.875,
          267689866.5,
          265274786.5,
          259570967.5,
          258399839.5,
          257427834.5,
          255989087,
          255052534.5,
          252761328.91666666,
          244267831.5,
          239884800.21052632,
          235547649.25,
          235148565,
          215712244.5,
          212700029,
          206120329.5,
          205168876.5,
          200223139,
          196140054,
          194736957,
          171186965.5,
          165113804.5,
          163885732.25,
          152482674.5,
          151472656.0909091,
          142394323,
          138865518,
          133491665,
          121825887,
          98628647.5,
          93669706,
          73032659,
          64541909.5,
          60584302.5
         ],
         "xaxis": "x",
         "y": [
          "Imagine Dragons",
          "Lewis Capaldi",
          "OneRepublic",
          "Eminem",
          "Ed Sheeran",
          "Bruno Mars",
          "Arctic Monkeys",
          "James Arthur",
          "The Neighbourhood",
          "Justin Bieber",
          "Coldplay",
          "Juice WRLD",
          "Bad Bunny, Jhay Cortez",
          "Adele",
          "XXXTENTACION",
          "Dua Lipa",
          "Olivia Rodrigo",
          "Ariana Grande",
          "Nirvana",
          "Dr. Dre, Snoop Dogg",
          "Lil Nas X",
          "Miley Cyrus",
          "Ariana Grande, The Weeknd",
          "Rauw Alejandro",
          "Sia",
          "Frank Ocean",
          "Joji",
          "Doja Cat",
          "Post Malone",
          "Tate McRae",
          "Shawn Mendes",
          "Rosa Linn",
          "The Weeknd, Gesaffelstein",
          "Harry Styles",
          "Mï¿½ï¿½ne",
          "d4vd",
          "Kanye West",
          "Steve Lacy",
          "The Weeknd",
          "Michael Bublï¿",
          "Lizzo",
          "Daddy Yankee, Bad Bunny",
          "BTS",
          "JVKE",
          "Bad Bunny",
          "Billie Eilish",
          "Lana Del Rey",
          "ROSALï¿½",
          "BLACKPINK",
          "Taylor Swift",
          "Daddy Yankee",
          "Central Cee",
          "Beyoncï¿",
          "Eminem, Dr. Dre",
          "RAYE, 070 Shake",
          "Jack Harlow",
          "Sebastian Yatra",
          "Labrinth",
          "Charlie Puth",
          "Fifty Fifty",
          "Yandel, Feid",
          "Karol G",
          "Ryan Castro",
          "Lady Gaga",
          "ThxSoMch",
          "Hotel Ugly",
          "Feid",
          "TWICE",
          "LE SSERAFIM",
          "Drake, 21 Savage",
          "Nat King Cole",
          "NewJeans",
          "David Kushner",
          "Nicki Minaj",
          "Kendrick Lamar",
          "Quevedo",
          "SZA",
          "IVE",
          "Jimin",
          "Troye Sivan",
          "Peso Pluma",
          "YEAT",
          "Junior H, Peso Pluma",
          "Tyler, The Creator",
          "The Kid Laroi",
          "Burna Boy",
          "Duki",
          "Paulo Londra",
          "Drake",
          "Future",
          "Morgan Wallen",
          "Jung Kook",
          "Stray Kids",
          "(G)I-DLE",
          "ENHYPEN",
          "Mambo Kingz, DJ Luian, Anuel Aa",
          "Lil Baby",
          "Nicki Minaj, Lil Baby",
          "Jasiel Nuï¿½ï¿½ez, Peso P",
          "Rauw Alejandro, Bizarrap"
         ],
         "yaxis": "y"
        }
       ],
       "layout": {
        "barmode": "relative",
        "legend": {
         "tracegroupgap": 0
        },
        "template": {
         "data": {
          "bar": [
           {
            "error_x": {
             "color": "#2a3f5f"
            },
            "error_y": {
             "color": "#2a3f5f"
            },
            "marker": {
             "line": {
              "color": "#E5ECF6",
              "width": 0.5
             },
             "pattern": {
              "fillmode": "overlay",
              "size": 10,
              "solidity": 0.2
             }
            },
            "type": "bar"
           }
          ],
          "barpolar": [
           {
            "marker": {
             "line": {
              "color": "#E5ECF6",
              "width": 0.5
             },
             "pattern": {
              "fillmode": "overlay",
              "size": 10,
              "solidity": 0.2
             }
            },
            "type": "barpolar"
           }
          ],
          "carpet": [
           {
            "aaxis": {
             "endlinecolor": "#2a3f5f",
             "gridcolor": "white",
             "linecolor": "white",
             "minorgridcolor": "white",
             "startlinecolor": "#2a3f5f"
            },
            "baxis": {
             "endlinecolor": "#2a3f5f",
             "gridcolor": "white",
             "linecolor": "white",
             "minorgridcolor": "white",
             "startlinecolor": "#2a3f5f"
            },
            "type": "carpet"
           }
          ],
          "choropleth": [
           {
            "colorbar": {
             "outlinewidth": 0,
             "ticks": ""
            },
            "type": "choropleth"
           }
          ],
          "contour": [
           {
            "colorbar": {
             "outlinewidth": 0,
             "ticks": ""
            },
            "colorscale": [
             [
              0,
              "#0d0887"
             ],
             [
              0.1111111111111111,
              "#46039f"
             ],
             [
              0.2222222222222222,
              "#7201a8"
             ],
             [
              0.3333333333333333,
              "#9c179e"
             ],
             [
              0.4444444444444444,
              "#bd3786"
             ],
             [
              0.5555555555555556,
              "#d8576b"
             ],
             [
              0.6666666666666666,
              "#ed7953"
             ],
             [
              0.7777777777777778,
              "#fb9f3a"
             ],
             [
              0.8888888888888888,
              "#fdca26"
             ],
             [
              1,
              "#f0f921"
             ]
            ],
            "type": "contour"
           }
          ],
          "contourcarpet": [
           {
            "colorbar": {
             "outlinewidth": 0,
             "ticks": ""
            },
            "type": "contourcarpet"
           }
          ],
          "heatmap": [
           {
            "colorbar": {
             "outlinewidth": 0,
             "ticks": ""
            },
            "colorscale": [
             [
              0,
              "#0d0887"
             ],
             [
              0.1111111111111111,
              "#46039f"
             ],
             [
              0.2222222222222222,
              "#7201a8"
             ],
             [
              0.3333333333333333,
              "#9c179e"
             ],
             [
              0.4444444444444444,
              "#bd3786"
             ],
             [
              0.5555555555555556,
              "#d8576b"
             ],
             [
              0.6666666666666666,
              "#ed7953"
             ],
             [
              0.7777777777777778,
              "#fb9f3a"
             ],
             [
              0.8888888888888888,
              "#fdca26"
             ],
             [
              1,
              "#f0f921"
             ]
            ],
            "type": "heatmap"
           }
          ],
          "heatmapgl": [
           {
            "colorbar": {
             "outlinewidth": 0,
             "ticks": ""
            },
            "colorscale": [
             [
              0,
              "#0d0887"
             ],
             [
              0.1111111111111111,
              "#46039f"
             ],
             [
              0.2222222222222222,
              "#7201a8"
             ],
             [
              0.3333333333333333,
              "#9c179e"
             ],
             [
              0.4444444444444444,
              "#bd3786"
             ],
             [
              0.5555555555555556,
              "#d8576b"
             ],
             [
              0.6666666666666666,
              "#ed7953"
             ],
             [
              0.7777777777777778,
              "#fb9f3a"
             ],
             [
              0.8888888888888888,
              "#fdca26"
             ],
             [
              1,
              "#f0f921"
             ]
            ],
            "type": "heatmapgl"
           }
          ],
          "histogram": [
           {
            "marker": {
             "pattern": {
              "fillmode": "overlay",
              "size": 10,
              "solidity": 0.2
             }
            },
            "type": "histogram"
           }
          ],
          "histogram2d": [
           {
            "colorbar": {
             "outlinewidth": 0,
             "ticks": ""
            },
            "colorscale": [
             [
              0,
              "#0d0887"
             ],
             [
              0.1111111111111111,
              "#46039f"
             ],
             [
              0.2222222222222222,
              "#7201a8"
             ],
             [
              0.3333333333333333,
              "#9c179e"
             ],
             [
              0.4444444444444444,
              "#bd3786"
             ],
             [
              0.5555555555555556,
              "#d8576b"
             ],
             [
              0.6666666666666666,
              "#ed7953"
             ],
             [
              0.7777777777777778,
              "#fb9f3a"
             ],
             [
              0.8888888888888888,
              "#fdca26"
             ],
             [
              1,
              "#f0f921"
             ]
            ],
            "type": "histogram2d"
           }
          ],
          "histogram2dcontour": [
           {
            "colorbar": {
             "outlinewidth": 0,
             "ticks": ""
            },
            "colorscale": [
             [
              0,
              "#0d0887"
             ],
             [
              0.1111111111111111,
              "#46039f"
             ],
             [
              0.2222222222222222,
              "#7201a8"
             ],
             [
              0.3333333333333333,
              "#9c179e"
             ],
             [
              0.4444444444444444,
              "#bd3786"
             ],
             [
              0.5555555555555556,
              "#d8576b"
             ],
             [
              0.6666666666666666,
              "#ed7953"
             ],
             [
              0.7777777777777778,
              "#fb9f3a"
             ],
             [
              0.8888888888888888,
              "#fdca26"
             ],
             [
              1,
              "#f0f921"
             ]
            ],
            "type": "histogram2dcontour"
           }
          ],
          "mesh3d": [
           {
            "colorbar": {
             "outlinewidth": 0,
             "ticks": ""
            },
            "type": "mesh3d"
           }
          ],
          "parcoords": [
           {
            "line": {
             "colorbar": {
              "outlinewidth": 0,
              "ticks": ""
             }
            },
            "type": "parcoords"
           }
          ],
          "pie": [
           {
            "automargin": true,
            "type": "pie"
           }
          ],
          "scatter": [
           {
            "marker": {
             "colorbar": {
              "outlinewidth": 0,
              "ticks": ""
             }
            },
            "type": "scatter"
           }
          ],
          "scatter3d": [
           {
            "line": {
             "colorbar": {
              "outlinewidth": 0,
              "ticks": ""
             }
            },
            "marker": {
             "colorbar": {
              "outlinewidth": 0,
              "ticks": ""
             }
            },
            "type": "scatter3d"
           }
          ],
          "scattercarpet": [
           {
            "marker": {
             "colorbar": {
              "outlinewidth": 0,
              "ticks": ""
             }
            },
            "type": "scattercarpet"
           }
          ],
          "scattergeo": [
           {
            "marker": {
             "colorbar": {
              "outlinewidth": 0,
              "ticks": ""
             }
            },
            "type": "scattergeo"
           }
          ],
          "scattergl": [
           {
            "marker": {
             "colorbar": {
              "outlinewidth": 0,
              "ticks": ""
             }
            },
            "type": "scattergl"
           }
          ],
          "scattermapbox": [
           {
            "marker": {
             "colorbar": {
              "outlinewidth": 0,
              "ticks": ""
             }
            },
            "type": "scattermapbox"
           }
          ],
          "scatterpolar": [
           {
            "marker": {
             "colorbar": {
              "outlinewidth": 0,
              "ticks": ""
             }
            },
            "type": "scatterpolar"
           }
          ],
          "scatterpolargl": [
           {
            "marker": {
             "colorbar": {
              "outlinewidth": 0,
              "ticks": ""
             }
            },
            "type": "scatterpolargl"
           }
          ],
          "scatterternary": [
           {
            "marker": {
             "colorbar": {
              "outlinewidth": 0,
              "ticks": ""
             }
            },
            "type": "scatterternary"
           }
          ],
          "surface": [
           {
            "colorbar": {
             "outlinewidth": 0,
             "ticks": ""
            },
            "colorscale": [
             [
              0,
              "#0d0887"
             ],
             [
              0.1111111111111111,
              "#46039f"
             ],
             [
              0.2222222222222222,
              "#7201a8"
             ],
             [
              0.3333333333333333,
              "#9c179e"
             ],
             [
              0.4444444444444444,
              "#bd3786"
             ],
             [
              0.5555555555555556,
              "#d8576b"
             ],
             [
              0.6666666666666666,
              "#ed7953"
             ],
             [
              0.7777777777777778,
              "#fb9f3a"
             ],
             [
              0.8888888888888888,
              "#fdca26"
             ],
             [
              1,
              "#f0f921"
             ]
            ],
            "type": "surface"
           }
          ],
          "table": [
           {
            "cells": {
             "fill": {
              "color": "#EBF0F8"
             },
             "line": {
              "color": "white"
             }
            },
            "header": {
             "fill": {
              "color": "#C8D4E3"
             },
             "line": {
              "color": "white"
             }
            },
            "type": "table"
           }
          ]
         },
         "layout": {
          "annotationdefaults": {
           "arrowcolor": "#2a3f5f",
           "arrowhead": 0,
           "arrowwidth": 1
          },
          "autotypenumbers": "strict",
          "coloraxis": {
           "colorbar": {
            "outlinewidth": 0,
            "ticks": ""
           }
          },
          "colorscale": {
           "diverging": [
            [
             0,
             "#8e0152"
            ],
            [
             0.1,
             "#c51b7d"
            ],
            [
             0.2,
             "#de77ae"
            ],
            [
             0.3,
             "#f1b6da"
            ],
            [
             0.4,
             "#fde0ef"
            ],
            [
             0.5,
             "#f7f7f7"
            ],
            [
             0.6,
             "#e6f5d0"
            ],
            [
             0.7,
             "#b8e186"
            ],
            [
             0.8,
             "#7fbc41"
            ],
            [
             0.9,
             "#4d9221"
            ],
            [
             1,
             "#276419"
            ]
           ],
           "sequential": [
            [
             0,
             "#0d0887"
            ],
            [
             0.1111111111111111,
             "#46039f"
            ],
            [
             0.2222222222222222,
             "#7201a8"
            ],
            [
             0.3333333333333333,
             "#9c179e"
            ],
            [
             0.4444444444444444,
             "#bd3786"
            ],
            [
             0.5555555555555556,
             "#d8576b"
            ],
            [
             0.6666666666666666,
             "#ed7953"
            ],
            [
             0.7777777777777778,
             "#fb9f3a"
            ],
            [
             0.8888888888888888,
             "#fdca26"
            ],
            [
             1,
             "#f0f921"
            ]
           ],
           "sequentialminus": [
            [
             0,
             "#0d0887"
            ],
            [
             0.1111111111111111,
             "#46039f"
            ],
            [
             0.2222222222222222,
             "#7201a8"
            ],
            [
             0.3333333333333333,
             "#9c179e"
            ],
            [
             0.4444444444444444,
             "#bd3786"
            ],
            [
             0.5555555555555556,
             "#d8576b"
            ],
            [
             0.6666666666666666,
             "#ed7953"
            ],
            [
             0.7777777777777778,
             "#fb9f3a"
            ],
            [
             0.8888888888888888,
             "#fdca26"
            ],
            [
             1,
             "#f0f921"
            ]
           ]
          },
          "colorway": [
           "#636efa",
           "#EF553B",
           "#00cc96",
           "#ab63fa",
           "#FFA15A",
           "#19d3f3",
           "#FF6692",
           "#B6E880",
           "#FF97FF",
           "#FECB52"
          ],
          "font": {
           "color": "#2a3f5f"
          },
          "geo": {
           "bgcolor": "white",
           "lakecolor": "white",
           "landcolor": "#E5ECF6",
           "showlakes": true,
           "showland": true,
           "subunitcolor": "white"
          },
          "hoverlabel": {
           "align": "left"
          },
          "hovermode": "closest",
          "mapbox": {
           "style": "light"
          },
          "paper_bgcolor": "white",
          "plot_bgcolor": "#E5ECF6",
          "polar": {
           "angularaxis": {
            "gridcolor": "white",
            "linecolor": "white",
            "ticks": ""
           },
           "bgcolor": "#E5ECF6",
           "radialaxis": {
            "gridcolor": "white",
            "linecolor": "white",
            "ticks": ""
           }
          },
          "scene": {
           "xaxis": {
            "backgroundcolor": "#E5ECF6",
            "gridcolor": "white",
            "gridwidth": 2,
            "linecolor": "white",
            "showbackground": true,
            "ticks": "",
            "zerolinecolor": "white"
           },
           "yaxis": {
            "backgroundcolor": "#E5ECF6",
            "gridcolor": "white",
            "gridwidth": 2,
            "linecolor": "white",
            "showbackground": true,
            "ticks": "",
            "zerolinecolor": "white"
           },
           "zaxis": {
            "backgroundcolor": "#E5ECF6",
            "gridcolor": "white",
            "gridwidth": 2,
            "linecolor": "white",
            "showbackground": true,
            "ticks": "",
            "zerolinecolor": "white"
           }
          },
          "shapedefaults": {
           "line": {
            "color": "#2a3f5f"
           }
          },
          "ternary": {
           "aaxis": {
            "gridcolor": "white",
            "linecolor": "white",
            "ticks": ""
           },
           "baxis": {
            "gridcolor": "white",
            "linecolor": "white",
            "ticks": ""
           },
           "bgcolor": "#E5ECF6",
           "caxis": {
            "gridcolor": "white",
            "linecolor": "white",
            "ticks": ""
           }
          },
          "title": {
           "x": 0.05
          },
          "xaxis": {
           "automargin": true,
           "gridcolor": "white",
           "linecolor": "white",
           "ticks": "",
           "title": {
            "standoff": 15
           },
           "zerolinecolor": "white",
           "zerolinewidth": 2
          },
          "yaxis": {
           "automargin": true,
           "gridcolor": "white",
           "linecolor": "white",
           "ticks": "",
           "title": {
            "standoff": 15
           },
           "zerolinecolor": "white",
           "zerolinewidth": 2
          }
         }
        },
        "title": {
         "text": "average stream per song for top 100 artists"
        },
        "xaxis": {
         "anchor": "y",
         "domain": [
          0,
          1
         ],
         "title": {
          "text": "average stream per song"
         }
        },
        "yaxis": {
         "anchor": "x",
         "domain": [
          0,
          1
         ],
         "title": {
          "text": "artist(s)"
         }
        }
       }
      },
      "text/html": [
       "<div>                            <div id=\"ce204a3b-e6c9-4519-a96f-389dcc5d22e3\" class=\"plotly-graph-div\" style=\"height:525px; width:100%;\"></div>            <script type=\"text/javascript\">                require([\"plotly\"], function(Plotly) {                    window.PLOTLYENV=window.PLOTLYENV || {};                                    if (document.getElementById(\"ce204a3b-e6c9-4519-a96f-389dcc5d22e3\")) {                    Plotly.newPlot(                        \"ce204a3b-e6c9-4519-a96f-389dcc5d22e3\",                        [{\"alignmentgroup\":\"True\",\"hovertemplate\":\"avg_stream_per_song=%{x}<br>artist(s)=%{y}<extra></extra>\",\"legendgroup\":\"\",\"marker\":{\"color\":\"#636efa\",\"pattern\":{\"shape\":\"\"}},\"name\":\"\",\"offsetgroup\":\"\",\"orientation\":\"h\",\"showlegend\":false,\"textposition\":\"auto\",\"x\":[1757494883.3333333,1578232786.6666667,1548574801.5,1545951399.0,1545438578.2222223,1461730149.75,1392451682.75,1343172025.0,1336669979.6666667,1306604507.3333333,1275058686.0,1237051829.5,1185796180.0,1127186647.5,1111533362.0,1075879666.6666667,1063164130.8571428,1043346468.0,1029419894.5,1026954265.5,996248439.6666666,943685385.0,870279295.5,817301089.5,814974810.0,814318398.0,785756728.3333334,783715775.8333334,773314047.6666666,761646014.0,752270821.3333334,718837031.5,696102063.0,682861508.7647059,668908051.5,658497585.5,655846956.0,648377486.3333334,644797857.7272727,641903365.5,565159356.3333334,554477537.0,548736448.875,548631183.5,526199979.31578946,523286489.6,465341640.6666667,453679035.0,423010141.0,413342891.1764706,407857155.5,390160602.5,374101396.6666667,369913706.0,358322553.0,346156719.3333333,338976617.0,330390018.71428573,323351736.0,318238825.0,316394655.0,315219108.25,313013231.5,305413365.0,302543074.0,293483972.0,277592549.875,267689866.5,265274786.5,259570967.5,258399839.5,257427834.5,255989087.0,255052534.5,252761328.91666666,244267831.5,239884800.21052632,235547649.25,235148565.0,215712244.5,212700029.0,206120329.5,205168876.5,200223139.0,196140054.0,194736957.0,171186965.5,165113804.5,163885732.25,152482674.5,151472656.0909091,142394323.0,138865518.0,133491665.0,121825887.0,98628647.5,93669706.0,73032659.0,64541909.5,60584302.5],\"xaxis\":\"x\",\"y\":[\"Imagine Dragons\",\"Lewis Capaldi\",\"OneRepublic\",\"Eminem\",\"Ed Sheeran\",\"Bruno Mars\",\"Arctic Monkeys\",\"James Arthur\",\"The Neighbourhood\",\"Justin Bieber\",\"Coldplay\",\"Juice WRLD\",\"Bad Bunny, Jhay Cortez\",\"Adele\",\"XXXTENTACION\",\"Dua Lipa\",\"Olivia Rodrigo\",\"Ariana Grande\",\"Nirvana\",\"Dr. Dre, Snoop Dogg\",\"Lil Nas X\",\"Miley Cyrus\",\"Ariana Grande, The Weeknd\",\"Rauw Alejandro\",\"Sia\",\"Frank Ocean\",\"Joji\",\"Doja Cat\",\"Post Malone\",\"Tate McRae\",\"Shawn Mendes\",\"Rosa Linn\",\"The Weeknd, Gesaffelstein\",\"Harry Styles\",\"M\\u00ef\\u00bf\\u00bd\\u00ef\\u00bf\\u00bdne\",\"d4vd\",\"Kanye West\",\"Steve Lacy\",\"The Weeknd\",\"Michael Bubl\\u00ef\\u00bf\",\"Lizzo\",\"Daddy Yankee, Bad Bunny\",\"BTS\",\"JVKE\",\"Bad Bunny\",\"Billie Eilish\",\"Lana Del Rey\",\"ROSAL\\u00ef\\u00bf\\u00bd\",\"BLACKPINK\",\"Taylor Swift\",\"Daddy Yankee\",\"Central Cee\",\"Beyonc\\u00ef\\u00bf\",\"Eminem, Dr. Dre\",\"RAYE, 070 Shake\",\"Jack Harlow\",\"Sebastian Yatra\",\"Labrinth\",\"Charlie Puth\",\"Fifty Fifty\",\"Yandel, Feid\",\"Karol G\",\"Ryan Castro\",\"Lady Gaga\",\"ThxSoMch\",\"Hotel Ugly\",\"Feid\",\"TWICE\",\"LE SSERAFIM\",\"Drake, 21 Savage\",\"Nat King Cole\",\"NewJeans\",\"David Kushner\",\"Nicki Minaj\",\"Kendrick Lamar\",\"Quevedo\",\"SZA\",\"IVE\",\"Jimin\",\"Troye Sivan\",\"Peso Pluma\",\"YEAT\",\"Junior H, Peso Pluma\",\"Tyler, The Creator\",\"The Kid Laroi\",\"Burna Boy\",\"Duki\",\"Paulo Londra\",\"Drake\",\"Future\",\"Morgan Wallen\",\"Jung Kook\",\"Stray Kids\",\"(G)I-DLE\",\"ENHYPEN\",\"Mambo Kingz, DJ Luian, Anuel Aa\",\"Lil Baby\",\"Nicki Minaj, Lil Baby\",\"Jasiel Nu\\u00ef\\u00bf\\u00bd\\u00ef\\u00bf\\u00bdez, Peso P\",\"Rauw Alejandro, Bizarrap\"],\"yaxis\":\"y\",\"type\":\"bar\"}],                        {\"template\":{\"data\":{\"bar\":[{\"error_x\":{\"color\":\"#2a3f5f\"},\"error_y\":{\"color\":\"#2a3f5f\"},\"marker\":{\"line\":{\"color\":\"#E5ECF6\",\"width\":0.5},\"pattern\":{\"fillmode\":\"overlay\",\"size\":10,\"solidity\":0.2}},\"type\":\"bar\"}],\"barpolar\":[{\"marker\":{\"line\":{\"color\":\"#E5ECF6\",\"width\":0.5},\"pattern\":{\"fillmode\":\"overlay\",\"size\":10,\"solidity\":0.2}},\"type\":\"barpolar\"}],\"carpet\":[{\"aaxis\":{\"endlinecolor\":\"#2a3f5f\",\"gridcolor\":\"white\",\"linecolor\":\"white\",\"minorgridcolor\":\"white\",\"startlinecolor\":\"#2a3f5f\"},\"baxis\":{\"endlinecolor\":\"#2a3f5f\",\"gridcolor\":\"white\",\"linecolor\":\"white\",\"minorgridcolor\":\"white\",\"startlinecolor\":\"#2a3f5f\"},\"type\":\"carpet\"}],\"choropleth\":[{\"colorbar\":{\"outlinewidth\":0,\"ticks\":\"\"},\"type\":\"choropleth\"}],\"contour\":[{\"colorbar\":{\"outlinewidth\":0,\"ticks\":\"\"},\"colorscale\":[[0.0,\"#0d0887\"],[0.1111111111111111,\"#46039f\"],[0.2222222222222222,\"#7201a8\"],[0.3333333333333333,\"#9c179e\"],[0.4444444444444444,\"#bd3786\"],[0.5555555555555556,\"#d8576b\"],[0.6666666666666666,\"#ed7953\"],[0.7777777777777778,\"#fb9f3a\"],[0.8888888888888888,\"#fdca26\"],[1.0,\"#f0f921\"]],\"type\":\"contour\"}],\"contourcarpet\":[{\"colorbar\":{\"outlinewidth\":0,\"ticks\":\"\"},\"type\":\"contourcarpet\"}],\"heatmap\":[{\"colorbar\":{\"outlinewidth\":0,\"ticks\":\"\"},\"colorscale\":[[0.0,\"#0d0887\"],[0.1111111111111111,\"#46039f\"],[0.2222222222222222,\"#7201a8\"],[0.3333333333333333,\"#9c179e\"],[0.4444444444444444,\"#bd3786\"],[0.5555555555555556,\"#d8576b\"],[0.6666666666666666,\"#ed7953\"],[0.7777777777777778,\"#fb9f3a\"],[0.8888888888888888,\"#fdca26\"],[1.0,\"#f0f921\"]],\"type\":\"heatmap\"}],\"heatmapgl\":[{\"colorbar\":{\"outlinewidth\":0,\"ticks\":\"\"},\"colorscale\":[[0.0,\"#0d0887\"],[0.1111111111111111,\"#46039f\"],[0.2222222222222222,\"#7201a8\"],[0.3333333333333333,\"#9c179e\"],[0.4444444444444444,\"#bd3786\"],[0.5555555555555556,\"#d8576b\"],[0.6666666666666666,\"#ed7953\"],[0.7777777777777778,\"#fb9f3a\"],[0.8888888888888888,\"#fdca26\"],[1.0,\"#f0f921\"]],\"type\":\"heatmapgl\"}],\"histogram\":[{\"marker\":{\"pattern\":{\"fillmode\":\"overlay\",\"size\":10,\"solidity\":0.2}},\"type\":\"histogram\"}],\"histogram2d\":[{\"colorbar\":{\"outlinewidth\":0,\"ticks\":\"\"},\"colorscale\":[[0.0,\"#0d0887\"],[0.1111111111111111,\"#46039f\"],[0.2222222222222222,\"#7201a8\"],[0.3333333333333333,\"#9c179e\"],[0.4444444444444444,\"#bd3786\"],[0.5555555555555556,\"#d8576b\"],[0.6666666666666666,\"#ed7953\"],[0.7777777777777778,\"#fb9f3a\"],[0.8888888888888888,\"#fdca26\"],[1.0,\"#f0f921\"]],\"type\":\"histogram2d\"}],\"histogram2dcontour\":[{\"colorbar\":{\"outlinewidth\":0,\"ticks\":\"\"},\"colorscale\":[[0.0,\"#0d0887\"],[0.1111111111111111,\"#46039f\"],[0.2222222222222222,\"#7201a8\"],[0.3333333333333333,\"#9c179e\"],[0.4444444444444444,\"#bd3786\"],[0.5555555555555556,\"#d8576b\"],[0.6666666666666666,\"#ed7953\"],[0.7777777777777778,\"#fb9f3a\"],[0.8888888888888888,\"#fdca26\"],[1.0,\"#f0f921\"]],\"type\":\"histogram2dcontour\"}],\"mesh3d\":[{\"colorbar\":{\"outlinewidth\":0,\"ticks\":\"\"},\"type\":\"mesh3d\"}],\"parcoords\":[{\"line\":{\"colorbar\":{\"outlinewidth\":0,\"ticks\":\"\"}},\"type\":\"parcoords\"}],\"pie\":[{\"automargin\":true,\"type\":\"pie\"}],\"scatter\":[{\"marker\":{\"colorbar\":{\"outlinewidth\":0,\"ticks\":\"\"}},\"type\":\"scatter\"}],\"scatter3d\":[{\"line\":{\"colorbar\":{\"outlinewidth\":0,\"ticks\":\"\"}},\"marker\":{\"colorbar\":{\"outlinewidth\":0,\"ticks\":\"\"}},\"type\":\"scatter3d\"}],\"scattercarpet\":[{\"marker\":{\"colorbar\":{\"outlinewidth\":0,\"ticks\":\"\"}},\"type\":\"scattercarpet\"}],\"scattergeo\":[{\"marker\":{\"colorbar\":{\"outlinewidth\":0,\"ticks\":\"\"}},\"type\":\"scattergeo\"}],\"scattergl\":[{\"marker\":{\"colorbar\":{\"outlinewidth\":0,\"ticks\":\"\"}},\"type\":\"scattergl\"}],\"scattermapbox\":[{\"marker\":{\"colorbar\":{\"outlinewidth\":0,\"ticks\":\"\"}},\"type\":\"scattermapbox\"}],\"scatterpolar\":[{\"marker\":{\"colorbar\":{\"outlinewidth\":0,\"ticks\":\"\"}},\"type\":\"scatterpolar\"}],\"scatterpolargl\":[{\"marker\":{\"colorbar\":{\"outlinewidth\":0,\"ticks\":\"\"}},\"type\":\"scatterpolargl\"}],\"scatterternary\":[{\"marker\":{\"colorbar\":{\"outlinewidth\":0,\"ticks\":\"\"}},\"type\":\"scatterternary\"}],\"surface\":[{\"colorbar\":{\"outlinewidth\":0,\"ticks\":\"\"},\"colorscale\":[[0.0,\"#0d0887\"],[0.1111111111111111,\"#46039f\"],[0.2222222222222222,\"#7201a8\"],[0.3333333333333333,\"#9c179e\"],[0.4444444444444444,\"#bd3786\"],[0.5555555555555556,\"#d8576b\"],[0.6666666666666666,\"#ed7953\"],[0.7777777777777778,\"#fb9f3a\"],[0.8888888888888888,\"#fdca26\"],[1.0,\"#f0f921\"]],\"type\":\"surface\"}],\"table\":[{\"cells\":{\"fill\":{\"color\":\"#EBF0F8\"},\"line\":{\"color\":\"white\"}},\"header\":{\"fill\":{\"color\":\"#C8D4E3\"},\"line\":{\"color\":\"white\"}},\"type\":\"table\"}]},\"layout\":{\"annotationdefaults\":{\"arrowcolor\":\"#2a3f5f\",\"arrowhead\":0,\"arrowwidth\":1},\"autotypenumbers\":\"strict\",\"coloraxis\":{\"colorbar\":{\"outlinewidth\":0,\"ticks\":\"\"}},\"colorscale\":{\"diverging\":[[0,\"#8e0152\"],[0.1,\"#c51b7d\"],[0.2,\"#de77ae\"],[0.3,\"#f1b6da\"],[0.4,\"#fde0ef\"],[0.5,\"#f7f7f7\"],[0.6,\"#e6f5d0\"],[0.7,\"#b8e186\"],[0.8,\"#7fbc41\"],[0.9,\"#4d9221\"],[1,\"#276419\"]],\"sequential\":[[0.0,\"#0d0887\"],[0.1111111111111111,\"#46039f\"],[0.2222222222222222,\"#7201a8\"],[0.3333333333333333,\"#9c179e\"],[0.4444444444444444,\"#bd3786\"],[0.5555555555555556,\"#d8576b\"],[0.6666666666666666,\"#ed7953\"],[0.7777777777777778,\"#fb9f3a\"],[0.8888888888888888,\"#fdca26\"],[1.0,\"#f0f921\"]],\"sequentialminus\":[[0.0,\"#0d0887\"],[0.1111111111111111,\"#46039f\"],[0.2222222222222222,\"#7201a8\"],[0.3333333333333333,\"#9c179e\"],[0.4444444444444444,\"#bd3786\"],[0.5555555555555556,\"#d8576b\"],[0.6666666666666666,\"#ed7953\"],[0.7777777777777778,\"#fb9f3a\"],[0.8888888888888888,\"#fdca26\"],[1.0,\"#f0f921\"]]},\"colorway\":[\"#636efa\",\"#EF553B\",\"#00cc96\",\"#ab63fa\",\"#FFA15A\",\"#19d3f3\",\"#FF6692\",\"#B6E880\",\"#FF97FF\",\"#FECB52\"],\"font\":{\"color\":\"#2a3f5f\"},\"geo\":{\"bgcolor\":\"white\",\"lakecolor\":\"white\",\"landcolor\":\"#E5ECF6\",\"showlakes\":true,\"showland\":true,\"subunitcolor\":\"white\"},\"hoverlabel\":{\"align\":\"left\"},\"hovermode\":\"closest\",\"mapbox\":{\"style\":\"light\"},\"paper_bgcolor\":\"white\",\"plot_bgcolor\":\"#E5ECF6\",\"polar\":{\"angularaxis\":{\"gridcolor\":\"white\",\"linecolor\":\"white\",\"ticks\":\"\"},\"bgcolor\":\"#E5ECF6\",\"radialaxis\":{\"gridcolor\":\"white\",\"linecolor\":\"white\",\"ticks\":\"\"}},\"scene\":{\"xaxis\":{\"backgroundcolor\":\"#E5ECF6\",\"gridcolor\":\"white\",\"gridwidth\":2,\"linecolor\":\"white\",\"showbackground\":true,\"ticks\":\"\",\"zerolinecolor\":\"white\"},\"yaxis\":{\"backgroundcolor\":\"#E5ECF6\",\"gridcolor\":\"white\",\"gridwidth\":2,\"linecolor\":\"white\",\"showbackground\":true,\"ticks\":\"\",\"zerolinecolor\":\"white\"},\"zaxis\":{\"backgroundcolor\":\"#E5ECF6\",\"gridcolor\":\"white\",\"gridwidth\":2,\"linecolor\":\"white\",\"showbackground\":true,\"ticks\":\"\",\"zerolinecolor\":\"white\"}},\"shapedefaults\":{\"line\":{\"color\":\"#2a3f5f\"}},\"ternary\":{\"aaxis\":{\"gridcolor\":\"white\",\"linecolor\":\"white\",\"ticks\":\"\"},\"baxis\":{\"gridcolor\":\"white\",\"linecolor\":\"white\",\"ticks\":\"\"},\"bgcolor\":\"#E5ECF6\",\"caxis\":{\"gridcolor\":\"white\",\"linecolor\":\"white\",\"ticks\":\"\"}},\"title\":{\"x\":0.05},\"xaxis\":{\"automargin\":true,\"gridcolor\":\"white\",\"linecolor\":\"white\",\"ticks\":\"\",\"title\":{\"standoff\":15},\"zerolinecolor\":\"white\",\"zerolinewidth\":2},\"yaxis\":{\"automargin\":true,\"gridcolor\":\"white\",\"linecolor\":\"white\",\"ticks\":\"\",\"title\":{\"standoff\":15},\"zerolinecolor\":\"white\",\"zerolinewidth\":2}}},\"xaxis\":{\"anchor\":\"y\",\"domain\":[0.0,1.0],\"title\":{\"text\":\"average stream per song\"}},\"yaxis\":{\"anchor\":\"x\",\"domain\":[0.0,1.0],\"title\":{\"text\":\"artist(s)\"}},\"legend\":{\"tracegroupgap\":0},\"title\":{\"text\":\"average stream per song for top 100 artists\"},\"barmode\":\"relative\"},                        {\"responsive\": true}                    ).then(function(){\n",
       "                            \n",
       "var gd = document.getElementById('ce204a3b-e6c9-4519-a96f-389dcc5d22e3');\n",
       "var x = new MutationObserver(function (mutations, observer) {{\n",
       "        var display = window.getComputedStyle(gd).display;\n",
       "        if (!display || display === 'none') {{\n",
       "            console.log([gd, 'removed!']);\n",
       "            Plotly.purge(gd);\n",
       "            observer.disconnect();\n",
       "        }}\n",
       "}});\n",
       "\n",
       "// Listen for the removal of the full notebook cells\n",
       "var notebookContainer = gd.closest('#notebook-container');\n",
       "if (notebookContainer) {{\n",
       "    x.observe(notebookContainer, {childList: true});\n",
       "}}\n",
       "\n",
       "// Listen for the clearing of the current output cell\n",
       "var outputEl = gd.closest('.output');\n",
       "if (outputEl) {{\n",
       "    x.observe(outputEl, {childList: true});\n",
       "}}\n",
       "\n",
       "                        })                };                });            </script>        </div>"
      ]
     },
     "metadata": {},
     "output_type": "display_data"
    }
   ],
   "source": [
    "fig = px.bar(artists_entries_top_100, x = 'avg_stream_per_song', y = 'artist(s)',\n",
    "            title = 'average stream per song for top 100 artists')\n",
    "fig.update_layout(xaxis_title = 'average stream per song',\n",
    "                 yaxis_title = 'artist(s)')\n",
    "fig.show()"
   ]
  },
  {
   "cell_type": "markdown",
   "metadata": {},
   "source": [
    "In this visualization, we can see imagine dragons average the most streams per song, though in earlier visualizations, Taylor Swift had the most entries in playlists, and Imagine Dragons were not even top 10 in playlist presence, their songs had more streams, this may have to do with how long ago their songs were released. "
   ]
  },
  {
   "cell_type": "code",
   "execution_count": 66,
   "metadata": {},
   "outputs": [
    {
     "data": {
      "text/html": [
       "<div>\n",
       "<style scoped>\n",
       "    .dataframe tbody tr th:only-of-type {\n",
       "        vertical-align: middle;\n",
       "    }\n",
       "\n",
       "    .dataframe tbody tr th {\n",
       "        vertical-align: top;\n",
       "    }\n",
       "\n",
       "    .dataframe thead th {\n",
       "        text-align: right;\n",
       "    }\n",
       "</style>\n",
       "<table border=\"1\" class=\"dataframe\">\n",
       "  <thead>\n",
       "    <tr style=\"text-align: right;\">\n",
       "      <th></th>\n",
       "      <th>artist(s)</th>\n",
       "      <th>number_of_songs</th>\n",
       "      <th>average_daily_stream_per_song</th>\n",
       "    </tr>\n",
       "  </thead>\n",
       "  <tbody>\n",
       "    <tr>\n",
       "      <th>273</th>\n",
       "      <td>Justin Bieber, The Kid Laroi</td>\n",
       "      <td>1</td>\n",
       "      <td>3.046107e+06</td>\n",
       "    </tr>\n",
       "    <tr>\n",
       "      <th>508</th>\n",
       "      <td>Sam Smith, Kim Petras</td>\n",
       "      <td>1</td>\n",
       "      <td>2.829140e+06</td>\n",
       "    </tr>\n",
       "    <tr>\n",
       "      <th>177</th>\n",
       "      <td>Eslabon Armado, Peso Pluma</td>\n",
       "      <td>1</td>\n",
       "      <td>2.792231e+06</td>\n",
       "    </tr>\n",
       "    <tr>\n",
       "      <th>65</th>\n",
       "      <td>Bizarrap, Quevedo</td>\n",
       "      <td>1</td>\n",
       "      <td>2.644376e+06</td>\n",
       "    </tr>\n",
       "    <tr>\n",
       "      <th>96</th>\n",
       "      <td>Chencho Corleone, Bad Bunny</td>\n",
       "      <td>1</td>\n",
       "      <td>2.510031e+06</td>\n",
       "    </tr>\n",
       "    <tr>\n",
       "      <th>53</th>\n",
       "      <td>Bebe Rexha, David Guetta</td>\n",
       "      <td>1</td>\n",
       "      <td>2.401370e+06</td>\n",
       "    </tr>\n",
       "    <tr>\n",
       "      <th>573</th>\n",
       "      <td>The Weeknd, 21 Savage, Metro Boomin</td>\n",
       "      <td>1</td>\n",
       "      <td>2.318565e+06</td>\n",
       "    </tr>\n",
       "    <tr>\n",
       "      <th>395</th>\n",
       "      <td>Miley Cyrus</td>\n",
       "      <td>2</td>\n",
       "      <td>2.298037e+06</td>\n",
       "    </tr>\n",
       "    <tr>\n",
       "      <th>522</th>\n",
       "      <td>Shakira, Bizarrap</td>\n",
       "      <td>1</td>\n",
       "      <td>2.228320e+06</td>\n",
       "    </tr>\n",
       "    <tr>\n",
       "      <th>45</th>\n",
       "      <td>Bad Bunny, Grupo Frontera</td>\n",
       "      <td>1</td>\n",
       "      <td>2.217857e+06</td>\n",
       "    </tr>\n",
       "    <tr>\n",
       "      <th>290</th>\n",
       "      <td>Karol G, Shakira</td>\n",
       "      <td>1</td>\n",
       "      <td>2.202813e+06</td>\n",
       "    </tr>\n",
       "    <tr>\n",
       "      <th>368</th>\n",
       "      <td>Manuel Turizo</td>\n",
       "      <td>1</td>\n",
       "      <td>2.191486e+06</td>\n",
       "    </tr>\n",
       "    <tr>\n",
       "      <th>452</th>\n",
       "      <td>Peso Pluma, Yng Lvcas</td>\n",
       "      <td>1</td>\n",
       "      <td>2.137583e+06</td>\n",
       "    </tr>\n",
       "    <tr>\n",
       "      <th>245</th>\n",
       "      <td>Jack Harlow, Lil Nas X</td>\n",
       "      <td>1</td>\n",
       "      <td>2.107259e+06</td>\n",
       "    </tr>\n",
       "    <tr>\n",
       "      <th>208</th>\n",
       "      <td>Glass Animals</td>\n",
       "      <td>1</td>\n",
       "      <td>2.044745e+06</td>\n",
       "    </tr>\n",
       "    <tr>\n",
       "      <th>70</th>\n",
       "      <td>Bomba Estï¿½ï¿½reo, Bad B</td>\n",
       "      <td>1</td>\n",
       "      <td>1.975376e+06</td>\n",
       "    </tr>\n",
       "    <tr>\n",
       "      <th>593</th>\n",
       "      <td>Tones and I</td>\n",
       "      <td>1</td>\n",
       "      <td>1.719563e+06</td>\n",
       "    </tr>\n",
       "    <tr>\n",
       "      <th>499</th>\n",
       "      <td>SZA, Doja Cat</td>\n",
       "      <td>1</td>\n",
       "      <td>1.630918e+06</td>\n",
       "    </tr>\n",
       "    <tr>\n",
       "      <th>438</th>\n",
       "      <td>Ozuna, Feid</td>\n",
       "      <td>1</td>\n",
       "      <td>1.601123e+06</td>\n",
       "    </tr>\n",
       "    <tr>\n",
       "      <th>230</th>\n",
       "      <td>Imagine Dragons, League of Legends, Arcane</td>\n",
       "      <td>1</td>\n",
       "      <td>1.599322e+06</td>\n",
       "    </tr>\n",
       "  </tbody>\n",
       "</table>\n",
       "</div>"
      ],
      "text/plain": [
       "                                      artist(s)  number_of_songs  \\\n",
       "273                Justin Bieber, The Kid Laroi                1   \n",
       "508                       Sam Smith, Kim Petras                1   \n",
       "177                  Eslabon Armado, Peso Pluma                1   \n",
       "65                            Bizarrap, Quevedo                1   \n",
       "96                  Chencho Corleone, Bad Bunny                1   \n",
       "53                     Bebe Rexha, David Guetta                1   \n",
       "573         The Weeknd, 21 Savage, Metro Boomin                1   \n",
       "395                                 Miley Cyrus                2   \n",
       "522                           Shakira, Bizarrap                1   \n",
       "45                    Bad Bunny, Grupo Frontera                1   \n",
       "290                            Karol G, Shakira                1   \n",
       "368                               Manuel Turizo                1   \n",
       "452                       Peso Pluma, Yng Lvcas                1   \n",
       "245                      Jack Harlow, Lil Nas X                1   \n",
       "208                               Glass Animals                1   \n",
       "70                    Bomba Estï¿½ï¿½reo, Bad B                1   \n",
       "593                                 Tones and I                1   \n",
       "499                               SZA, Doja Cat                1   \n",
       "438                                 Ozuna, Feid                1   \n",
       "230  Imagine Dragons, League of Legends, Arcane                1   \n",
       "\n",
       "     average_daily_stream_per_song  \n",
       "273                   3.046107e+06  \n",
       "508                   2.829140e+06  \n",
       "177                   2.792231e+06  \n",
       "65                    2.644376e+06  \n",
       "96                    2.510031e+06  \n",
       "53                    2.401370e+06  \n",
       "573                   2.318565e+06  \n",
       "395                   2.298037e+06  \n",
       "522                   2.228320e+06  \n",
       "45                    2.217857e+06  \n",
       "290                   2.202813e+06  \n",
       "368                   2.191486e+06  \n",
       "452                   2.137583e+06  \n",
       "245                   2.107259e+06  \n",
       "208                   2.044745e+06  \n",
       "70                    1.975376e+06  \n",
       "593                   1.719563e+06  \n",
       "499                   1.630918e+06  \n",
       "438                   1.601123e+06  \n",
       "230                   1.599322e+06  "
      ]
     },
     "execution_count": 66,
     "metadata": {},
     "output_type": "execute_result"
    }
   ],
   "source": [
    "artists_daily_streams = spotify_df.groupby('artist(s)_name').agg({'avg_daily_streams':['count','mean']}).reset_index()\n",
    "artists_daily_streams.columns = ['artist(s)', 'number_of_songs', 'average_daily_stream_per_song']\n",
    "artists_daily_streams_top_100 = artists_daily_streams.sort_values(by = 'average_daily_stream_per_song', ascending = False).head(100)\n",
    "artists_daily_streams_top_100.head(20)"
   ]
  },
  {
   "cell_type": "code",
   "execution_count": 64,
   "metadata": {},
   "outputs": [
    {
     "data": {
      "application/vnd.plotly.v1+json": {
       "config": {
        "plotlyServerURL": "https://plot.ly"
       },
       "data": [
        {
         "alignmentgroup": "True",
         "hovertemplate": "average_daily_stream_per_song=%{x}<br>artist(s)=%{y}<extra></extra>",
         "legendgroup": "",
         "marker": {
          "color": "#636efa",
          "pattern": {
           "shape": ""
          }
         },
         "name": "",
         "offsetgroup": "",
         "orientation": "h",
         "showlegend": false,
         "textposition": "auto",
         "type": "bar",
         "x": [
          3046107.3394285715,
          2829139.9770114943,
          2792231.2,
          2644376.3996101366,
          2510031.0418118467,
          2401370.4956709957,
          2318564.587912088,
          2298037.329638258,
          2228319.74691358,
          2217857.1842105263,
          2202812.786476868,
          2191486.205776173,
          2137583.2702702703,
          2107258.7259001164,
          2044744.813749001,
          1975375.93728223,
          1719562.8283313324,
          1630918.2308488614,
          1601122.8266033253,
          1599321.7633986927,
          1528175.2263222632,
          1494463.3049494412,
          1493871.9768009768,
          1471783.6483146066,
          1470260.087431694,
          1464986.4853090171,
          1459713.2857142857,
          1420340.1904761905,
          1397525.2724358975,
          1387267.2669387755,
          1378519.1077350113,
          1372255.6952380952,
          1368254.0163265306,
          1341156.4739583333,
          1332095.0854978354,
          1330785.1027568923,
          1315829.5469564628,
          1312142.2978823555,
          1246142.3602150537,
          1237869.3399014778,
          1210521.444088803,
          1209710.679592197,
          1199538.605952381,
          1188238.5981161695,
          1155686.5458199356,
          1147793.8675799086,
          1141907.2908514014,
          1138770.0608899298,
          1136567.2321428573,
          1130927.4267302905,
          1115921.9926739926,
          1115084.9487804878,
          1101748.1153846155,
          1090474.027173913,
          1087392.248861912,
          1070653.4529616726,
          1063578.2832512315,
          1058138.9071452501,
          1049475.0514285713,
          1047120.0367923602,
          1029476.5517826825,
          1029452.0414078675,
          1025274.6098901099,
          1022891.8336951802,
          1022069.4693877551,
          1017128.5325969937,
          1009869.3071428571,
          1005118.058910162,
          1003859.2021857924,
          999613.8786501178,
          985441.0063532401,
          976600.5683288922,
          970297.5867000357,
          966429.528957529,
          963582.458919319,
          956484.399496337,
          955100.7368421053,
          954691.7152658663,
          954565.6645962733,
          950599.6816326531,
          945702.2861313869,
          935771.2452961253,
          934328.5247346036,
          933153.2279411765,
          928657.7619047619,
          927107.1826111827,
          916012.0892857143,
          915504.868852459,
          910356.507311586,
          907816.1388503503,
          899414.3080638442,
          896572.3200549451,
          891257.8762636473,
          889763.6458221024,
          888458.1677797316,
          887524.7674706246,
          884816.5140073082,
          884065.6976744186,
          882862.7185430464,
          874075.461929978
         ],
         "xaxis": "x",
         "y": [
          "Justin Bieber, The Kid Laroi",
          "Sam Smith, Kim Petras",
          "Eslabon Armado, Peso Pluma",
          "Bizarrap, Quevedo",
          "Chencho Corleone, Bad Bunny",
          "Bebe Rexha, David Guetta",
          "The Weeknd, 21 Savage, Metro Boomin",
          "Miley Cyrus",
          "Shakira, Bizarrap",
          "Bad Bunny, Grupo Frontera",
          "Karol G, Shakira",
          "Manuel Turizo",
          "Peso Pluma, Yng Lvcas",
          "Jack Harlow, Lil Nas X",
          "Glass Animals",
          "Bomba Estï¿½ï¿½reo, Bad B",
          "Tones and I",
          "SZA, Doja Cat",
          "Ozuna, Feid",
          "Imagine Dragons, League of Legends, Arcane",
          "Shawn Mendes, Camila Cabello",
          "Post Malone, Swae Lee",
          "Imagine Dragons, League of Legends, JID, Arcane",
          "Farruko",
          "Arcangel, Bad Bunny",
          "Justin Bieber, Daniel Caesar, Giveon",
          "Rï¿½ï¿½ma, Selena G",
          "Rauw Alejandro, ROSALï¿½",
          "Natanael Cano, Peso Pluma",
          "24kgoldn, Iann Dior",
          "Ariana Grande, The Weeknd",
          "Charlie Puth, BTS, Jung Kook",
          "Feid, Young Miko",
          "Dua Lipa, DaBaby",
          "Juan Cruz Toledo, Huilen Toledo",
          "Coldplay, BTS",
          "d4vd",
          "Bad Bunny, Jhay Cortez",
          "Natanael Cano, Gabito Ballesteros, Peso Pluma",
          "Meghan Trainor",
          "Olivia Rodrigo",
          "OneRepublic",
          "Gayle",
          "Camila Cabello, Ed Sheeran",
          "Rosa Linn",
          "Maroon 5",
          "Lady Gaga, Bradley Cooper",
          "Lost Frequencies, Calum Scott",
          "Fifty Fifty",
          "Lil Nas X",
          "Post Malone, Doja Cat",
          "Lil Uzi Vert",
          "Future, Chris Brown, Metro Boomin",
          "Bizarrap, Peso Pluma",
          "Karol G, Becky G",
          "Bad Bunny, Rauw Alejandro",
          "Lisa",
          "Lewis Capaldi",
          "Fuerza Regida, Grupo Frontera",
          "Lizzo",
          "Shakira, Rauw Alejandro",
          "Robin Schulz, Oliver Tree",
          "Libianca",
          "Billie Eilish, Khalid",
          "Em Beihold, Stephen Sanchez",
          "Joji",
          "Latto, Jung Kook",
          "Cris Mj",
          "Dave, Central Cee",
          "ROSALï¿½",
          "Julieta Venegas, Bad Bunny, Tainy",
          "The Weeknd, Daft Punk",
          "Drake, WizKid, Kyla",
          "Bad Bunny, Eladio Carrion",
          "Conan Gray",
          "JVKE",
          "Brray, Rauw Alejandro, Lyanno",
          "Drake, Future, Tems",
          "Oscar Maydon, Junior H",
          "JISOO",
          "The Chainsmokers, Halsey",
          "Dua Lipa",
          "BLACKPINK",
          "Ozuna, Shakira",
          "David Kushner",
          "Jimin",
          "Kali Uchis",
          "Coi Leray",
          "Chencho Corleone, Rauw Alejandro",
          "Central Cee",
          "Yandel, Feid",
          "Nicky Youre, Dazy",
          "The Chainsmokers, Coldplay",
          "RAYE, 070 Shake",
          "Ed Sheeran",
          "J Balvin, Bad Bunny",
          "Stephen Sanchez",
          "Nengo Flow, Bad Bunny",
          "Karol G, Romeo Santos",
          "Bad Bunny"
         ],
         "yaxis": "y"
        }
       ],
       "layout": {
        "barmode": "relative",
        "legend": {
         "tracegroupgap": 0
        },
        "template": {
         "data": {
          "bar": [
           {
            "error_x": {
             "color": "#2a3f5f"
            },
            "error_y": {
             "color": "#2a3f5f"
            },
            "marker": {
             "line": {
              "color": "#E5ECF6",
              "width": 0.5
             },
             "pattern": {
              "fillmode": "overlay",
              "size": 10,
              "solidity": 0.2
             }
            },
            "type": "bar"
           }
          ],
          "barpolar": [
           {
            "marker": {
             "line": {
              "color": "#E5ECF6",
              "width": 0.5
             },
             "pattern": {
              "fillmode": "overlay",
              "size": 10,
              "solidity": 0.2
             }
            },
            "type": "barpolar"
           }
          ],
          "carpet": [
           {
            "aaxis": {
             "endlinecolor": "#2a3f5f",
             "gridcolor": "white",
             "linecolor": "white",
             "minorgridcolor": "white",
             "startlinecolor": "#2a3f5f"
            },
            "baxis": {
             "endlinecolor": "#2a3f5f",
             "gridcolor": "white",
             "linecolor": "white",
             "minorgridcolor": "white",
             "startlinecolor": "#2a3f5f"
            },
            "type": "carpet"
           }
          ],
          "choropleth": [
           {
            "colorbar": {
             "outlinewidth": 0,
             "ticks": ""
            },
            "type": "choropleth"
           }
          ],
          "contour": [
           {
            "colorbar": {
             "outlinewidth": 0,
             "ticks": ""
            },
            "colorscale": [
             [
              0,
              "#0d0887"
             ],
             [
              0.1111111111111111,
              "#46039f"
             ],
             [
              0.2222222222222222,
              "#7201a8"
             ],
             [
              0.3333333333333333,
              "#9c179e"
             ],
             [
              0.4444444444444444,
              "#bd3786"
             ],
             [
              0.5555555555555556,
              "#d8576b"
             ],
             [
              0.6666666666666666,
              "#ed7953"
             ],
             [
              0.7777777777777778,
              "#fb9f3a"
             ],
             [
              0.8888888888888888,
              "#fdca26"
             ],
             [
              1,
              "#f0f921"
             ]
            ],
            "type": "contour"
           }
          ],
          "contourcarpet": [
           {
            "colorbar": {
             "outlinewidth": 0,
             "ticks": ""
            },
            "type": "contourcarpet"
           }
          ],
          "heatmap": [
           {
            "colorbar": {
             "outlinewidth": 0,
             "ticks": ""
            },
            "colorscale": [
             [
              0,
              "#0d0887"
             ],
             [
              0.1111111111111111,
              "#46039f"
             ],
             [
              0.2222222222222222,
              "#7201a8"
             ],
             [
              0.3333333333333333,
              "#9c179e"
             ],
             [
              0.4444444444444444,
              "#bd3786"
             ],
             [
              0.5555555555555556,
              "#d8576b"
             ],
             [
              0.6666666666666666,
              "#ed7953"
             ],
             [
              0.7777777777777778,
              "#fb9f3a"
             ],
             [
              0.8888888888888888,
              "#fdca26"
             ],
             [
              1,
              "#f0f921"
             ]
            ],
            "type": "heatmap"
           }
          ],
          "heatmapgl": [
           {
            "colorbar": {
             "outlinewidth": 0,
             "ticks": ""
            },
            "colorscale": [
             [
              0,
              "#0d0887"
             ],
             [
              0.1111111111111111,
              "#46039f"
             ],
             [
              0.2222222222222222,
              "#7201a8"
             ],
             [
              0.3333333333333333,
              "#9c179e"
             ],
             [
              0.4444444444444444,
              "#bd3786"
             ],
             [
              0.5555555555555556,
              "#d8576b"
             ],
             [
              0.6666666666666666,
              "#ed7953"
             ],
             [
              0.7777777777777778,
              "#fb9f3a"
             ],
             [
              0.8888888888888888,
              "#fdca26"
             ],
             [
              1,
              "#f0f921"
             ]
            ],
            "type": "heatmapgl"
           }
          ],
          "histogram": [
           {
            "marker": {
             "pattern": {
              "fillmode": "overlay",
              "size": 10,
              "solidity": 0.2
             }
            },
            "type": "histogram"
           }
          ],
          "histogram2d": [
           {
            "colorbar": {
             "outlinewidth": 0,
             "ticks": ""
            },
            "colorscale": [
             [
              0,
              "#0d0887"
             ],
             [
              0.1111111111111111,
              "#46039f"
             ],
             [
              0.2222222222222222,
              "#7201a8"
             ],
             [
              0.3333333333333333,
              "#9c179e"
             ],
             [
              0.4444444444444444,
              "#bd3786"
             ],
             [
              0.5555555555555556,
              "#d8576b"
             ],
             [
              0.6666666666666666,
              "#ed7953"
             ],
             [
              0.7777777777777778,
              "#fb9f3a"
             ],
             [
              0.8888888888888888,
              "#fdca26"
             ],
             [
              1,
              "#f0f921"
             ]
            ],
            "type": "histogram2d"
           }
          ],
          "histogram2dcontour": [
           {
            "colorbar": {
             "outlinewidth": 0,
             "ticks": ""
            },
            "colorscale": [
             [
              0,
              "#0d0887"
             ],
             [
              0.1111111111111111,
              "#46039f"
             ],
             [
              0.2222222222222222,
              "#7201a8"
             ],
             [
              0.3333333333333333,
              "#9c179e"
             ],
             [
              0.4444444444444444,
              "#bd3786"
             ],
             [
              0.5555555555555556,
              "#d8576b"
             ],
             [
              0.6666666666666666,
              "#ed7953"
             ],
             [
              0.7777777777777778,
              "#fb9f3a"
             ],
             [
              0.8888888888888888,
              "#fdca26"
             ],
             [
              1,
              "#f0f921"
             ]
            ],
            "type": "histogram2dcontour"
           }
          ],
          "mesh3d": [
           {
            "colorbar": {
             "outlinewidth": 0,
             "ticks": ""
            },
            "type": "mesh3d"
           }
          ],
          "parcoords": [
           {
            "line": {
             "colorbar": {
              "outlinewidth": 0,
              "ticks": ""
             }
            },
            "type": "parcoords"
           }
          ],
          "pie": [
           {
            "automargin": true,
            "type": "pie"
           }
          ],
          "scatter": [
           {
            "marker": {
             "colorbar": {
              "outlinewidth": 0,
              "ticks": ""
             }
            },
            "type": "scatter"
           }
          ],
          "scatter3d": [
           {
            "line": {
             "colorbar": {
              "outlinewidth": 0,
              "ticks": ""
             }
            },
            "marker": {
             "colorbar": {
              "outlinewidth": 0,
              "ticks": ""
             }
            },
            "type": "scatter3d"
           }
          ],
          "scattercarpet": [
           {
            "marker": {
             "colorbar": {
              "outlinewidth": 0,
              "ticks": ""
             }
            },
            "type": "scattercarpet"
           }
          ],
          "scattergeo": [
           {
            "marker": {
             "colorbar": {
              "outlinewidth": 0,
              "ticks": ""
             }
            },
            "type": "scattergeo"
           }
          ],
          "scattergl": [
           {
            "marker": {
             "colorbar": {
              "outlinewidth": 0,
              "ticks": ""
             }
            },
            "type": "scattergl"
           }
          ],
          "scattermapbox": [
           {
            "marker": {
             "colorbar": {
              "outlinewidth": 0,
              "ticks": ""
             }
            },
            "type": "scattermapbox"
           }
          ],
          "scatterpolar": [
           {
            "marker": {
             "colorbar": {
              "outlinewidth": 0,
              "ticks": ""
             }
            },
            "type": "scatterpolar"
           }
          ],
          "scatterpolargl": [
           {
            "marker": {
             "colorbar": {
              "outlinewidth": 0,
              "ticks": ""
             }
            },
            "type": "scatterpolargl"
           }
          ],
          "scatterternary": [
           {
            "marker": {
             "colorbar": {
              "outlinewidth": 0,
              "ticks": ""
             }
            },
            "type": "scatterternary"
           }
          ],
          "surface": [
           {
            "colorbar": {
             "outlinewidth": 0,
             "ticks": ""
            },
            "colorscale": [
             [
              0,
              "#0d0887"
             ],
             [
              0.1111111111111111,
              "#46039f"
             ],
             [
              0.2222222222222222,
              "#7201a8"
             ],
             [
              0.3333333333333333,
              "#9c179e"
             ],
             [
              0.4444444444444444,
              "#bd3786"
             ],
             [
              0.5555555555555556,
              "#d8576b"
             ],
             [
              0.6666666666666666,
              "#ed7953"
             ],
             [
              0.7777777777777778,
              "#fb9f3a"
             ],
             [
              0.8888888888888888,
              "#fdca26"
             ],
             [
              1,
              "#f0f921"
             ]
            ],
            "type": "surface"
           }
          ],
          "table": [
           {
            "cells": {
             "fill": {
              "color": "#EBF0F8"
             },
             "line": {
              "color": "white"
             }
            },
            "header": {
             "fill": {
              "color": "#C8D4E3"
             },
             "line": {
              "color": "white"
             }
            },
            "type": "table"
           }
          ]
         },
         "layout": {
          "annotationdefaults": {
           "arrowcolor": "#2a3f5f",
           "arrowhead": 0,
           "arrowwidth": 1
          },
          "autotypenumbers": "strict",
          "coloraxis": {
           "colorbar": {
            "outlinewidth": 0,
            "ticks": ""
           }
          },
          "colorscale": {
           "diverging": [
            [
             0,
             "#8e0152"
            ],
            [
             0.1,
             "#c51b7d"
            ],
            [
             0.2,
             "#de77ae"
            ],
            [
             0.3,
             "#f1b6da"
            ],
            [
             0.4,
             "#fde0ef"
            ],
            [
             0.5,
             "#f7f7f7"
            ],
            [
             0.6,
             "#e6f5d0"
            ],
            [
             0.7,
             "#b8e186"
            ],
            [
             0.8,
             "#7fbc41"
            ],
            [
             0.9,
             "#4d9221"
            ],
            [
             1,
             "#276419"
            ]
           ],
           "sequential": [
            [
             0,
             "#0d0887"
            ],
            [
             0.1111111111111111,
             "#46039f"
            ],
            [
             0.2222222222222222,
             "#7201a8"
            ],
            [
             0.3333333333333333,
             "#9c179e"
            ],
            [
             0.4444444444444444,
             "#bd3786"
            ],
            [
             0.5555555555555556,
             "#d8576b"
            ],
            [
             0.6666666666666666,
             "#ed7953"
            ],
            [
             0.7777777777777778,
             "#fb9f3a"
            ],
            [
             0.8888888888888888,
             "#fdca26"
            ],
            [
             1,
             "#f0f921"
            ]
           ],
           "sequentialminus": [
            [
             0,
             "#0d0887"
            ],
            [
             0.1111111111111111,
             "#46039f"
            ],
            [
             0.2222222222222222,
             "#7201a8"
            ],
            [
             0.3333333333333333,
             "#9c179e"
            ],
            [
             0.4444444444444444,
             "#bd3786"
            ],
            [
             0.5555555555555556,
             "#d8576b"
            ],
            [
             0.6666666666666666,
             "#ed7953"
            ],
            [
             0.7777777777777778,
             "#fb9f3a"
            ],
            [
             0.8888888888888888,
             "#fdca26"
            ],
            [
             1,
             "#f0f921"
            ]
           ]
          },
          "colorway": [
           "#636efa",
           "#EF553B",
           "#00cc96",
           "#ab63fa",
           "#FFA15A",
           "#19d3f3",
           "#FF6692",
           "#B6E880",
           "#FF97FF",
           "#FECB52"
          ],
          "font": {
           "color": "#2a3f5f"
          },
          "geo": {
           "bgcolor": "white",
           "lakecolor": "white",
           "landcolor": "#E5ECF6",
           "showlakes": true,
           "showland": true,
           "subunitcolor": "white"
          },
          "hoverlabel": {
           "align": "left"
          },
          "hovermode": "closest",
          "mapbox": {
           "style": "light"
          },
          "paper_bgcolor": "white",
          "plot_bgcolor": "#E5ECF6",
          "polar": {
           "angularaxis": {
            "gridcolor": "white",
            "linecolor": "white",
            "ticks": ""
           },
           "bgcolor": "#E5ECF6",
           "radialaxis": {
            "gridcolor": "white",
            "linecolor": "white",
            "ticks": ""
           }
          },
          "scene": {
           "xaxis": {
            "backgroundcolor": "#E5ECF6",
            "gridcolor": "white",
            "gridwidth": 2,
            "linecolor": "white",
            "showbackground": true,
            "ticks": "",
            "zerolinecolor": "white"
           },
           "yaxis": {
            "backgroundcolor": "#E5ECF6",
            "gridcolor": "white",
            "gridwidth": 2,
            "linecolor": "white",
            "showbackground": true,
            "ticks": "",
            "zerolinecolor": "white"
           },
           "zaxis": {
            "backgroundcolor": "#E5ECF6",
            "gridcolor": "white",
            "gridwidth": 2,
            "linecolor": "white",
            "showbackground": true,
            "ticks": "",
            "zerolinecolor": "white"
           }
          },
          "shapedefaults": {
           "line": {
            "color": "#2a3f5f"
           }
          },
          "ternary": {
           "aaxis": {
            "gridcolor": "white",
            "linecolor": "white",
            "ticks": ""
           },
           "baxis": {
            "gridcolor": "white",
            "linecolor": "white",
            "ticks": ""
           },
           "bgcolor": "#E5ECF6",
           "caxis": {
            "gridcolor": "white",
            "linecolor": "white",
            "ticks": ""
           }
          },
          "title": {
           "x": 0.05
          },
          "xaxis": {
           "automargin": true,
           "gridcolor": "white",
           "linecolor": "white",
           "ticks": "",
           "title": {
            "standoff": 15
           },
           "zerolinecolor": "white",
           "zerolinewidth": 2
          },
          "yaxis": {
           "automargin": true,
           "gridcolor": "white",
           "linecolor": "white",
           "ticks": "",
           "title": {
            "standoff": 15
           },
           "zerolinecolor": "white",
           "zerolinewidth": 2
          }
         }
        },
        "title": {
         "text": "Top 100 average daily stream per song by artists"
        },
        "xaxis": {
         "anchor": "y",
         "domain": [
          0,
          1
         ],
         "title": {
          "text": "Average daily stream per song"
         }
        },
        "yaxis": {
         "anchor": "x",
         "domain": [
          0,
          1
         ],
         "title": {
          "text": "Artist(s)"
         }
        }
       }
      },
      "text/html": [
       "<div>                            <div id=\"47700cd1-43fc-488b-ae58-367d645dbf10\" class=\"plotly-graph-div\" style=\"height:525px; width:100%;\"></div>            <script type=\"text/javascript\">                require([\"plotly\"], function(Plotly) {                    window.PLOTLYENV=window.PLOTLYENV || {};                                    if (document.getElementById(\"47700cd1-43fc-488b-ae58-367d645dbf10\")) {                    Plotly.newPlot(                        \"47700cd1-43fc-488b-ae58-367d645dbf10\",                        [{\"alignmentgroup\":\"True\",\"hovertemplate\":\"average_daily_stream_per_song=%{x}<br>artist(s)=%{y}<extra></extra>\",\"legendgroup\":\"\",\"marker\":{\"color\":\"#636efa\",\"pattern\":{\"shape\":\"\"}},\"name\":\"\",\"offsetgroup\":\"\",\"orientation\":\"h\",\"showlegend\":false,\"textposition\":\"auto\",\"x\":[3046107.3394285715,2829139.9770114943,2792231.2,2644376.3996101366,2510031.0418118467,2401370.4956709957,2318564.587912088,2298037.329638258,2228319.74691358,2217857.1842105263,2202812.786476868,2191486.205776173,2137583.2702702703,2107258.7259001164,2044744.813749001,1975375.93728223,1719562.8283313324,1630918.2308488614,1601122.8266033253,1599321.7633986927,1528175.2263222632,1494463.3049494412,1493871.9768009768,1471783.6483146066,1470260.087431694,1464986.4853090171,1459713.2857142857,1420340.1904761905,1397525.2724358975,1387267.2669387755,1378519.1077350113,1372255.6952380952,1368254.0163265306,1341156.4739583333,1332095.0854978354,1330785.1027568923,1315829.5469564628,1312142.2978823555,1246142.3602150537,1237869.3399014778,1210521.444088803,1209710.679592197,1199538.605952381,1188238.5981161695,1155686.5458199356,1147793.8675799086,1141907.2908514014,1138770.0608899298,1136567.2321428573,1130927.4267302905,1115921.9926739926,1115084.9487804878,1101748.1153846155,1090474.027173913,1087392.248861912,1070653.4529616726,1063578.2832512315,1058138.9071452501,1049475.0514285713,1047120.0367923602,1029476.5517826825,1029452.0414078675,1025274.6098901099,1022891.8336951802,1022069.4693877551,1017128.5325969937,1009869.3071428571,1005118.058910162,1003859.2021857924,999613.8786501178,985441.0063532401,976600.5683288922,970297.5867000357,966429.528957529,963582.458919319,956484.399496337,955100.7368421053,954691.7152658663,954565.6645962733,950599.6816326531,945702.2861313869,935771.2452961253,934328.5247346036,933153.2279411765,928657.7619047619,927107.1826111827,916012.0892857143,915504.868852459,910356.507311586,907816.1388503503,899414.3080638442,896572.3200549451,891257.8762636473,889763.6458221024,888458.1677797316,887524.7674706246,884816.5140073082,884065.6976744186,882862.7185430464,874075.461929978],\"xaxis\":\"x\",\"y\":[\"Justin Bieber, The Kid Laroi\",\"Sam Smith, Kim Petras\",\"Eslabon Armado, Peso Pluma\",\"Bizarrap, Quevedo\",\"Chencho Corleone, Bad Bunny\",\"Bebe Rexha, David Guetta\",\"The Weeknd, 21 Savage, Metro Boomin\",\"Miley Cyrus\",\"Shakira, Bizarrap\",\"Bad Bunny, Grupo Frontera\",\"Karol G, Shakira\",\"Manuel Turizo\",\"Peso Pluma, Yng Lvcas\",\"Jack Harlow, Lil Nas X\",\"Glass Animals\",\"Bomba Est\\u00ef\\u00bf\\u00bd\\u00ef\\u00bf\\u00bdreo, Bad B\",\"Tones and I\",\"SZA, Doja Cat\",\"Ozuna, Feid\",\"Imagine Dragons, League of Legends, Arcane\",\"Shawn Mendes, Camila Cabello\",\"Post Malone, Swae Lee\",\"Imagine Dragons, League of Legends, JID, Arcane\",\"Farruko\",\"Arcangel, Bad Bunny\",\"Justin Bieber, Daniel Caesar, Giveon\",\"R\\u00ef\\u00bf\\u00bd\\u00ef\\u00bf\\u00bdma, Selena G\",\"Rauw Alejandro, ROSAL\\u00ef\\u00bf\\u00bd\",\"Natanael Cano, Peso Pluma\",\"24kgoldn, Iann Dior\",\"Ariana Grande, The Weeknd\",\"Charlie Puth, BTS, Jung Kook\",\"Feid, Young Miko\",\"Dua Lipa, DaBaby\",\"Juan Cruz Toledo, Huilen Toledo\",\"Coldplay, BTS\",\"d4vd\",\"Bad Bunny, Jhay Cortez\",\"Natanael Cano, Gabito Ballesteros, Peso Pluma\",\"Meghan Trainor\",\"Olivia Rodrigo\",\"OneRepublic\",\"Gayle\",\"Camila Cabello, Ed Sheeran\",\"Rosa Linn\",\"Maroon 5\",\"Lady Gaga, Bradley Cooper\",\"Lost Frequencies, Calum Scott\",\"Fifty Fifty\",\"Lil Nas X\",\"Post Malone, Doja Cat\",\"Lil Uzi Vert\",\"Future, Chris Brown, Metro Boomin\",\"Bizarrap, Peso Pluma\",\"Karol G, Becky G\",\"Bad Bunny, Rauw Alejandro\",\"Lisa\",\"Lewis Capaldi\",\"Fuerza Regida, Grupo Frontera\",\"Lizzo\",\"Shakira, Rauw Alejandro\",\"Robin Schulz, Oliver Tree\",\"Libianca\",\"Billie Eilish, Khalid\",\"Em Beihold, Stephen Sanchez\",\"Joji\",\"Latto, Jung Kook\",\"Cris Mj\",\"Dave, Central Cee\",\"ROSAL\\u00ef\\u00bf\\u00bd\",\"Julieta Venegas, Bad Bunny, Tainy\",\"The Weeknd, Daft Punk\",\"Drake, WizKid, Kyla\",\"Bad Bunny, Eladio Carrion\",\"Conan Gray\",\"JVKE\",\"Brray, Rauw Alejandro, Lyanno\",\"Drake, Future, Tems\",\"Oscar Maydon, Junior H\",\"JISOO\",\"The Chainsmokers, Halsey\",\"Dua Lipa\",\"BLACKPINK\",\"Ozuna, Shakira\",\"David Kushner\",\"Jimin\",\"Kali Uchis\",\"Coi Leray\",\"Chencho Corleone, Rauw Alejandro\",\"Central Cee\",\"Yandel, Feid\",\"Nicky Youre, Dazy\",\"The Chainsmokers, Coldplay\",\"RAYE, 070 Shake\",\"Ed Sheeran\",\"J Balvin, Bad Bunny\",\"Stephen Sanchez\",\"Nengo Flow, Bad Bunny\",\"Karol G, Romeo Santos\",\"Bad Bunny\"],\"yaxis\":\"y\",\"type\":\"bar\"}],                        {\"template\":{\"data\":{\"bar\":[{\"error_x\":{\"color\":\"#2a3f5f\"},\"error_y\":{\"color\":\"#2a3f5f\"},\"marker\":{\"line\":{\"color\":\"#E5ECF6\",\"width\":0.5},\"pattern\":{\"fillmode\":\"overlay\",\"size\":10,\"solidity\":0.2}},\"type\":\"bar\"}],\"barpolar\":[{\"marker\":{\"line\":{\"color\":\"#E5ECF6\",\"width\":0.5},\"pattern\":{\"fillmode\":\"overlay\",\"size\":10,\"solidity\":0.2}},\"type\":\"barpolar\"}],\"carpet\":[{\"aaxis\":{\"endlinecolor\":\"#2a3f5f\",\"gridcolor\":\"white\",\"linecolor\":\"white\",\"minorgridcolor\":\"white\",\"startlinecolor\":\"#2a3f5f\"},\"baxis\":{\"endlinecolor\":\"#2a3f5f\",\"gridcolor\":\"white\",\"linecolor\":\"white\",\"minorgridcolor\":\"white\",\"startlinecolor\":\"#2a3f5f\"},\"type\":\"carpet\"}],\"choropleth\":[{\"colorbar\":{\"outlinewidth\":0,\"ticks\":\"\"},\"type\":\"choropleth\"}],\"contour\":[{\"colorbar\":{\"outlinewidth\":0,\"ticks\":\"\"},\"colorscale\":[[0.0,\"#0d0887\"],[0.1111111111111111,\"#46039f\"],[0.2222222222222222,\"#7201a8\"],[0.3333333333333333,\"#9c179e\"],[0.4444444444444444,\"#bd3786\"],[0.5555555555555556,\"#d8576b\"],[0.6666666666666666,\"#ed7953\"],[0.7777777777777778,\"#fb9f3a\"],[0.8888888888888888,\"#fdca26\"],[1.0,\"#f0f921\"]],\"type\":\"contour\"}],\"contourcarpet\":[{\"colorbar\":{\"outlinewidth\":0,\"ticks\":\"\"},\"type\":\"contourcarpet\"}],\"heatmap\":[{\"colorbar\":{\"outlinewidth\":0,\"ticks\":\"\"},\"colorscale\":[[0.0,\"#0d0887\"],[0.1111111111111111,\"#46039f\"],[0.2222222222222222,\"#7201a8\"],[0.3333333333333333,\"#9c179e\"],[0.4444444444444444,\"#bd3786\"],[0.5555555555555556,\"#d8576b\"],[0.6666666666666666,\"#ed7953\"],[0.7777777777777778,\"#fb9f3a\"],[0.8888888888888888,\"#fdca26\"],[1.0,\"#f0f921\"]],\"type\":\"heatmap\"}],\"heatmapgl\":[{\"colorbar\":{\"outlinewidth\":0,\"ticks\":\"\"},\"colorscale\":[[0.0,\"#0d0887\"],[0.1111111111111111,\"#46039f\"],[0.2222222222222222,\"#7201a8\"],[0.3333333333333333,\"#9c179e\"],[0.4444444444444444,\"#bd3786\"],[0.5555555555555556,\"#d8576b\"],[0.6666666666666666,\"#ed7953\"],[0.7777777777777778,\"#fb9f3a\"],[0.8888888888888888,\"#fdca26\"],[1.0,\"#f0f921\"]],\"type\":\"heatmapgl\"}],\"histogram\":[{\"marker\":{\"pattern\":{\"fillmode\":\"overlay\",\"size\":10,\"solidity\":0.2}},\"type\":\"histogram\"}],\"histogram2d\":[{\"colorbar\":{\"outlinewidth\":0,\"ticks\":\"\"},\"colorscale\":[[0.0,\"#0d0887\"],[0.1111111111111111,\"#46039f\"],[0.2222222222222222,\"#7201a8\"],[0.3333333333333333,\"#9c179e\"],[0.4444444444444444,\"#bd3786\"],[0.5555555555555556,\"#d8576b\"],[0.6666666666666666,\"#ed7953\"],[0.7777777777777778,\"#fb9f3a\"],[0.8888888888888888,\"#fdca26\"],[1.0,\"#f0f921\"]],\"type\":\"histogram2d\"}],\"histogram2dcontour\":[{\"colorbar\":{\"outlinewidth\":0,\"ticks\":\"\"},\"colorscale\":[[0.0,\"#0d0887\"],[0.1111111111111111,\"#46039f\"],[0.2222222222222222,\"#7201a8\"],[0.3333333333333333,\"#9c179e\"],[0.4444444444444444,\"#bd3786\"],[0.5555555555555556,\"#d8576b\"],[0.6666666666666666,\"#ed7953\"],[0.7777777777777778,\"#fb9f3a\"],[0.8888888888888888,\"#fdca26\"],[1.0,\"#f0f921\"]],\"type\":\"histogram2dcontour\"}],\"mesh3d\":[{\"colorbar\":{\"outlinewidth\":0,\"ticks\":\"\"},\"type\":\"mesh3d\"}],\"parcoords\":[{\"line\":{\"colorbar\":{\"outlinewidth\":0,\"ticks\":\"\"}},\"type\":\"parcoords\"}],\"pie\":[{\"automargin\":true,\"type\":\"pie\"}],\"scatter\":[{\"marker\":{\"colorbar\":{\"outlinewidth\":0,\"ticks\":\"\"}},\"type\":\"scatter\"}],\"scatter3d\":[{\"line\":{\"colorbar\":{\"outlinewidth\":0,\"ticks\":\"\"}},\"marker\":{\"colorbar\":{\"outlinewidth\":0,\"ticks\":\"\"}},\"type\":\"scatter3d\"}],\"scattercarpet\":[{\"marker\":{\"colorbar\":{\"outlinewidth\":0,\"ticks\":\"\"}},\"type\":\"scattercarpet\"}],\"scattergeo\":[{\"marker\":{\"colorbar\":{\"outlinewidth\":0,\"ticks\":\"\"}},\"type\":\"scattergeo\"}],\"scattergl\":[{\"marker\":{\"colorbar\":{\"outlinewidth\":0,\"ticks\":\"\"}},\"type\":\"scattergl\"}],\"scattermapbox\":[{\"marker\":{\"colorbar\":{\"outlinewidth\":0,\"ticks\":\"\"}},\"type\":\"scattermapbox\"}],\"scatterpolar\":[{\"marker\":{\"colorbar\":{\"outlinewidth\":0,\"ticks\":\"\"}},\"type\":\"scatterpolar\"}],\"scatterpolargl\":[{\"marker\":{\"colorbar\":{\"outlinewidth\":0,\"ticks\":\"\"}},\"type\":\"scatterpolargl\"}],\"scatterternary\":[{\"marker\":{\"colorbar\":{\"outlinewidth\":0,\"ticks\":\"\"}},\"type\":\"scatterternary\"}],\"surface\":[{\"colorbar\":{\"outlinewidth\":0,\"ticks\":\"\"},\"colorscale\":[[0.0,\"#0d0887\"],[0.1111111111111111,\"#46039f\"],[0.2222222222222222,\"#7201a8\"],[0.3333333333333333,\"#9c179e\"],[0.4444444444444444,\"#bd3786\"],[0.5555555555555556,\"#d8576b\"],[0.6666666666666666,\"#ed7953\"],[0.7777777777777778,\"#fb9f3a\"],[0.8888888888888888,\"#fdca26\"],[1.0,\"#f0f921\"]],\"type\":\"surface\"}],\"table\":[{\"cells\":{\"fill\":{\"color\":\"#EBF0F8\"},\"line\":{\"color\":\"white\"}},\"header\":{\"fill\":{\"color\":\"#C8D4E3\"},\"line\":{\"color\":\"white\"}},\"type\":\"table\"}]},\"layout\":{\"annotationdefaults\":{\"arrowcolor\":\"#2a3f5f\",\"arrowhead\":0,\"arrowwidth\":1},\"autotypenumbers\":\"strict\",\"coloraxis\":{\"colorbar\":{\"outlinewidth\":0,\"ticks\":\"\"}},\"colorscale\":{\"diverging\":[[0,\"#8e0152\"],[0.1,\"#c51b7d\"],[0.2,\"#de77ae\"],[0.3,\"#f1b6da\"],[0.4,\"#fde0ef\"],[0.5,\"#f7f7f7\"],[0.6,\"#e6f5d0\"],[0.7,\"#b8e186\"],[0.8,\"#7fbc41\"],[0.9,\"#4d9221\"],[1,\"#276419\"]],\"sequential\":[[0.0,\"#0d0887\"],[0.1111111111111111,\"#46039f\"],[0.2222222222222222,\"#7201a8\"],[0.3333333333333333,\"#9c179e\"],[0.4444444444444444,\"#bd3786\"],[0.5555555555555556,\"#d8576b\"],[0.6666666666666666,\"#ed7953\"],[0.7777777777777778,\"#fb9f3a\"],[0.8888888888888888,\"#fdca26\"],[1.0,\"#f0f921\"]],\"sequentialminus\":[[0.0,\"#0d0887\"],[0.1111111111111111,\"#46039f\"],[0.2222222222222222,\"#7201a8\"],[0.3333333333333333,\"#9c179e\"],[0.4444444444444444,\"#bd3786\"],[0.5555555555555556,\"#d8576b\"],[0.6666666666666666,\"#ed7953\"],[0.7777777777777778,\"#fb9f3a\"],[0.8888888888888888,\"#fdca26\"],[1.0,\"#f0f921\"]]},\"colorway\":[\"#636efa\",\"#EF553B\",\"#00cc96\",\"#ab63fa\",\"#FFA15A\",\"#19d3f3\",\"#FF6692\",\"#B6E880\",\"#FF97FF\",\"#FECB52\"],\"font\":{\"color\":\"#2a3f5f\"},\"geo\":{\"bgcolor\":\"white\",\"lakecolor\":\"white\",\"landcolor\":\"#E5ECF6\",\"showlakes\":true,\"showland\":true,\"subunitcolor\":\"white\"},\"hoverlabel\":{\"align\":\"left\"},\"hovermode\":\"closest\",\"mapbox\":{\"style\":\"light\"},\"paper_bgcolor\":\"white\",\"plot_bgcolor\":\"#E5ECF6\",\"polar\":{\"angularaxis\":{\"gridcolor\":\"white\",\"linecolor\":\"white\",\"ticks\":\"\"},\"bgcolor\":\"#E5ECF6\",\"radialaxis\":{\"gridcolor\":\"white\",\"linecolor\":\"white\",\"ticks\":\"\"}},\"scene\":{\"xaxis\":{\"backgroundcolor\":\"#E5ECF6\",\"gridcolor\":\"white\",\"gridwidth\":2,\"linecolor\":\"white\",\"showbackground\":true,\"ticks\":\"\",\"zerolinecolor\":\"white\"},\"yaxis\":{\"backgroundcolor\":\"#E5ECF6\",\"gridcolor\":\"white\",\"gridwidth\":2,\"linecolor\":\"white\",\"showbackground\":true,\"ticks\":\"\",\"zerolinecolor\":\"white\"},\"zaxis\":{\"backgroundcolor\":\"#E5ECF6\",\"gridcolor\":\"white\",\"gridwidth\":2,\"linecolor\":\"white\",\"showbackground\":true,\"ticks\":\"\",\"zerolinecolor\":\"white\"}},\"shapedefaults\":{\"line\":{\"color\":\"#2a3f5f\"}},\"ternary\":{\"aaxis\":{\"gridcolor\":\"white\",\"linecolor\":\"white\",\"ticks\":\"\"},\"baxis\":{\"gridcolor\":\"white\",\"linecolor\":\"white\",\"ticks\":\"\"},\"bgcolor\":\"#E5ECF6\",\"caxis\":{\"gridcolor\":\"white\",\"linecolor\":\"white\",\"ticks\":\"\"}},\"title\":{\"x\":0.05},\"xaxis\":{\"automargin\":true,\"gridcolor\":\"white\",\"linecolor\":\"white\",\"ticks\":\"\",\"title\":{\"standoff\":15},\"zerolinecolor\":\"white\",\"zerolinewidth\":2},\"yaxis\":{\"automargin\":true,\"gridcolor\":\"white\",\"linecolor\":\"white\",\"ticks\":\"\",\"title\":{\"standoff\":15},\"zerolinecolor\":\"white\",\"zerolinewidth\":2}}},\"xaxis\":{\"anchor\":\"y\",\"domain\":[0.0,1.0],\"title\":{\"text\":\"Average daily stream per song\"}},\"yaxis\":{\"anchor\":\"x\",\"domain\":[0.0,1.0],\"title\":{\"text\":\"Artist(s)\"}},\"legend\":{\"tracegroupgap\":0},\"title\":{\"text\":\"Top 100 average daily stream per song by artists\"},\"barmode\":\"relative\"},                        {\"responsive\": true}                    ).then(function(){\n",
       "                            \n",
       "var gd = document.getElementById('47700cd1-43fc-488b-ae58-367d645dbf10');\n",
       "var x = new MutationObserver(function (mutations, observer) {{\n",
       "        var display = window.getComputedStyle(gd).display;\n",
       "        if (!display || display === 'none') {{\n",
       "            console.log([gd, 'removed!']);\n",
       "            Plotly.purge(gd);\n",
       "            observer.disconnect();\n",
       "        }}\n",
       "}});\n",
       "\n",
       "// Listen for the removal of the full notebook cells\n",
       "var notebookContainer = gd.closest('#notebook-container');\n",
       "if (notebookContainer) {{\n",
       "    x.observe(notebookContainer, {childList: true});\n",
       "}}\n",
       "\n",
       "// Listen for the clearing of the current output cell\n",
       "var outputEl = gd.closest('.output');\n",
       "if (outputEl) {{\n",
       "    x.observe(outputEl, {childList: true});\n",
       "}}\n",
       "\n",
       "                        })                };                });            </script>        </div>"
      ]
     },
     "metadata": {},
     "output_type": "display_data"
    }
   ],
   "source": [
    "fig = px.bar(artists_daily_streams_top_100 , x = 'average_daily_stream_per_song', \n",
    "            y = 'artist(s)',\n",
    "            title = 'Top 100 average daily stream per song by artists')\n",
    "fig.update_layout(xaxis_title = 'Average daily stream per song',\n",
    "                 yaxis_title = 'Artist(s)')\n",
    "fig.show()"
   ]
  },
  {
   "cell_type": "markdown",
   "metadata": {},
   "source": [
    "In this category, we can see that most of the entries are songs sthat have multiple artists on it, suggesting that fans of each artists are combining to increase average daily stream numbers. Despite this, there aren't many collaborations as solo entries dominate the dataset. in the top 100 average daily stream per song analysis, there is one song which features both Ariana Grande and the Weeknd, however, the weeknd has 22 solo entries as evidenced in earlier analysis. "
   ]
  },
  {
   "cell_type": "code",
   "execution_count": null,
   "metadata": {},
   "outputs": [],
   "source": []
  }
 ],
 "metadata": {
  "kernelspec": {
   "display_name": "Python 3",
   "language": "python",
   "name": "python3"
  },
  "language_info": {
   "codemirror_mode": {
    "name": "ipython",
    "version": 3
   },
   "file_extension": ".py",
   "mimetype": "text/x-python",
   "name": "python",
   "nbconvert_exporter": "python",
   "pygments_lexer": "ipython3",
   "version": "3.8.5"
  }
 },
 "nbformat": 4,
 "nbformat_minor": 4
}
